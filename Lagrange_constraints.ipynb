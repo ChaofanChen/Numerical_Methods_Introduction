{
 "cells": [
  {
   "cell_type": "code",
   "execution_count": 120,
   "id": "93781b2a",
   "metadata": {},
   "outputs": [],
   "source": [
    "import numpy as np\n",
    "import matplotlib.pyplot as plt"
   ]
  },
  {
   "cell_type": "code",
   "execution_count": 121,
   "id": "6383ad0d",
   "metadata": {},
   "outputs": [],
   "source": [
    "E = 210e9\n",
    "A = 0.05**2\n",
    "h_1 = 0.5\n",
    "h_2 = 0.5"
   ]
  },
  {
   "cell_type": "code",
   "execution_count": 122,
   "id": "6b29a91b",
   "metadata": {},
   "outputs": [],
   "source": [
    "K_el = lambda h: E*A/h * np.matrix([[1,-1],[-1,1]])"
   ]
  },
  {
   "cell_type": "code",
   "execution_count": 123,
   "id": "95c7b2d5",
   "metadata": {},
   "outputs": [
    {
     "data": {
      "text/plain": [
       "array([[ 1.05e+09, -1.05e+09,  0.00e+00],\n",
       "       [-1.05e+09,  2.10e+09, -1.05e+09],\n",
       "       [ 0.00e+00, -1.05e+09,  1.05e+09]])"
      ]
     },
     "execution_count": 123,
     "metadata": {},
     "output_type": "execute_result"
    }
   ],
   "source": [
    "K_ref = np.zeros((3,3))\n",
    "K_ref[0:2,0:2] += K_el(h_1)\n",
    "K_ref[1:3,1:3] += K_el(h_2)\n",
    "K_ref"
   ]
  },
  {
   "cell_type": "code",
   "execution_count": 124,
   "id": "3b75bbb5",
   "metadata": {},
   "outputs": [
    {
     "data": {
      "text/plain": [
       "array([      0.,       0., 1000000.])"
      ]
     },
     "execution_count": 124,
     "metadata": {},
     "output_type": "execute_result"
    }
   ],
   "source": [
    "RHS_ref = np.zeros(3)\n",
    "RHS_ref[-1] = 1e6\n",
    "RHS_ref"
   ]
  },
  {
   "cell_type": "code",
   "execution_count": 125,
   "id": "86b77cc5",
   "metadata": {},
   "outputs": [
    {
     "data": {
      "text/plain": [
       "array([4.01064312e+08, 2.74893569e+09, 1.00000000e+00])"
      ]
     },
     "execution_count": 125,
     "metadata": {},
     "output_type": "execute_result"
    }
   ],
   "source": [
    "K_ref[0,:] = 0\n",
    "K_ref[0,0] = 1\n",
    "RHS_ref[0] = 0\n",
    "np.linalg.eigvals(K_ref)"
   ]
  },
  {
   "cell_type": "code",
   "execution_count": 126,
   "id": "2b1e8389",
   "metadata": {},
   "outputs": [
    {
     "name": "stdout",
     "output_type": "stream",
     "text": [
      "[-2.82762768e-21  9.52380952e-04  1.90476190e-03]\n"
     ]
    },
    {
     "data": {
      "text/plain": [
       "[<matplotlib.lines.Line2D at 0x2935c015760>]"
      ]
     },
     "execution_count": 126,
     "metadata": {},
     "output_type": "execute_result"
    },
    {
     "data": {
      "image/png": "[encoded data removed]",
      "text/plain": [
       "<Figure size 640x480 with 1 Axes>"
      ]
     },
     "metadata": {},
     "output_type": "display_data"
    }
   ],
   "source": [
    "u = np.linalg.solve(K_ref,RHS_ref)\n",
    "print(u)\n",
    "plt.plot(u,marker='d',ls='--')"
   ]
  },
  {
   "cell_type": "code",
   "execution_count": 127,
   "id": "21210d8e",
   "metadata": {},
   "outputs": [
    {
     "data": {
      "text/plain": [
       "matrix([[ 1.05e+09, -1.05e+09,  0.00e+00,  0.00e+00],\n",
       "        [-1.05e+09,  1.05e+09,  0.00e+00,  0.00e+00],\n",
       "        [ 0.00e+00,  0.00e+00,  1.05e+09, -1.05e+09],\n",
       "        [ 0.00e+00,  0.00e+00, -1.05e+09,  1.05e+09]])"
      ]
     },
     "execution_count": 127,
     "metadata": {},
     "output_type": "execute_result"
    }
   ],
   "source": [
    "K_sys = np.block([[K_el(h_1),np.zeros_like(K_el(h_1))],[np.zeros_like(K_el(h_1)),K_el(h_2)]])\n",
    "K_sys"
   ]
  },
  {
   "cell_type": "code",
   "execution_count": 128,
   "id": "e351ef81",
   "metadata": {},
   "outputs": [
    {
     "data": {
      "text/plain": [
       "array([      0.,       0.,       0., 1000000.])"
      ]
     },
     "execution_count": 128,
     "metadata": {},
     "output_type": "execute_result"
    }
   ],
   "source": [
    "RHS_sys = np.zeros(4)\n",
    "RHS_sys[-1] = 1e6\n",
    "RHS_sys"
   ]
  },
  {
   "cell_type": "code",
   "execution_count": 129,
   "id": "a811edfb",
   "metadata": {},
   "outputs": [
    {
     "data": {
      "text/plain": [
       "matrix([[ 1.00e+00,  0.00e+00,  0.00e+00,  0.00e+00],\n",
       "        [-1.05e+09,  1.05e+09,  0.00e+00,  0.00e+00],\n",
       "        [ 0.00e+00,  0.00e+00,  1.05e+09, -1.05e+09],\n",
       "        [ 0.00e+00,  0.00e+00, -1.05e+09,  1.05e+09]])"
      ]
     },
     "execution_count": 129,
     "metadata": {},
     "output_type": "execute_result"
    }
   ],
   "source": [
    "K_sys[0,:] = 0\n",
    "K_sys[0,0] = 1\n",
    "RHS_sys[0] = 0\n",
    "K_sys"
   ]
  },
  {
   "cell_type": "code",
   "execution_count": 135,
   "id": "347893d5",
   "metadata": {},
   "outputs": [
    {
     "data": {
      "text/plain": [
       "array([[ 0.e+00,  1.e+08, -1.e+08,  0.e+00]])"
      ]
     },
     "execution_count": 135,
     "metadata": {},
     "output_type": "execute_result"
    }
   ],
   "source": [
    "k_spring = 1e8\n",
    "C = np.array([[0,1,-1,0]])*k_spring\n",
    "C"
   ]
  },
  {
   "cell_type": "code",
   "execution_count": 136,
   "id": "1e9cd8a9",
   "metadata": {},
   "outputs": [
    {
     "data": {
      "text/plain": [
       "array([-7.65181397e+07,  6.46881782e+07,  1.05943820e+09,  2.10239176e+09,\n",
       "        1.00000000e+00])"
      ]
     },
     "execution_count": 136,
     "metadata": {},
     "output_type": "execute_result"
    }
   ],
   "source": [
    "K_lagr = np.zeros((5,5))\n",
    "K_lagr[0:4,0:4] += K_sys\n",
    "K_lagr[4:5,0:4] += C\n",
    "K_lagr[0:4,4:5] += C.T\n",
    "K_lagr\n",
    "np.linalg.eigvals(K_lagr)"
   ]
  },
  {
   "cell_type": "code",
   "execution_count": 137,
   "id": "cef2a1a4",
   "metadata": {},
   "outputs": [
    {
     "data": {
      "text/plain": [
       "array([      0.,       0.,       0., 1000000.,  -10000.])"
      ]
     },
     "execution_count": 137,
     "metadata": {},
     "output_type": "execute_result"
    }
   ],
   "source": [
    "RHS_lagr = np.append(RHS_sys,-1e-4*k_spring)\n",
    "RHS_lagr"
   ]
  },
  {
   "cell_type": "code",
   "execution_count": 138,
   "id": "8dd70e48",
   "metadata": {},
   "outputs": [
    {
     "data": {
      "text/plain": [
       "array([ 2.15426621e-19,  9.52380952e-04,  1.05238095e-03,  2.00476190e-03,\n",
       "       -1.00000000e-02])"
      ]
     },
     "execution_count": 138,
     "metadata": {},
     "output_type": "execute_result"
    }
   ],
   "source": [
    "u_lagr=np.linalg.solve(K_lagr,RHS_lagr)\n",
    "u_lagr"
   ]
  },
  {
   "cell_type": "code",
   "execution_count": 139,
   "id": "8534e1b3",
   "metadata": {},
   "outputs": [
    {
     "data": {
      "text/plain": [
       "[<matplotlib.lines.Line2D at 0x2935d108070>]"
      ]
     },
     "execution_count": 139,
     "metadata": {},
     "output_type": "execute_result"
    },
    {
     "data": {
      "image/png": "[encoded data removed]",
      "text/plain": [
       "<Figure size 640x480 with 1 Axes>"
      ]
     },
     "metadata": {},
     "output_type": "display_data"
    }
   ],
   "source": [
    "plt.plot(u,marker='d',ls='--')\n",
    "plt.plot(u_lagr[0:-1],marker='d',ls='--')"
   ]
  },
  {
   "cell_type": "code",
   "execution_count": null,
   "id": "e6fd7ba8",
   "metadata": {},
   "outputs": [],
   "source": []
  }
 ],
 "metadata": {
  "kernelspec": {
   "display_name": "Python 3 (ipykernel)",
   "language": "python",
   "name": "python3"
  },
  "language_info": {
   "codemirror_mode": {
    "name": "ipython",
    "version": 3
   },
   "file_extension": ".py",
   "mimetype": "text/x-python",
   "name": "python",
   "nbconvert_exporter": "python",
   "pygments_lexer": "ipython3",
   "version": "3.9.7"
  },
  "widgets": {
   "application/vnd.jupyter.widget-state+json": {
    "state": {},
    "version_major": 2,
    "version_minor": 0
   }
  }
 },
 "nbformat": 4,
 "nbformat_minor": 5
}
