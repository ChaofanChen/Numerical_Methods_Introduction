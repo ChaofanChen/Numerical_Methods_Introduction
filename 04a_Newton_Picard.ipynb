{
 "cells": [
  {
   "cell_type": "markdown",
   "metadata": {
    "deletable": false,
    "editable": false
   },
   "source": [
    "![Logo TUBAF](https://tu-freiberg.de/sites/default/files/media/freiberger-alumni-netzwerk-6127/wbm_orig_rgb_0.jpg)\n",
    "\n",
    "Exercise material of the MSc-level course **Numerical Methods in Geotechnical Engineering**.\n",
    "Held at Technische Universität Bergakademie Freiberg.\n",
    "\n",
    "Comments to:\n",
    "\n",
    "*Prof. Dr. Thomas Nagel  \n",
    "Chair of Soil Mechanics and Foundation Engineering  \n",
    "Geotechnical Institute  \n",
    "Technische Universität Bergakademie Freiberg.*\n",
    "\n",
    "https://tu-freiberg.de/en/fakultaet3/gt/soilmechanics\n"
   ]
  },
  {
   "cell_type": "markdown",
   "metadata": {},
   "source": [
    "# Iteration schemes and their convergence: Newton-Raphson and Picard"
   ]
  },
  {
   "cell_type": "markdown",
   "metadata": {},
   "source": [
    "# Example problem\n",
    "\n",
    "Given a function $f(x)$ we seek the solution $x^*$ such that $f(x^*) = 0$.\n",
    "\n",
    "Here, for illustrative purposes, we seek the solution to $f(x) = \\sin x$. Analytically, we find for this periodic function $x^*_n = n \\pi$ for $n \\in Z$. "
   ]
  },
  {
   "cell_type": "code",
   "execution_count": 75,
   "metadata": {},
   "outputs": [],
   "source": [
    "import numpy as np #numerical methods\n",
    "import matplotlib.pyplot as plt #plotting\n",
    "\n",
    "from ipywidgets import widgets\n",
    "from ipywidgets import interact\n",
    "\n",
    "#Some plot settings\n",
    "import plot_functions.plot_settings\n",
    "%run plot_functions/iteration_schemes_plots.ipynb"
   ]
  },
  {
   "cell_type": "markdown",
   "metadata": {},
   "source": [
    "Let's define the function:"
   ]
  },
  {
   "cell_type": "markdown",
   "metadata": {},
   "source": [
    "## Newton-Raphson scheme\n",
    "\n",
    "Anticipating an iterative scheme, we depart from the Taylor series expansion around the given solution $x_i$ in order to find the next solution $x_{i+1}$, which we truncate at first order and for which we demand equality to zero, as we're seeking $f(x^*) = 0$:\n",
    "\n",
    "$$\n",
    "    f(x_{i+1}) \\approx f(x_i) + \\left. \\frac{\\partial f(x)}{\\partial x} \\right|_{x_i} (x_{i+1} - x_{i}) \\overset{!}{=} 0\n",
    "$$\n",
    "\n",
    "By rearrangement, we find the iterative update procecture\n",
    "\n",
    "$$\n",
    "    x_{i+i} = x_i - \\left( \\left. \\frac{\\partial f(x)}{\\partial x} \\right|_{x_i} \\right)^{-1} f(x_i)\n",
    "$$\n",
    "\n",
    "The iteration is started at a starting guess $x_0$ which, ideally, is close to the sought solution. We will investigate it's role in the sequel.\n",
    "\n",
    "We stop the iteration once we're sufficiently close to zero:\n",
    "\n",
    "$$\n",
    "    |f(x_i)| < \\varepsilon_\\text{tol} \\quad \\text{with } \\varepsilon_\\text{tol} \\ll 1 \\quad \\rightarrow \\quad x^* \\approx x_i\n",
    "$$"
   ]
  },
  {
   "cell_type": "markdown",
   "metadata": {},
   "source": [
    "For the chosen problem we have:\n",
    "\n",
    "$$\n",
    "    f(x) = \\sin x \\quad \\rightarrow \\quad f'(x) = \\cos x\n",
    "$$"
   ]
  },
  {
   "cell_type": "code",
   "execution_count": 76,
   "metadata": {},
   "outputs": [
    {
     "data": {
      "application/vnd.jupyter.widget-view+json": {
       "model_id": "1c8660c3dbe24da4a123c482e72f019d",
       "version_major": 2,
       "version_minor": 0
      },
      "text/plain": [
       "interactive(children=(BoundedFloatText(value=0.7, description='$x_0$', max=2.0), IntSlider(value=0, descriptio…"
      ]
     },
     "metadata": {},
     "output_type": "display_data"
    }
   ],
   "source": [
    "plot_interactive_newton()"
   ]
  },
  {
   "cell_type": "markdown",
   "metadata": {},
   "source": [
    "### Tasks\n",
    "\n",
    "Increase the maximum iteration number one by one to see the iteration unfold. You can also play with the tolerance value.\n",
    "\n",
    "Now, keeping the tolerance fixed at $10^{-1}$ and the maximum iteration number at 10, answer the following questions.\n",
    "\n",
    "What happens -- and why -- if you \n",
    "\n",
    "* set the starting value to $x_0 = 2$?\n",
    "* set the starting value to $x_0 = 1.6$?\n",
    "* set the starting value to $x_0 = \\pi/2$ or multiples thereof?\n",
    "* increase the starting value from 1.15 to 1.2 in steps of 0.01?\n",
    "\n",
    "Note your observations in terms of the solution found, the rate of convergence, etc."
   ]
  },
  {
   "cell_type": "code",
   "execution_count": null,
   "metadata": {},
   "outputs": [],
   "source": []
  }
 ],
 "metadata": {
  "kernelspec": {
   "display_name": "Python 3",
   "language": "python",
   "name": "python3"
  },
  "language_info": {
   "codemirror_mode": {
    "name": "ipython",
    "version": 3
   },
   "file_extension": ".py",
   "mimetype": "text/x-python",
   "name": "python",
   "nbconvert_exporter": "python",
   "pygments_lexer": "ipython3",
   "version": "3.8.6"
  }
 },
 "nbformat": 4,
 "nbformat_minor": 4
}
