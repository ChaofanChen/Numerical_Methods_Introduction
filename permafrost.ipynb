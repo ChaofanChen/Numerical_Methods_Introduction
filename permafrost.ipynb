{
  "cells": [
    {
      "cell_type": "markdown",
      "metadata": {
        "deletable": false,
        "editable": false
      },
      "source": [
        "<div style=\"display: flex; align-items: center;\">\n",
        "    <img src=\"https://github.com/nagelt/Teaching_Scripts/raw/9d9e29ecca4b04eaf7397938eacbf116d37ddc93/Images/TUBAF_Logo_blau.png\" width=\"500\" height=\"auto\" height=\"auto\" style=\"margin-right: 100px;\" />\n",
        "    <div>\n",
        "        <p><strong>Prof. Dr. Thomas Nagel</strong></p>\n",
        "        <p>Chair of Soil Mechanics and Foundation Engineering<br>Geotechnical Institute<br>Technische Universität Bergakademie Freiberg.</p>\n",
        "        <p><a href=\"https://tu-freiberg.de/en/soilmechanics\">https://tu-freiberg.de/en/soilmechanics</a></p>\n",
        "    </div>\n",
        "</div>"
      ]
    },
    {
      "cell_type": "code",
      "execution_count": 8,
      "metadata": {},
      "outputs": [],
      "source": [
        "import numpy as np\n",
        "import matplotlib.pyplot as plt\n",
        "\n",
        "#Some plot settings\n",
        "import plot_functions.plot_settings\n",
        "\n",
        "#FEM routines\n",
        "%run plot_functions/fem_routines.ipynb"
      ]
    },
    {
      "cell_type": "markdown",
      "metadata": {},
      "source": [
        "# Liquid-solid phase transition in soils: permafrost melting\n",
        "\n",
        "## Governing differential equation\n",
        "\n",
        "We consider the problem as one dimensional with piecewise constant properties:\n",
        "\n",
        "$$\n",
        "\t\\varrho \\dot{h} = \\lambda T_{,zz}\n",
        "$$\n",
        "\n",
        "$[\\lambda] = \\text{W m}^{-1} \\text{K}^{-1}$: heat conductivity\n",
        "\n",
        "$[\\varrho] = \\text{kg m}^{-3}$: density\n",
        "\n",
        "$[h] = \\text{J kg}^{-1}$: specific enthalpy\n",
        "\n",
        "Let the ice volume fraction be given as an equilibrium function\n",
        "\n",
        "$$\n",
        "    \\phi_\\text{I} = \\phi \\left[1 + e^{k(T - T_\\text{m})} \\right]^{-1}\n",
        "$$\n",
        "\n",
        "so that the apparent ice density is\n",
        "\n",
        "$$\n",
        "    \\varrho_\\text{I} = \\phi \\varrho_\\text{IR} \\left[1 + e^{k(T - T_\\text{m})} \\right]^{-1}\n",
        "$$\n",
        "\n",
        "With $h(T,\\varrho_\\text{I})$ we then find the energy balance\n",
        "\n",
        "$$\n",
        "    \\left[ C - L \\frac{\\partial \\varrho_\\text{I}}{\\partial T} \\right] \\dot{T} = \\lambda T_{,zz}\n",
        "$$\n",
        "\n",
        "with \n",
        "\n",
        "$[L] = \\text{J kg}^{-1}$: specific latent heat of fusion\n",
        "\n",
        "$[C] = \\text{J m}^{-3} \\text{K}^{-1}$: volumetric heat capacity.\n",
        "\n",
        "We further use\n",
        "\n",
        "\\begin{align}\n",
        "    C &= (1 - \\phi) c_{p\\text{S}} \\varrho_\\text{SR} + \\phi_\\text{I} c_{p\\text{I}} \\varrho_\\text{IR} + (\\phi - \\phi_\\text{I}) c_{p\\text{W}} \\varrho_\\text{WR} \n",
        "    \\\n",
        "    \\lambda &= (1 - \\phi) \\lambda_\\text{SR} + \\phi_\\text{I} \\lambda_\\text{IR} + (\\phi - \\phi_\\text{I}) \\lambda_\\text{WR} \n",
        "\\end{align}\n",
        "\n",
        "\n",
        "## Weak form\n",
        "\n",
        "The pore pressure can have (the essential/Dirichlet) boundary conditions in the form:\n",
        "\n",
        "$$\n",
        "    p = \\bar{p}\\ \\forall z \\in \\partial \\Omega_\\mathrm{D}\n",
        "$$\n",
        "\n",
        "We now introduce a test function $\\eta$ which vanishes where the pore pressure is given\n",
        "\n",
        "$$\n",
        "    \\eta = 0\\ \\forall z \\in \\partial \\Omega_\\mathrm{D}\n",
        "$$\n",
        "\n",
        "and construct the weak form (using integration by parts):\n",
        "\n",
        "\\begin{align}\n",
        "   0 &= \\int \\limits_0^H \\eta \\left[(C - L \\partial_T \\varrho_\\text{I}) \\dot{T} - \\lambda T_{,zz} \\right] \\text{d}z\n",
        "   \\\n",
        "   &= \\int \\limits_0^H \\left[\\eta (C - L \\partial_T \\varrho_\\text{I}) \\dot{T} - \\left( \\eta \\lambda T_{,z} \\right)_{,z} + \\eta_{,z} \\lambda T_{,z} \\right] \\, \\text{d}z\n",
        "   \\\n",
        "   &= \\int \\limits_0^H \\left[\\eta (C - L \\partial_T \\varrho_\\text{I}) \\dot{T} + \\eta_{,z} \\lambda T_{,z} \\right] \\, \\text{d}z + \\left[ \\eta q_z \\right]^H_0\n",
        "\\end{align}\n",
        "\n",
        "where the natural/Neumann boundary conditions have appeared."
      ]
    },
    {
      "cell_type": "code",
      "execution_count": 9,
      "metadata": {},
      "outputs": [
        {
          "data": {
            "text/latex": [
              "$\\displaystyle - \\frac{k e^{k \\left(T - T_{m}\\right)}}{\\left(e^{k \\left(T - T_{m}\\right)} + 1\\right)^{2}}$"
            ],
            "text/plain": [
              "-k*exp(k*(T - T_m))/(exp(k*(T - T_m)) + 1)**2"
            ]
          },
          "execution_count": 9,
          "metadata": {},
          "output_type": "execute_result"
        }
      ],
      "source": [
        "import sympy as sp\n",
        "k,T,Tm = sp.symbols('k T T_m')\n",
        "f = 1/(1+sp.exp(k*(T-Tm)))\n",
        "sp.diff(f,T)"
      ]
    },
    {
      "cell_type": "code",
      "execution_count": 10,
      "metadata": {},
      "outputs": [],
      "source": [
        "def phi_I(T,phi=0.35,T_m=273.15):\n",
        "    return phi / (1 + np.exp(k*(T-(T_m-4/k))))\n",
        "\n",
        "def dphi_I_dT(T,phi=0.35,T_m=273.15):\n",
        "    temp = np.exp(k*(T-(T_m-4/k)))\n",
        "    return -phi*k * temp / (1 + temp)**2"
      ]
    },
    {
      "cell_type": "code",
      "execution_count": 11,
      "metadata": {},
      "outputs": [
        {
          "data": {
            "image/png": "[encoded data removed]",
            "text/plain": [
              "<Figure size 864x576 with 1 Axes>"
            ]
          },
          "metadata": {
            "needs_background": "light"
          },
          "output_type": "display_data"
        }
      ],
      "source": [
        "T = np.linspace(-5,5,100)\n",
        "fig, ax = plt.subplots()\n",
        "k=2\n",
        "ax.plot(T,phi_I(T+273.15),label=r'$k=2$')\n",
        "k=4\n",
        "ax.plot(T,phi_I(T+273.15),label=r'$k=4$')\n",
        "k=10\n",
        "ax.plot(T,phi_I(T+273.15),label=r'$k=10$')\n",
        "#ax.plot(T,dphi_I_dT(T+273.15),label=r'$k=10$')\n",
        "ax.axvline(0,ls=':')\n",
        "ax.set_xlabel(r'$T$ / °C')\n",
        "ax.set_ylabel(r'$\\phi_\\mathrm{I}$')\n",
        "ax.legend()\n",
        "fig.tight_layout();"
      ]
    },
    {
      "cell_type": "code",
      "execution_count": 12,
      "metadata": {},
      "outputs": [],
      "source": [
        "def heat_capacity(T,phi=0.35,T_m=273.15):\n",
        "    c_pW = 4186. #J/kgK\n",
        "    c_pI = 2052. #J/kgK\n",
        "    c_pS = 500. #J/kgK\n",
        "    rho_W = 1000. #kg/m³\n",
        "    rho_I = 900. #kg/m³\n",
        "    rho_S = 2600. #kg/m³\n",
        "    L = 334.e3 * 1000/900 #J/kg renormalized to ice\n",
        "    phi_ice = phi_I(T,phi,T_m)\n",
        "    rho_cp = rho_S * (1-phi) * c_pS + rho_W * (phi - phi_ice) * c_pW + rho_I * phi_ice * c_pI\n",
        "    #rho_cp = rho_S * (1-phi) * c_pS + rho_W * phi * c_pW\n",
        "    return rho_cp - dphi_I_dT(T,phi,T_m)*L*rho_I"
      ]
    },
    {
      "cell_type": "code",
      "execution_count": 13,
      "metadata": {},
      "outputs": [
        {
          "name": "stdout",
          "output_type": "stream",
          "text": [
            "Enhalpy of fusion is 338.127 MJ/m³\n"
          ]
        }
      ],
      "source": [
        "T = np.linspace(-1.,.5,1000)\n",
        "H = 0.\n",
        "k=50\n",
        "for i in range(len(T)-1):\n",
        "    H += (T[i+1]-T[i])*heat_capacity((T[i+1]+T[i])/2.+273.15,phi=1)\n",
        "print(\"Enhalpy of fusion is %.3f MJ/m³\" %(H/1e6))"
      ]
    },
    {
      "cell_type": "code",
      "execution_count": 14,
      "metadata": {},
      "outputs": [],
      "source": [
        "def heat_conductivity(T,phi=0.35,T_m=273.15):\n",
        "    lam_W = 0.3 #W/mK\n",
        "    lam_I = 2.5 #W/mK\n",
        "    lam_S = 2.2 #W/mK\n",
        "    phi_ice = phi_I(T,phi,T_m)\n",
        "    #return lam_S * (1-phi) + lam_W * phi\n",
        "    return lam_S * (1-phi) + lam_W * (phi - phi_ice) + lam_I * phi_ice"
      ]
    },
    {
      "cell_type": "markdown",
      "metadata": {},
      "source": [
        "## Time and space discretization, Picard iterations\n",
        "\n",
        "Using a backward Euler approach for simplicity we find the time-discrete weak form as ($p_{n+1} \\equiv p$)\n",
        "\n",
        "$$\n",
        "    0 = \\int \\limits_0^H \\left[\\eta (C - L \\partial_T \\varrho_\\text{I}) \\frac{T - T_n}{\\Delta t} + \\eta_{,z} \\lambda T_{,z} \\right] \\, \\text{d}z + \\left[ \\eta q_z \\right]^H_0\n",
        "$$\n",
        "\n",
        "Introducing standard FE approximations\n",
        "\n",
        "$$\n",
        "    T \\approx N_i \\hat{T}_i, \\quad \\eta \\approx N_i \\hat{\\eta}_i, \\quad \\frac{\\partial T}{\\partial z} \\approx \\nabla  N_i \\hat{T}_i, \\quad \\frac{\\partial \\eta}{\\partial z} \\approx \\nabla N_i \\hat{\\eta}_i\n",
        "$$\n",
        "\n",
        "This yields\n",
        "\n",
        "$$\n",
        "\\begin{align}\n",
        " 0 &= \\int \\limits_0^H \\left[ N_i \\hat{\\eta}_i (C - L \\partial_T \\varrho_\\text{I}) \\frac{N_k \\hat{T}_k - N_k \\hat{T}_{n,k}}{\\Delta t} + \\nabla N_i \\hat{\\eta}_i \\lambda \\nabla N_k \\hat{T}_k \\right] \\, \\text{d}z + \\left[ N_i \\hat{\\eta}_i q_z \\right]^H_0\n",
        " \\end{align}\n",
        "$$\n",
        "\n",
        "Now we bring all quantities associated with the unknown pressure to the left-hand side (LHS) and all known quantities to the RHS:\n",
        "\n",
        "$$\n",
        "    \\hat{\\eta}_i \\int \\limits_0^H \\left[ N_i \\frac{(C - L \\partial_T \\varrho_\\text{I})}{\\Delta t} N_k + \\nabla N_i \\lambda \\nabla  N_k \\right] \\, \\text{d}z\\ \\hat{T}_k =  \\hat{\\eta}_i \\left[  \\bar{q}_z|_{z=H} \\delta_{n_\\text{n}i} -  \\bar{q}_z|_{z=0} \\delta_{i0} \\right] +  \\hat{\\eta}_i \\int \\limits_0^H N_i \\frac{(C - L \\partial_T \\varrho_\\text{I})}{\\Delta t} N_k \\, \\text{d}z\\ \\hat{T}_{n,k}\n",
        "$$\n",
        "\n",
        "can be simplified by realizing that the nodal test function values are arbitrary and thus\n",
        "\n",
        "$$\n",
        "    \\int \\limits_0^H \\left[ N_i \\frac{(C - L \\partial_T \\varrho_\\text{I})}{\\Delta t} N_k + \\nabla N_i \\lambda \\nabla N_k \\right] \\, \\text{d}z\\ \\hat{T}_k =  \\bar{q}_z|_{z=H} \\delta_{n_\\text{n}i} -  \\bar{q}_z|_{z=0} \\delta_{i0} +  \\int \\limits_0^H N_i \\frac{(C - L \\partial_T \\varrho_\\text{I})}{\\Delta t} N_k \\, \\text{d}z\\ \\hat{T}_{n,k}\n",
        "$$\n",
        "\n",
        "which leaves us with $n_\\text{n}$ equations for the $n_\\text{n}$ unknown nodal pressures $\\hat{p}_k$. If any coefficients in the above are taken as pressure-dependent, the system could be solved repeatedly usind Picard iterations. For strong non-linearities, a Newton linearization would typically be used."
      ]
    },
    {
      "cell_type": "markdown",
      "metadata": {},
      "source": [
        "What we require now is the local assembler to calculate the stiffness matrix and the local right-hand side. Local integration is performed by Gauss quadrature:\n",
        "\n",
        "$$\n",
        "    \\int \\limits_{-1}^1 f(\\xi)\\,\\text{d}\\xi \\approx \\sum \\limits_{i=1}^{n_\\text{gp}} f(\\xi_i) w_i \n",
        "$$"
      ]
    },
    {
      "cell_type": "markdown",
      "metadata": {},
      "source": [
        "## Local assember"
      ]
    },
    {
      "cell_type": "code",
      "execution_count": 15,
      "metadata": {},
      "outputs": [],
      "source": [
        "def local_assembler(elem,dt,prev_sol,sol,mass_lumping=False):\n",
        "    element_order = elem._line_element__nnodes\n",
        "    K_loc = np.zeros((element_order,element_order))\n",
        "    M_loc = np.zeros((element_order,element_order))\n",
        "    b_loc = np.zeros(element_order)\n",
        "    z_nodes = elem._line_element__coords\n",
        "    for i in range(elem._line_element__quad_degree):\n",
        "        #local integration point coordinate\n",
        "        xi = elem._line_element__quad_points[i]\n",
        "        #shape function\n",
        "        N = shape_function(element_order,xi)\n",
        "        #gradient of shape function\n",
        "        dN_dX = grad_shape_function(elem,xi)\n",
        "        #determinant of Jacobian\n",
        "        detJ = np.abs(element_jacobian(elem,xi))\n",
        "        #integration weight\n",
        "        w = elem._line_element__quad_weights[i]\n",
        "        \n",
        "        #global integration point coordinate (for spatially varying properties)\n",
        "        #z_glob = np.dot(N,z_nodes)\n",
        "        #evaluation of local material/structural properties\n",
        "        #E = Stiffness(z_glob)\n",
        "        #evaluation of local body force\n",
        "        #CV = ConsolidationCoeff(z_glob)\n",
        "        \n",
        "        T_prev = np.dot(N,prev_sol)#T_prev in integration point\n",
        "        T = np.dot(N,sol)#T in integration point\n",
        "        \n",
        "        C = heat_capacity(T)\n",
        "        lam = heat_conductivity(T)\n",
        "        #assembly of local stiffness matrix\n",
        "        M_loc = np.outer(N,N) * C / dt\n",
        "        if (mass_lumping):\n",
        "            M_loc = np.diag(M_loc.sum(0)) #diagonal of column sum\n",
        "           \n",
        "        K_loc += (np.outer(dN_dX,dN_dX) * lam + M_loc)* w * detJ\n",
        "        \n",
        "        #assembly of local RHS\n",
        "        b_loc += N * C * T_prev/dt * w * detJ\n",
        "    return K_loc,b_loc"
      ]
    },
    {
      "cell_type": "markdown",
      "metadata": {},
      "source": [
        "## Time loop and problem solution\n",
        "\n",
        "We now establish the time loop and in each time step perform the global assembly, apply a vanishing traction on the top and constrain the displacement at the bottom to zero."
      ]
    },
    {
      "cell_type": "code",
      "execution_count": 16,
      "metadata": {},
      "outputs": [],
      "source": [
        "def time_loop(dt,nodes,elements,solution,mass_lumping=False):\n",
        "    #Startwerte\n",
        "    t_end = 366*24*60*60 * 500#s\n",
        "    absolute_tolerance = 1.e-6\n",
        "    max_iter = 100\n",
        "    iteration_counter = np.array([0])\n",
        "    apply_initial_conditions(solution,268.15)\n",
        "    y = [solution] #create a list that will hold the solution vectors at all time points\n",
        "    times = np.array([0.])\n",
        "    #\n",
        "    while times[-1]+dt < t_end: #repeat the loop as long as the final time step is below the end point\n",
        "        times = np.append(times,times[-1]+dt) #here define the next time point as the previous time point plus the time increment dt\n",
        "        y_old = y[-1] #Starting value for recursive update\n",
        "        i = 0\n",
        "        #\n",
        "        while True:\n",
        "            K, f = global_assembler(nodes,elements,y[-1],y_old,dt,mass_lumping)\n",
        "            #heat flux bc\n",
        "            f = apply_Neumann_bc(f,0,0.2)\n",
        "            #alternative: variable surface temperature\n",
        "            #value = 278.\n",
        "            #if (times[-1] > 366*24*60*60*300):\n",
        "            #    value = 268.\n",
        "            #K, f = apply_Dirichlet_bc(K, f, 0, value)#fixed temperature top\n",
        "            solution = np.linalg.solve(K,f)\n",
        "            i += 1\n",
        "            if (np.abs(np.linalg.norm(solution) - np.linalg.norm(y_old)) < absolute_tolerance or i > max_iter): #if change is below tolerance, stop iterations\n",
        "                break\n",
        "            y_old = solution #preparation of next recursion\n",
        "\n",
        "        y.append(solution) #append the new found solution to the solution vector\n",
        "        iteration_counter = np.append(iteration_counter,i) #store how much iterations this time step took to converge\n",
        "    return times, y,iteration_counter"
      ]
    },
    {
      "cell_type": "code",
      "execution_count": 17,
      "metadata": {},
      "outputs": [],
      "source": [
        "#spatial discretization\n",
        "H = 150.\n",
        "nel = 20\n",
        "n_per_el = 3\n",
        "nodes,elements,solution=generate_mesh(H,nel,n_per_el)\n",
        "k = 4"
      ]
    },
    {
      "cell_type": "code",
      "execution_count": null,
      "metadata": {},
      "outputs": [],
      "source": [
        "times, sols, iters = time_loop(24*60*60*365,nodes,elements,solution)"
      ]
    },
    {
      "cell_type": "code",
      "execution_count": null,
      "metadata": {},
      "outputs": [],
      "source": [
        "fig, ax = plt.subplots(ncols=2,figsize=(10,10))\n",
        "ax[0].set_ylabel(r'$z$ / m')\n",
        "ax[0].set_xlabel(r'$T$ / °C')\n",
        "ax[0].plot(sols[100]-273.15, -nodes, marker='o', label=r'$t = %i$ a' %(times[100]/60/60/24/365))\n",
        "ax[0].plot(sols[300]-273.15, -nodes, marker='o', label=r'$t = %i$ a' %(times[300]/60/60/24/365))\n",
        "ax[0].plot(sols[500]-273.15, -nodes, marker='o', label=r'$t = %i$ a' %(times[500]/60/60/24/365))\n",
        "ax[0].axvline(0,ls=':')\n",
        "\n",
        "ax[1].set_ylabel(r'$z$ / m')\n",
        "ax[1].set_xlabel(r'$\\phi_\\mathrm{W} / \\phi$')\n",
        "ax[1].plot((0.4-phi_I(sols[100]))/0.4, -nodes, marker='o')\n",
        "ax[1].plot((0.4-phi_I(sols[300]))/0.4, -nodes, marker='o')\n",
        "ax[1].plot((0.4-phi_I(sols[500]))/0.4, -nodes, marker='o')\n",
        "fig.legend(loc='center right',fontsize=12);"
      ]
    },
    {
      "cell_type": "code",
      "execution_count": null,
      "metadata": {},
      "outputs": [],
      "source": []
    },
    {
      "cell_type": "code",
      "execution_count": null,
      "metadata": {},
      "outputs": [],
      "source": []
    },
    {
      "cell_type": "code",
      "execution_count": null,
      "metadata": {},
      "outputs": [],
      "source": []
    }
  ],
  "metadata": {
    "kernelspec": {
      "display_name": "Python 3 (ipykernel)",
      "language": "python",
      "name": "python3"
    },
    "language_info": {
      "codemirror_mode": {
        "name": "ipython",
        "version": 3
      },
      "file_extension": ".py",
      "mimetype": "text/x-python",
      "name": "python",
      "nbconvert_exporter": "python",
      "pygments_lexer": "ipython3",
      "version": "3.9.13"
    },
    "widgets": {
      "application/vnd.jupyter.widget-state+json": {
        "state": {},
        "version_major": 2,
        "version_minor": 0
      }
    }
  },
  "nbformat": 4,
  "nbformat_minor": 4
}