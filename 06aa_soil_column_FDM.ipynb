{
 "cells": [
  {
   "cell_type": "markdown",
   "metadata": {
    "deletable": false,
    "editable": false
   },
   "source": [
    "![Logo TUBAF](https://tu-freiberg.de/sites/default/files/media/freiberger-alumni-netzwerk-6127/wbm_orig_rgb_0.jpg)\n",
    "\n",
    "Exercise material of the MSc-level course **Numerical Methods in Geotechnical Engineering**.\n",
    "Held at Technische Universität Bergakademie Freiberg.\n",
    "\n",
    "Comments to:\n",
    "\n",
    "*Prof. Dr. Thomas Nagel  \n",
    "Chair of Soil Mechanics and Foundation Engineering  \n",
    "Geotechnical Institute  \n",
    "Technische Universität Bergakademie Freiberg.*\n",
    "\n",
    "https://tu-freiberg.de/en/soilmechanics\n"
   ]
  },
  {
   "cell_type": "code",
   "execution_count": 1,
   "metadata": {},
   "outputs": [],
   "source": [
    "import numpy as np\n",
    "import matplotlib.pyplot as plt\n",
    "\n",
    "#Some plot settings\n",
    "import plot_functions.plot_settings"
   ]
  },
  {
   "cell_type": "markdown",
   "metadata": {},
   "source": [
    "# Exercise 6 - Finite differences: soil column under gravity and top load\n",
    "\n",
    "![soil_column.png](Images/soil_column.png)\n",
    "\n",
    "## Governing differential equation\n",
    "\n",
    "Consider the equilibrium conditions on an infinitesimal element of the soil column:\n",
    "\n",
    "$$\n",
    "    \\uparrow: \\quad F_z - \\frac{\\partial F_z}{\\partial z}\\text{d}z - F_z - \\varrho g A \\text{d}z = 0\n",
    "$$\n",
    "\n",
    "The vertical force is determined by $F_z = \\sigma_{zz}A = E_\\text{s} A \\epsilon_{zz} = -E_\\text{s} A u_{z,z}$. Therefore, the equilibrium conditions read:\n",
    "\n",
    "$$\n",
    "    0 = \\left[ \\frac{\\partial}{\\partial z} \\left(E_\\text{s} A \\frac{\\partial u_z}{\\partial z}\\right) - \\varrho g A \\right]\\text{d}z\n",
    "$$\n",
    "\n",
    "Considering, that the equation has to hold for an arbitrary infinitesimal non-zero $\\text{d}z$, we find the ordinary differential equation\n",
    "\n",
    "$$\n",
    "    0 = \\frac{\\partial}{\\partial z} \\left(E_\\text{s} A \\frac{\\partial u_z}{\\partial z}\\right) - \\varrho g A\n",
    "$$\n",
    "\n",
    "Nota bene: compare this to the differential equation for a rod ('Zugstab'): $(EAu')' + n = 0$. While the cross section of a rod can vary along its length, the cross-sectional area of a soil column is considered a constant, simplifying the equation further:\n",
    "\n",
    "$$\n",
    "    0 = \\frac{\\partial}{\\partial z} \\left(E_\\text{s} \\frac{\\partial u_z}{\\partial z}\\right) - \\varrho g\n",
    "$$\n",
    "\n"
   ]
  },
  {
   "cell_type": "markdown",
   "metadata": {},
   "source": [
    "Let's put this to test."
   ]
  },
  {
   "cell_type": "markdown",
   "metadata": {},
   "source": [
    "## Finite difference discretization\n",
    "\n",
    "We assume $E_\\text{s} = \\text{const.}$ and arrive at\n",
    "\n",
    "$$\n",
    "    \\frac{\\partial^2 u_z}{\\partial z^2} = \\frac{\\gamma}{E_\\text{s}}\n",
    "$$\n",
    "\n",
    "In the finite difference method, we introduce a grid made up, in the one-dimensional case, of a series of points. The differentials are the evaluated by finite differences between values at these points:\n",
    "\n",
    "$$\n",
    "    \\frac{\\partial u_z}{\\partial z} \\approx \\frac{\\Delta u_z}{\\Delta z} = \\frac{u_i - u_{i-1}}{z_i - z_{i-1}} = u_i'\n",
    "$$\n",
    "\n",
    "where here, backward differences were chosen (viz. forward and central differences). We also assume a constant $\\Delta z$ here.\n",
    "\n",
    "A second derivative can likewise be approximated (now using forward differences):\n",
    "\n",
    "$$\n",
    "    \\frac{\\partial^2 u_z}{\\partial z^2} \\approx u_i'' = \\frac{u_{i+1}' - u_i'}{\\Delta z}\n",
    "$$\n",
    "\n",
    "Substitution of the first derivatives yields:\n",
    "\n",
    "$$\n",
    "    \\frac{\\partial^2 u_z}{\\partial z^2} \\approx u_i'' = \\frac{u_{i+1} - 2 u_i + u_{i-1}}{\\Delta z^2}\n",
    "$$\n",
    "\n",
    "Our differential equation has now transformed into a finite difference equation evaluated at a series of points $i$ as:\n",
    "\n",
    "$$\n",
    "u_{i+1} - 2 u_i + u_{i-1} = \\Delta z^2 \\frac{\\gamma_i}{E_{\\text{s},i}}\n",
    "$$"
   ]
  },
  {
   "cell_type": "markdown",
   "metadata": {},
   "source": [
    "We collect all solutions $u_i$ and $z_i$ in a vector."
   ]
  },
  {
   "cell_type": "code",
   "execution_count": 2,
   "metadata": {},
   "outputs": [],
   "source": [
    "H = 10.\n",
    "number_of_points = 10\n",
    "Delta_z = H/(number_of_points - 1)\n",
    "z = np.linspace(0,H,number_of_points)"
   ]
  },
  {
   "cell_type": "markdown",
   "metadata": {},
   "source": [
    "The right-hand side is identical in every point, unless the stiffness or the specific weight changes with depth."
   ]
  },
  {
   "cell_type": "code",
   "execution_count": 3,
   "metadata": {},
   "outputs": [
    {
     "data": {
      "text/plain": [
       "array([0.00019523, 0.00019523, 0.00019523, 0.00019523, 0.00019523,\n",
       "       0.00019523, 0.00019523, 0.00019523, 0.00019523, 0.00019523])"
      ]
     },
     "execution_count": 3,
     "metadata": {},
     "output_type": "execute_result"
    }
   ],
   "source": [
    "gamma = 2600. * (1.-0.38) * 9.81 # N/m³\n",
    "Es = 1.e8 #Pa\n",
    "RHS = np.ones(number_of_points) * gamma/Es * Delta_z**2\n",
    "RHS"
   ]
  },
  {
   "cell_type": "markdown",
   "metadata": {},
   "source": [
    "The left hand side can be expressed via the finite difference matrix $A_{ij}$, so that the equation system finally can be written as $A_{ij} u_{j} = b_i$ for a system with $n=10$ points:\n",
    "\n",
    "$$\n",
    "\\begin{pmatrix}\n",
    "    -2 & 1 & 0 & 0 & 0 & 0 & 0 & 0 & 0 & 0\\\\\n",
    "    1 & -2 & 1 & 0 & 0 & 0 & 0 & 0 & 0 & 0\\\\\n",
    "    0 & 1 & -2 & 1 & 0 & 0 & 0 & 0 & 0 & 0\\\\\n",
    "    0 & 0 & 1 & -2 & 1 & 0 & 0 & 0 & 0 & 0\\\\\n",
    "    0 & 0 & 0 & 1 & -2 & 1 & 0 & 0 & 0 & 0\\\\\n",
    "    0 & 0 & 0 & 0 & 1 & -2 & 1 & 0 & 0 & 0\\\\\n",
    "    0 & 0 & 0 & 0 & 0 & 1 & -2 & 1 & 0 & 0\\\\\n",
    "    0 & 0 & 0 & 0 & 0 & 0 & 1 & -2 & 1 & 0\\\\\n",
    "    0 & 0 & 0 & 0 & 0 & 0 & 0 & 1 & -2 & 1\\\\\n",
    "    0 & 0 & 0 & 0 & 0 & 0 & 0 & 0 & 1 & -2\\\\\n",
    "\\end{pmatrix}\n",
    "\\begin{pmatrix}\n",
    "    u_0 \\\\ u_1 \\\\ u_2 \\\\ u_3 \\\\ u_4 \\\\ u_5 \\\\ u_6 \\\\ u_7 \\\\ u_8 \\\\ u_9\n",
    "\\end{pmatrix}\n",
    "=\n",
    "\\Delta z^2\n",
    "\\begin{pmatrix}\n",
    "    \\frac{\\gamma_0}{E_{\\text{s},0}} \\\\ \\frac{\\gamma_1}{E_{\\text{s},1}} \\\\ \\frac{\\gamma_3}{E_{\\text{s},3}} \\\\ \\frac{\\gamma_4}{E_{\\text{s},4}} \\\\ \\frac{\\gamma_5}{E_{\\text{s},5}} \\\\ \\frac{\\gamma_6}{E_{\\text{s},6}} \\\\ \\frac{\\gamma_7}{E_{\\text{s},7}} \\\\ \\frac{\\gamma_8}{E_{\\text{s},8}} \\\\ \\frac{\\gamma_9}{E_{\\text{s},9}}\n",
    "\\end{pmatrix}\n",
    "$$\n",
    "\n",
    "Let's build this matrix now ..."
   ]
  },
  {
   "cell_type": "code",
   "execution_count": 4,
   "metadata": {},
   "outputs": [
    {
     "data": {
      "text/plain": [
       "array([[-2.,  0.,  0.,  0.,  0.,  0.,  0.,  0.,  0.,  0.],\n",
       "       [ 0., -2.,  0.,  0.,  0.,  0.,  0.,  0.,  0.,  0.],\n",
       "       [ 0.,  0., -2.,  0.,  0.,  0.,  0.,  0.,  0.,  0.],\n",
       "       [ 0.,  0.,  0., -2.,  0.,  0.,  0.,  0.,  0.,  0.],\n",
       "       [ 0.,  0.,  0.,  0., -2.,  0.,  0.,  0.,  0.,  0.],\n",
       "       [ 0.,  0.,  0.,  0.,  0., -2.,  0.,  0.,  0.,  0.],\n",
       "       [ 0.,  0.,  0.,  0.,  0.,  0., -2.,  0.,  0.,  0.],\n",
       "       [ 0.,  0.,  0.,  0.,  0.,  0.,  0., -2.,  0.,  0.],\n",
       "       [ 0.,  0.,  0.,  0.,  0.,  0.,  0.,  0., -2.,  0.],\n",
       "       [ 0.,  0.,  0.,  0.,  0.,  0.,  0.,  0.,  0., -2.]])"
      ]
     },
     "execution_count": 4,
     "metadata": {},
     "output_type": "execute_result"
    }
   ],
   "source": [
    "Central_Diag = np.diag([-2.]*number_of_points,0)\n",
    "Central_Diag"
   ]
  },
  {
   "cell_type": "code",
   "execution_count": 5,
   "metadata": {},
   "outputs": [],
   "source": [
    "Upper_Diag = np.diag([1.]*(number_of_points-1),1)\n",
    "Lower_Diag = np.diag([1.]*(number_of_points-1),-1)"
   ]
  },
  {
   "cell_type": "code",
   "execution_count": 6,
   "metadata": {},
   "outputs": [
    {
     "data": {
      "text/plain": [
       "array([[-2.,  1.,  0.,  0.,  0.,  0.,  0.,  0.,  0.,  0.],\n",
       "       [ 1., -2.,  1.,  0.,  0.,  0.,  0.,  0.,  0.,  0.],\n",
       "       [ 0.,  1., -2.,  1.,  0.,  0.,  0.,  0.,  0.,  0.],\n",
       "       [ 0.,  0.,  1., -2.,  1.,  0.,  0.,  0.,  0.,  0.],\n",
       "       [ 0.,  0.,  0.,  1., -2.,  1.,  0.,  0.,  0.,  0.],\n",
       "       [ 0.,  0.,  0.,  0.,  1., -2.,  1.,  0.,  0.,  0.],\n",
       "       [ 0.,  0.,  0.,  0.,  0.,  1., -2.,  1.,  0.,  0.],\n",
       "       [ 0.,  0.,  0.,  0.,  0.,  0.,  1., -2.,  1.,  0.],\n",
       "       [ 0.,  0.,  0.,  0.,  0.,  0.,  0.,  1., -2.,  1.],\n",
       "       [ 0.,  0.,  0.,  0.,  0.,  0.,  0.,  0.,  1., -2.]])"
      ]
     },
     "execution_count": 6,
     "metadata": {},
     "output_type": "execute_result"
    }
   ],
   "source": [
    "A = Central_Diag + Upper_Diag + Lower_Diag\n",
    "A"
   ]
  },
  {
   "cell_type": "markdown",
   "metadata": {},
   "source": [
    "Now we have everything we need: we have the load vector (right-hand side), the system matrix (vertex connectivity and second derivative), and can solve for the vector of unknown vertex displacements. Let's give it a shot:"
   ]
  },
  {
   "cell_type": "code",
   "execution_count": 7,
   "metadata": {},
   "outputs": [],
   "source": [
    "u = np.linalg.solve(A,RHS)"
   ]
  },
  {
   "cell_type": "code",
   "execution_count": 8,
   "metadata": {},
   "outputs": [
    {
     "data": {
      "image/png": "[encoded data removed]",
      "text/plain": [
       "<Figure size 864x576 with 1 Axes>"
      ]
     },
     "metadata": {
      "needs_background": "light"
     },
     "output_type": "display_data"
    }
   ],
   "source": [
    "plt.plot(u*100,z)\n",
    "plt.xlabel('$u_z$ / cm')\n",
    "plt.ylabel('$z$ / m');"
   ]
  },
  {
   "cell_type": "markdown",
   "metadata": {},
   "source": [
    "That doesn't look plausible. What's missing are the boundary conditions: \n",
    "\n",
    "$$\n",
    "    u (z = 0) = 0 \\qquad u'(z=H) = 0\n",
    "$$\n",
    "\n",
    "They can be integrated easily by manipulating the first and last equations (rows).\n",
    "\n",
    "Let's start with the lower boundary condition, $u(z=0) = u_0 = 0$. Thus, we want the first equation to yield $u_0 = 0$ which can be achieved by manipulating the RHS and System matrix such that the first equation reads\n",
    "\n",
    "$$\n",
    "\\begin{pmatrix}\n",
    "1 & 0 & \\dots & 0 \n",
    "\\end{pmatrix}\n",
    "\\begin{pmatrix}\n",
    "u_0\n",
    "\\\\\n",
    "\\vdots\n",
    "\\\\\n",
    "u_9\n",
    "\\end{pmatrix}\n",
    "= \n",
    "0\n",
    "$$\n",
    "\n",
    "Nota bene: if a non-zero displacement were given as the boundary condition, the RHS entry would have to be set to that given value."
   ]
  },
  {
   "cell_type": "code",
   "execution_count": 9,
   "metadata": {},
   "outputs": [],
   "source": [
    "#lower bc\n",
    "A[0,:] = 0.\n",
    "A[0,0] = 1.\n",
    "RHS[0] = 0."
   ]
  },
  {
   "cell_type": "markdown",
   "metadata": {},
   "source": [
    "Now we get to the upper boundary condition, $u'(z=H) = 0$. In other words, we want the slope of the $u_z - z$ curve to be zero at the upper end. Because of \n",
    "\n",
    "$$\n",
    "        0 = u'(z=H) \\approx \\frac{u_9 - u_8}{\\Delta z}\n",
    "$$\n",
    "\n",
    "this means that the displacements of the two final vertices should be equal. Thus, we want the final equation to yield $u_8 - u_9 = 0$ which can be achieved by manipulating the RHS and System matrix such that the first equation reads\n",
    "\n",
    "$$\n",
    "\\begin{pmatrix}\n",
    "0 & \\dots & 0 & 1 & -1\n",
    "\\end{pmatrix}\n",
    "\\begin{pmatrix}\n",
    "u_0\n",
    "\\\\\n",
    "\\vdots\n",
    "\\\\\n",
    "u_7\n",
    "\\\\\n",
    "u_8\n",
    "\\\\\n",
    "u_9\n",
    "\\end{pmatrix}\n",
    "= \n",
    "0\n",
    "$$\n",
    "\n",
    "Nota bene: if a non-zero displacement were given as the boundary condition, the RHS entry would have to be set to that given value."
   ]
  },
  {
   "cell_type": "code",
   "execution_count": 10,
   "metadata": {},
   "outputs": [],
   "source": [
    "#upper bc\n",
    "A[-1,-1] = -1.\n",
    "RHS[-1] = 0."
   ]
  },
  {
   "cell_type": "markdown",
   "metadata": {},
   "source": [
    "Let's check whether the manipulations were successful:"
   ]
  },
  {
   "cell_type": "code",
   "execution_count": 11,
   "metadata": {},
   "outputs": [
    {
     "data": {
      "text/plain": [
       "array([[ 1.,  0.,  0.,  0.,  0.,  0.,  0.,  0.,  0.,  0.],\n",
       "       [ 1., -2.,  1.,  0.,  0.,  0.,  0.,  0.,  0.,  0.],\n",
       "       [ 0.,  1., -2.,  1.,  0.,  0.,  0.,  0.,  0.,  0.],\n",
       "       [ 0.,  0.,  1., -2.,  1.,  0.,  0.,  0.,  0.,  0.],\n",
       "       [ 0.,  0.,  0.,  1., -2.,  1.,  0.,  0.,  0.,  0.],\n",
       "       [ 0.,  0.,  0.,  0.,  1., -2.,  1.,  0.,  0.,  0.],\n",
       "       [ 0.,  0.,  0.,  0.,  0.,  1., -2.,  1.,  0.,  0.],\n",
       "       [ 0.,  0.,  0.,  0.,  0.,  0.,  1., -2.,  1.,  0.],\n",
       "       [ 0.,  0.,  0.,  0.,  0.,  0.,  0.,  1., -2.,  1.],\n",
       "       [ 0.,  0.,  0.,  0.,  0.,  0.,  0.,  0.,  1., -1.]])"
      ]
     },
     "execution_count": 11,
     "metadata": {},
     "output_type": "execute_result"
    }
   ],
   "source": [
    "A"
   ]
  },
  {
   "cell_type": "code",
   "execution_count": 12,
   "metadata": {},
   "outputs": [
    {
     "data": {
      "text/plain": [
       "array([0.        , 0.00019523, 0.00019523, 0.00019523, 0.00019523,\n",
       "       0.00019523, 0.00019523, 0.00019523, 0.00019523, 0.        ])"
      ]
     },
     "execution_count": 12,
     "metadata": {},
     "output_type": "execute_result"
    }
   ],
   "source": [
    "RHS"
   ]
  },
  {
   "cell_type": "markdown",
   "metadata": {},
   "source": [
    "Let's solve the system again with the newly implemented boundary conditions."
   ]
  },
  {
   "cell_type": "code",
   "execution_count": 13,
   "metadata": {},
   "outputs": [
    {
     "data": {
      "image/png": "[encoded data removed]",
      "text/plain": [
       "<Figure size 864x576 with 1 Axes>"
      ]
     },
     "metadata": {
      "needs_background": "light"
     },
     "output_type": "display_data"
    }
   ],
   "source": [
    "u = np.linalg.solve(A,RHS)\n",
    "plt.plot(u*100,z)\n",
    "plt.xlabel('$u_z$ / cm')\n",
    "plt.ylabel('$z$ / m');"
   ]
  },
  {
   "cell_type": "markdown",
   "metadata": {},
   "source": [
    "This looks plausible. Let's go ahead and perform a basic exploration of the numerical properties of the scheme.\n",
    "\n",
    "We first define a simulation run and then vary the number of grid points."
   ]
  },
  {
   "cell_type": "code",
   "execution_count": 14,
   "metadata": {},
   "outputs": [],
   "source": [
    "def run_sim(number_of_points):\n",
    "    #discretization\n",
    "    Delta_z = H/(number_of_points - 1)\n",
    "    z = np.linspace(0,H,number_of_points)\n",
    "    #RHS\n",
    "    RHS = np.ones(number_of_points) * gamma/Es * Delta_z**2\n",
    "    #FD Matrix\n",
    "    A = np.diag([-2.]*number_of_points,0) + np.diag([1.]*(number_of_points-1),1) + np.diag([1.]*(number_of_points-1),-1)\n",
    "    #lower bc\n",
    "    A[0,:] = 0.\n",
    "    A[0,0] = 1.\n",
    "    RHS[0] = 0\n",
    "    #upper bc\n",
    "    A[-1,-1] = -1.\n",
    "    RHS[-1] = 0.\n",
    "    #solution\n",
    "    return np.linalg.solve(A,RHS), z"
   ]
  },
  {
   "cell_type": "markdown",
   "metadata": {},
   "source": [
    "We plot the numerical result against the analytical solution\n",
    "\n",
    "$$\n",
    "u_z(z) = \\frac{\\varrho gH^2}{2E_\\text{s}} \\left[ \\left(\\frac{z}{H}\\right)^2 - 2 \\frac{z}{H} \\right]\n",
    "$$"
   ]
  },
  {
   "cell_type": "code",
   "execution_count": 15,
   "metadata": {},
   "outputs": [],
   "source": [
    "# analytical solution\n",
    "reference_z = np.linspace(0,H,100)\n",
    "reference_solution = ((reference_z/H)**2 - 2.*reference_z/H) * gamma * H**2 / (2.*Es)"
   ]
  },
  {
   "cell_type": "code",
   "execution_count": 16,
   "metadata": {},
   "outputs": [
    {
     "data": {
      "application/vnd.jupyter.widget-view+json": {
       "model_id": "7d490a7a841645eba64beaec15dc5007",
       "version_major": 2,
       "version_minor": 0
      },
      "text/plain": [
       "interactive(children=(IntSlider(value=10, description='nodes', min=5), Output()), _dom_classes=('widget-intera…"
      ]
     },
     "metadata": {},
     "output_type": "display_data"
    }
   ],
   "source": [
    "## Interactive playground\n",
    "\n",
    "from ipywidgets import widgets\n",
    "from ipywidgets import interact\n",
    "#Compute reference solution with 100 cells\n",
    "\n",
    "@interact(num_nodes=widgets.IntSlider(min=5, max=100, value=10, step=1, description='nodes'))\n",
    "def plot(num_nodes=10):\n",
    "    fig,ax = plt.subplots()\n",
    "    ax.set_ylabel('$z$ / m')\n",
    "    ax.set_xlabel('$u_z$ / cm')\n",
    "    solution, z = run_sim(num_nodes)\n",
    "    ax.plot(reference_solution*1e2, reference_z, '--', color='k', label='reference solution')\n",
    "    ax.plot(solution*1e2,z,label='solution')\n",
    "    ax.set_ylim([0,10])\n",
    "    plt.show()"
   ]
  },
  {
   "cell_type": "markdown",
   "metadata": {},
   "source": [
    "Convergence of this simple scheme is rather low. A comparatively simple finite element scheme converges much faster, as we shall see in one of the following exercises.\n",
    "\n",
    "If we plot the convergence rate of the surface settlements with respect to the grid resolution, we observe a linear behaviour:"
   ]
  },
  {
   "cell_type": "code",
   "execution_count": 17,
   "metadata": {},
   "outputs": [
    {
     "data": {
      "image/png": "[encoded data removed]",
      "text/plain": [
       "<Figure size 864x576 with 1 Axes>"
      ]
     },
     "metadata": {
      "needs_background": "light"
     },
     "output_type": "display_data"
    }
   ],
   "source": [
    "#HIDDEN\n",
    "fig, ax = plt.subplots()\n",
    "disc_n = np.logspace(1,3,20)\n",
    "analytical_top = reference_solution[-1]\n",
    "for nn in disc_n:\n",
    "    numerical, z = run_sim(int(nn))\n",
    "    numerical_top = numerical[-1]\n",
    "    relerr = np.abs((numerical_top - analytical_top)/analytical_top)\n",
    "    ax.plot(int(nn),relerr,ls='',marker='d',color='blue')\n",
    "ax.plot([1e2,3e2],[5e-3,5e-3/3],ls='-',color='black')\n",
    "ax.text(3.1e2,5e-3/3,'1')\n",
    "ax.plot([1e2,3e2],[5e-3,5e-3/9],ls='-',color='black')\n",
    "ax.text(3.1e2,5e-3/9,'2')\n",
    "ax.set_xscale('log')\n",
    "ax.set_yscale('log')\n",
    "ax.set_xlabel('$n_\\\\mathrm{nodes}$')\n",
    "ax.set_ylabel('$\\\\left| \\\\frac{u_z^\\\\mathrm{numerical} - u_z^\\\\mathrm{analytical}}{u_z^\\\\mathrm{analytical}} \\\\right|_{z=H}$',size=24)\n",
    "fig.tight_layout();"
   ]
  }
 ],
 "metadata": {
  "kernelspec": {
   "display_name": "Python 3 (ipykernel)",
   "language": "python",
   "name": "python3"
  },
  "language_info": {
   "codemirror_mode": {
    "name": "ipython",
    "version": 3
   },
   "file_extension": ".py",
   "mimetype": "text/x-python",
   "name": "python",
   "nbconvert_exporter": "python",
   "pygments_lexer": "ipython3",
   "version": "3.9.7"
  }
 },
 "nbformat": 4,
 "nbformat_minor": 4
}
