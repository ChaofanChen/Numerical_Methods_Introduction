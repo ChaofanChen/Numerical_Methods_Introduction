{
 "cells": [
  {
   "cell_type": "code",
   "execution_count": 1,
   "metadata": {},
   "outputs": [],
   "source": [
    "#element class\n",
    "class line_element():#local coordinates go from -1 to 1\n",
    "    #takes number of nodes, global nodal coordinates, global node ids\n",
    "    def __init__(self, nnodes=2, ncoords=[0.,1.], nids=[0,1]):\n",
    "        self.__nnodes = nnodes\n",
    "        if (len(ncoords) != self.__nnodes):\n",
    "            raise Exception(\"Number of coordinates does not match number \\\n",
    "                            of nodes of element (%i vs of %i)\" %(self.__nnodes,len(ncoords)))\n",
    "        else:\n",
    "            self.__coords = np.array(ncoords)\n",
    "        \n",
    "        self.__natural_coords = (self.__coords-self.__coords[0])/(self.__coords[-1]-self.__coords[0])*2. - 1.\n",
    "        \n",
    "        if (len(nids) != self.__nnodes):\n",
    "            raise Exception(\"Number of node IDs does not match number \\\n",
    "                            of nodes of element (%i vs of %i)\" %(self.__nnodes,len(nids)))\n",
    "        else:\n",
    "            self.__global_ids = np.array(nids)\n",
    "        self.__quad_degree = self.__nnodes\n",
    "        self.__quad_points, self.__quad_weights = np.polynomial.legendre.leggauss(self.__quad_degree)"
   ]
  },
  {
   "cell_type": "code",
   "execution_count": 2,
   "metadata": {},
   "outputs": [],
   "source": [
    "def number_of_nodes(nelems,nodes_per_elem):\n",
    "    return nelems*nodes_per_elem - (nelems - 1)\n",
    "\n",
    "def generate_mesh(domain_length,nelems,nodes_per_elem):\n",
    "    nn = number_of_nodes(nelems,nodes_per_elem)\n",
    "    #coordinate vector of global nodes\n",
    "    global_nodal_coordinates = np.linspace(0.,domain_length,nn)\n",
    "    global_solution = np.array([0.]*nn)\n",
    "    \n",
    "    #generate elements\n",
    "    element_vector = []\n",
    "    for i in range(nelems):\n",
    "        node_start = (nodes_per_elem-1)*i\n",
    "        element_vector.append(\n",
    "            line_element(nodes_per_elem,\n",
    "                         global_nodal_coordinates[node_start:node_start+nodes_per_elem],\n",
    "                         list(range(node_start,node_start+nodes_per_elem))))\n",
    "        \n",
    "    return global_nodal_coordinates, element_vector, global_solution"
   ]
  },
  {
   "cell_type": "code",
   "execution_count": 3,
   "metadata": {},
   "outputs": [],
   "source": [
    "#N\n",
    "def shape_function(element_order,xi):\n",
    "    if (element_order == 2): #-1,1\n",
    "            return np.array([(1.-xi)/2., (1.+xi)/2.])\n",
    "    elif (element_order == 3): #-1, 0, 1\n",
    "            return np.array([(xi - 1.)*xi/2., (1-xi)*(1+xi), (1+xi)*xi/2.])\n",
    "#dN_dxi\n",
    "def dshape_function_dxi(element_order,xi):\n",
    "    if (element_order == 2): #-1,1\n",
    "        return np.array([-0.5*xi/xi, 0.5*xi/xi])  #xi only later for plotting dimensions\n",
    "    elif (element_order == 3):#-1,0,1\n",
    "        return np.array([xi - 0.5,-2.*xi,xi + 0.5])\n",
    "\n",
    "#dz_dxi\n",
    "def element_jacobian(element,xi):\n",
    "    element_order = element._line_element__nnodes\n",
    "    Jacobian = 0.\n",
    "    Jacobian += dshape_function_dxi(element_order,xi).dot(element._line_element__coords)\n",
    "    return Jacobian\n",
    "\n",
    "#dN_dz\n",
    "def grad_shape_function(element,xi):\n",
    "    element_order = element._line_element__nnodes\n",
    "    Jac = element_jacobian(element,xi)\n",
    "    return dshape_function_dxi(element_order,xi)/Jac"
   ]
  },
  {
   "cell_type": "code",
   "execution_count": 4,
   "metadata": {},
   "outputs": [],
   "source": [
    "def global_assembler(nodes,elements,solution_n,solution,dt,mass_lumping=False):\n",
    "    K_glob = np.zeros((len(nodes),len(nodes)))\n",
    "    b_glob = np.zeros(len(nodes))\n",
    "    for i,elem in enumerate(elements):\n",
    "        start_id = elem._line_element__global_ids[0]\n",
    "        end_id = elem._line_element__global_ids[-1]\n",
    "        K_i, b_i = local_assembler(elem,dt,solution_n[start_id:end_id+1],solution[start_id:end_id+1],mass_lumping)\n",
    "        K_glob[start_id:end_id+1,start_id:end_id+1] += K_i\n",
    "        b_glob[start_id:end_id+1] += b_i\n",
    "    return K_glob, b_glob"
   ]
  },
  {
   "cell_type": "code",
   "execution_count": 5,
   "metadata": {},
   "outputs": [],
   "source": [
    "def apply_Dirichlet_bc(K_glob,b_glob,node_id,value):\n",
    "    K_glob[node_id,:] = 0.# = K_glob[:,node_id] = 0.\n",
    "    K_glob[node_id,node_id] = 1.\n",
    "    b_glob[node_id] = value\n",
    "    return K_glob, b_glob"
   ]
  },
  {
   "cell_type": "code",
   "execution_count": 6,
   "metadata": {},
   "outputs": [],
   "source": [
    "def apply_Neumann_bc(b_glob,node_id,value):\n",
    "    b_glob[node_id] += value\n",
    "    return b_glob"
   ]
  },
  {
   "cell_type": "code",
   "execution_count": 7,
   "metadata": {},
   "outputs": [],
   "source": [
    "def apply_initial_conditions(solution,T0):\n",
    "    solution *= 0.\n",
    "    solution += T0\n",
    "    return"
   ]
  },
  {
   "cell_type": "code",
   "execution_count": null,
   "metadata": {},
   "outputs": [],
   "source": []
  }
 ],
 "metadata": {
  "kernelspec": {
   "display_name": "Python 3",
   "language": "python",
   "name": "python3"
  },
  "language_info": {
   "codemirror_mode": {
    "name": "ipython",
    "version": 3
   },
   "file_extension": ".py",
   "mimetype": "text/x-python",
   "name": "python",
   "nbconvert_exporter": "python",
   "pygments_lexer": "ipython3",
   "version": "3.8.2"
  }
 },
 "nbformat": 4,
 "nbformat_minor": 4
}
