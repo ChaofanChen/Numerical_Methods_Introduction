{
 "cells": [
  {
   "cell_type": "code",
   "execution_count": 4,
   "metadata": {},
   "outputs": [],
   "source": [
    "def plot_iteration_result(theta_a, it, res, sols):\n",
    "    print(\"The slip angle of %.2f ° was found after %i iterations. The corresponding earth pressure is %.2f kN/m.\" \n",
    "      %(np.rad2deg(theta_a),it,Ea(theta_a)/1.e3))\n",
    "    fig, ax = plt.subplots(ncols=2,figsize=(18,8))\n",
    "    thetas = np.linspace(np.pi/6,np.pi/2,100)\n",
    "    ax[0].plot(np.rad2deg(thetas),Ea(thetas)/1e3,label='$E_\\\\mathrm{a}(\\\\vartheta)$')\n",
    "    ax[0].plot(np.rad2deg(sols),Ea(sols)/1e3,marker='+',ls='',markersize=6,color='green',label='$E_\\\\mathrm{a}^i$')\n",
    "    ax[0].plot(np.rad2deg(theta_a),Ea(theta_a)/1e3,marker='d',color='red',label='$E_\\\\mathrm{a}$')\n",
    "    ax[0].set_xlabel('$\\\\vartheta$ / °')\n",
    "    ax[0].legend()\n",
    "    ax[0].set_ylabel('$E_\\\\mathrm{a}$ / kN m$^{-1}$')\n",
    "    \n",
    "    ax[1].plot(np.abs(res/res[0]))\n",
    "    ax[1].plot([len(res)-1+0.1,len(res)-2+0.1],[np.abs(res[-1]/res[0]),np.sqrt(np.abs(res[-1]/res[0]))],ls='--',color='black')\n",
    "    ax[1].text(len(res)-1+0.1,(np.abs(res[-1]/res[0])+np.sqrt(np.abs(res[-1]/res[0])))/2,'-2:1')\n",
    "    ax[1].set_xlabel('$n_\\\\mathrm{it}$')\n",
    "    ax[1].set_ylabel('$\\\\frac{|| r ||}{|| r_0 ||}$')\n",
    "    ax[1].set_yscale('log')"
   ]
  },
  {
   "cell_type": "code",
   "execution_count": 5,
   "metadata": {},
   "outputs": [],
   "source": [
    "def plot_iterative_interactive():\n",
    "    @interact(theta0=widgets.BoundedFloatText(value=45,min=10,max=90,description='$\\\\vartheta_0 / °$'))\n",
    "    def plotme(theta0):\n",
    "        theta_a, it, res, sols = find_theta(np.deg2rad(theta0))\n",
    "        print(\"The slip angle of %.2f ° was found after %i iterations. The corresponding earth pressure is %.2f kN/m.\" \n",
    "          %(np.rad2deg(theta_a),it,Ea(theta_a)/1.e3))\n",
    "        fig, ax = plt.subplots(ncols=2,figsize=(18,8))\n",
    "        thetas = np.linspace(np.pi/6,np.pi/2,100)\n",
    "        ax[0].plot(np.rad2deg(thetas),Ea(thetas)/1e3,label='$E_\\\\mathrm{a}(\\\\vartheta)$')\n",
    "        ax[0].plot(np.rad2deg(sols),Ea(sols)/1e3,marker='+',ls='',markersize=6,color='green',label='$E_\\\\mathrm{a}^i$')\n",
    "        ax[0].plot(np.rad2deg(theta_a),Ea(theta_a)/1e3,marker='d',color='red',label='$E_\\\\mathrm{a}$')\n",
    "        ax[0].set_xlabel('$\\\\vartheta$ / °')\n",
    "        ax[0].legend()\n",
    "        ax[0].set_ylabel('$E_\\\\mathrm{a}$ / kN m$^{-1}$')\n",
    "\n",
    "        ax[1].plot(np.abs(res/res[0]))\n",
    "        ax[1].plot([len(res)-1+0.1,len(res)-2+0.1],[np.abs(res[-1]/res[0]),np.sqrt(np.abs(res[-1]/res[0]))],ls='--',color='black')\n",
    "        ax[1].text(len(res)-1+0.1,(np.abs(res[-1]/res[0])+np.sqrt(np.abs(res[-1]/res[0])))/2,'-2:1')\n",
    "        ax[1].set_xlabel('$n_\\\\mathrm{it}$')\n",
    "        ax[1].set_ylabel('$\\\\frac{|| r ||}{|| r_0 ||}$')\n",
    "        ax[1].set_yscale('log')"
   ]
  },
  {
   "cell_type": "code",
   "execution_count": null,
   "metadata": {},
   "outputs": [],
   "source": [
    "def plot_interactive_earth_pressure():\n",
    "    @interact(ic=widgets.IntSlider(min=0, max=50, value=10, step=5, description='$c$ / kN m$^{-2}$:'),\n",
    "              iphi = widgets.IntSlider(min=20, max=45, value=30, step=5, description='$\\\\varphi$ / °:'),\n",
    "              igamma=widgets.IntSlider(min=14, max=25, value=18, step=1, description='$\\\\gamma$ / kN m$^{-3}$:'),\n",
    "              iH=widgets.IntSlider(min=2, max=10, value=5, step=1, description='$H$ / m:'),\n",
    "              ialpha = widgets.IntSlider(min=0, max=15, value=5, step=1, description='$\\\\alpha$ / °:'),\n",
    "              ibeta = widgets.IntSlider(min=0, max=15, value=5, step=1, description='$\\\\beta$ / °:'),\n",
    "              idelta = widgets.IntSlider(min=0, max=20, value=10, step=2, description='$\\\\delta_\\\\mathrm{a}$ / °:'),\n",
    "             )\n",
    "    def plot_earth_pressure(ic,iphi,igamma,iH,ialpha,ibeta,idelta):\n",
    "        #unit conversion\n",
    "        global c\n",
    "        global gamma\n",
    "        global phi\n",
    "        global alpha\n",
    "        global beta\n",
    "        global delta\n",
    "        global H\n",
    "\n",
    "        H = iH\n",
    "        c = ic * 1000.\n",
    "        gamma = igamma * 1000.\n",
    "        phi = iphi * np.pi/180.\n",
    "        alpha = ialpha * np.pi/180.\n",
    "        beta = ibeta * np.pi/180.\n",
    "        delta = idelta * np.pi/180.\n",
    "        #Calculation\n",
    "        theta_a, it, res, sols = find_theta(np.deg2rad(theta_ag_norm(phi,alpha,delta,beta)))\n",
    "\n",
    "        thetas = np.linspace(np.pi/6,np.pi/2*0.9,100)\n",
    "        plt.plot(thetas*180/np.pi,Ea(thetas)/1e3)\n",
    "        plt.plot(theta_a*180/np.pi,Ea(theta_a)/1e3,marker='d',color='red')\n",
    "        plt.xlabel('$\\\\vartheta$ / °')\n",
    "        plt.ylabel('$E_\\\\mathrm{a}$ / kN m$^{-1}$')\n",
    "        #plt.gca().set_ylim(bottom=0)\n",
    "        plt.text(theta_a*180/np.pi,Ea(theta_a)/1e3,'$E_\\\\mathrm{a} = %.2f$ kN m$^{-1}$, $\\\\vartheta$ = %.1f °' %(Ea(theta_a)/1e3,theta_a*180/np.pi))\n",
    "        plt.show();"
   ]
  }
 ],
 "metadata": {
  "kernelspec": {
   "display_name": "Python 3 (ipykernel)",
   "language": "python",
   "name": "python3"
  },
  "language_info": {
   "codemirror_mode": {
    "name": "ipython",
    "version": 3
   },
   "file_extension": ".py",
   "mimetype": "text/x-python",
   "name": "python",
   "nbconvert_exporter": "python",
   "pygments_lexer": "ipython3",
   "version": "3.9.5"
  }
 },
 "nbformat": 4,
 "nbformat_minor": 4
}
