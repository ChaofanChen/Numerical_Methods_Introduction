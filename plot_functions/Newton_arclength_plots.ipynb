{
 "cells": [
  {
   "cell_type": "code",
   "execution_count": 3,
   "metadata": {},
   "outputs": [],
   "source": [
    "def plot_interactive_energy_landscape():\n",
    "    @interact(mu=widgets.FloatSlider(value=0.5,min=0,max=2,step=0.1,description='$\\\\mu$')\n",
    "             )\n",
    "    def energy_landscape(mu):\n",
    "        x0 = np.pi/2\n",
    "        x = np.linspace(-0.5*np.pi,1.5*np.pi, 100)\n",
    "        Epot = 0.5*(x-x0)**2 + mu*np.sin(x)\n",
    "        plt.plot(x, Epot)\n",
    "        plt.xlabel('$\\\\varphi$')\n",
    "        plt.ylabel('$E_\\mathrm{pot}$')\n",
    "        tick_pos= [ -np.pi/2, 0, np.pi/2, np.pi, 3*np.pi/2]\n",
    "        labels = ['$-\\\\frac{1}{2}\\pi$', '$0$', '$\\\\frac{1}{2}\\pi$', '$\\pi$', '$\\\\frac{3}{2}\\pi$']\n",
    "        plt.xticks(tick_pos, labels)\n",
    "        plt.show();"
   ]
  }
 ],
 "metadata": {
  "kernelspec": {
   "display_name": "Python 3 (ipykernel)",
   "language": "python",
   "name": "python3"
  },
  "language_info": {
   "codemirror_mode": {
    "name": "ipython",
    "version": 3
   },
   "file_extension": ".py",
   "mimetype": "text/x-python",
   "name": "python",
   "nbconvert_exporter": "python",
   "pygments_lexer": "ipython3",
   "version": "3.8.10"
  }
 },
 "nbformat": 4,
 "nbformat_minor": 4
}
