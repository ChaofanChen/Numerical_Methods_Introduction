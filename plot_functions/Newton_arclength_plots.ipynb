{
  "cells": [
    {
      "cell_type": "code",
      "execution_count": null,
      "metadata": {},
      "outputs": [],
      "source": [
        "def plot_interactive_energy_landscape():\n",
        "    @interact(mu=widgets.FloatSlider(value=0.5,min=0,max=2,step=0.1,description=r'$\\mu$')\n",
        "             )\n",
        "    def energy_landscape(mu):\n",
        "        x0 = np.pi/2\n",
        "        x = np.linspace(-0.5*np.pi,1.5*np.pi, 100)\n",
        "        Epot = 0.5*(x-x0)**2 + mu*np.sin(x)\n",
        "        plt.plot(x, Epot)\n",
        "        plt.xlabel(r'$\\varphi$')\n",
        "        plt.ylabel(r'$E_\\mathrm{pot}$')\n",
        "        tick_pos= [ -np.pi/2, 0, np.pi/2, np.pi, 3*np.pi/2]\n",
        "        labels = ['$-\\frac{1}{2}\\pi$', '$0$', '$\\frac{1}{2}\\pi$', '$\\pi$', '$\\frac{3}{2}\\pi$']\n",
        "        plt.xticks(tick_pos, labels)\n",
        "        plt.show();"
      ]
    },
    {
      "cell_type": "code",
      "execution_count": 1,
      "metadata": {},
      "outputs": [
        {
          "ename": "NameError",
          "evalue": "name 'np' is not defined",
          "output_type": "error",
          "traceback": [
            "\u001b[1;31m---------------------------------------------------------------------------\u001b[0m",
            "\u001b[1;31mNameError\u001b[0m                                 Traceback (most recent call last)",
            "Cell \u001b[1;32mIn[1], line 2\u001b[0m\n\u001b[0;32m      1\u001b[0m \u001b[38;5;66;03m# Define the range for phi and mu\u001b[39;00m\n\u001b[1;32m----> 2\u001b[0m phi_values \u001b[38;5;241m=\u001b[39m \u001b[43mnp\u001b[49m\u001b[38;5;241m.\u001b[39mlinspace(\u001b[38;5;241m-\u001b[39mnp\u001b[38;5;241m.\u001b[39mpi\u001b[38;5;241m/\u001b[39m\u001b[38;5;241m2\u001b[39m, \u001b[38;5;241m3\u001b[39m\u001b[38;5;241m*\u001b[39mnp\u001b[38;5;241m.\u001b[39mpi\u001b[38;5;241m/\u001b[39m\u001b[38;5;241m2\u001b[39m, \u001b[38;5;241m400\u001b[39m)\n\u001b[0;32m      3\u001b[0m mu_values \u001b[38;5;241m=\u001b[39m np\u001b[38;5;241m.\u001b[39mlinspace(\u001b[38;5;241m0\u001b[39m, \u001b[38;5;241m2\u001b[39m, \u001b[38;5;241m400\u001b[39m)\n\u001b[0;32m      4\u001b[0m Phi, Mu \u001b[38;5;241m=\u001b[39m np\u001b[38;5;241m.\u001b[39mmeshgrid(phi_values, mu_values)\n",
            "\u001b[1;31mNameError\u001b[0m: name 'np' is not defined"
          ]
        }
      ],
      "source": [
        "#plot_energy_and_pitchfork()\n",
        "def plot_energy_and_pitchfork():\n",
        "    @interact(mu_constant=widgets.FloatSlider(value=0.5,min=0,max=2,step=0.1,description=r'$\\mu$')\n",
        "             )\n",
        "    def energy_landscape(mu_constant):\n",
        "        # Define the range for phi and mu\n",
        "        phi_values = np.linspace(-np.pi/2, 3*np.pi/2, 100)\n",
        "        mu_values = np.linspace(0, 2,100)\n",
        "        Phi, Mu = np.meshgrid(phi_values, mu_values)\n",
        "\n",
        "        # Calculate Epot and its derivative for each combination of phi and mu\n",
        "        Epot_values = Epot(Phi, Mu)\n",
        "        dEpot_values = dEpot_dphi(Phi, Mu)\n",
        "\n",
        "        fig = plt.figure(figsize=(14, 6))\n",
        "        ax1 = fig.add_subplot(1, 2, 1, projection='3d')\n",
        "        surf1 = ax1.plot_surface(Phi, Mu, Epot_values, cmap='viridis')\n",
        "        fig.colorbar(surf1, ax=ax1, shrink=0.5, aspect=10)\n",
        "        # Add a red trace along the surface at mu=2\n",
        "        Epot_trace = Epot(phi_values, mu_constant)\n",
        "        ax1.plot(phi_values, np.full_like(phi_values, mu_constant), Epot_trace, color='red', linewidth=2)\n",
        "        ax1.set_title(r'Potential Energy')\n",
        "        ax1.set_xlabel(r'$\\varphi$')\n",
        "        ax1.set_ylabel(r'$\\mu$')\n",
        "        ax1.set_zlabel(r'$E_\\mathrm{pot}$')\n",
        "\n",
        "        # 3D plot for dEpot/dphi\n",
        "        ax2 = fig.add_subplot(1, 2, 2, projection='3d')\n",
        "        surf2 = ax2.plot_surface(Phi, Mu, dEpot_values, cmap='plasma',alpha = 0.8)\n",
        "        fig.colorbar(surf2, ax=ax2, shrink=0.5, aspect=5)\n",
        "        # Add a cutting plane at dEpot/dphi = 0\n",
        "        zero_plane = np.zeros_like(Phi)\n",
        "        ax2.plot_surface(Phi, Mu, zero_plane, color='gray', alpha=0.5)\n",
        "        # Add a red line on the bottom projection at mu=2\n",
        "        dEpot_line = dEpot_dphi(phi_values, mu_constant)\n",
        "        ax2.plot(phi_values, np.full_like(phi_values, mu_constant), np.full_like(phi_values, np.min(dEpot_values)), color='red', linewidth=2)\n",
        "        # Find intersections\n",
        "        #intersections_phi = phi_values[np.isclose(dEpot_line, 0, atol=1e-2)]\n",
        "        #for phi in intersections_phi:\n",
        "        #    ax2.scatter(phi, mu_constant, np.min(dEpot_values), color='green', s=50)\n",
        "\n",
        "\n",
        "\n",
        "        # Project contour lines onto the bottom plane of the graph\n",
        "        contours = ax2.contour(Phi, Mu, dEpot_values, zdir='z', offset=np.min(dEpot_values), levels=[0], cmap='plasma')\n",
        "        ax2.set_title(r'First derivative')\n",
        "        ax2.set_xlabel(r'$\\varphi$')\n",
        "        ax2.set_ylabel(r'$\\mu$')\n",
        "        ax2.set_zlabel(r'$\\mathrm{d}E_{\\mathrm{pot}}/\\mathrm{d}\\varphi$')\n",
        "\n",
        "        fig.tight_layout();"
      ]
    },
    {
      "cell_type": "code",
      "execution_count": null,
      "metadata": {},
      "outputs": [],
      "source": []
    }
  ],
  "metadata": {
    "kernelspec": {
      "display_name": "Python 3 (ipykernel)",
      "language": "python",
      "name": "python3"
    },
    "language_info": {
      "codemirror_mode": {
        "name": "ipython",
        "version": 3
      },
      "file_extension": ".py",
      "mimetype": "text/x-python",
      "name": "python",
      "nbconvert_exporter": "python",
      "pygments_lexer": "ipython3",
      "version": "3.9.18"
    }
  },
  "nbformat": 4,
  "nbformat_minor": 4
}