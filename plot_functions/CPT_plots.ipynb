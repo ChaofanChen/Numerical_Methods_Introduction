{
  "cells": [
    {
      "cell_type": "code",
      "execution_count": 1,
      "metadata": {},
      "outputs": [],
      "source": [
        "def plot_CPT_raw(z,qc,fs,Rf):\n",
        "    fig, ax = plt.subplots(figsize=(18,6))\n",
        "    ax.plot(z, qc, label=r'$q_\\mathrm{c}$ / MPa')\n",
        "    ax.plot(z, fs, label=r'$f_\\mathrm{s}$ / MPa')\n",
        "\n",
        "    ax2 = ax.twinx()\n",
        "    ax2.spines[\"right\"].set_visible(True)\n",
        "    ax2.plot(z,Rf* 100., color='red', label = '$R_\\mathrm{f}$')\n",
        "\n",
        "    ax.set_xlabel(r'$z$ / m')\n",
        "    ax.set_ylabel(r'$q_\\mathrm{c}$, $f_\\mathrm{s}$ / MPa')\n",
        "    ax2.set_ylabel(r'$R_\\mathrm{f}$ / %')\n",
        "\n",
        "    fig.legend(loc='upper center',ncol=3)\n",
        "    fig.tight_layout()"
      ]
    },
    {
      "cell_type": "code",
      "execution_count": 2,
      "metadata": {},
      "outputs": [],
      "source": [
        "def plot_ID_raw(qc_ID, ID):\n",
        "    fig, ax = plt.subplots()\n",
        "    ax.plot(qc_ID, ID,ls='',marker='o')\n",
        "\n",
        "    ax.set_xlabel(r'$q_\\mathrm{c}$ / MPa')\n",
        "    ax.set_ylabel(r'$I_\\mathrm{D}$')\n",
        "\n",
        "    fig.tight_layout()"
      ]
    },
    {
      "cell_type": "code",
      "execution_count": 3,
      "metadata": {},
      "outputs": [],
      "source": [
        "def plot_ID_model(qc_ID, ID):\n",
        "    fig, ax = plt.subplots(ncols=3,figsize=(21,8))\n",
        "    ax[0].plot(qc_ID, ID,ls='',marker='o',label=r'experimental data')\n",
        "\n",
        "    ax[0].plot(qc_ID, ID_mod(qc_ID), label=r'model')\n",
        "\n",
        "    ax[0].set_xlabel(r'$q_\\mathrm{c}$ / MPa')\n",
        "    ax[0].set_ylabel(r'$I_\\mathrm{D}$')\n",
        "    ax[0].legend()\n",
        "    \n",
        "    ax[1].plot(ID, ID_mod(qc_ID),ls='',marker='o')\n",
        "    ax[1].plot([0.1,.8],[0.1,.8],ls='-')\n",
        "    #ax[1].set_aspect('equal')\n",
        "\n",
        "    ax[1].set_xlabel(r'$I_\\mathrm{D}$')\n",
        "    ax[1].set_ylabel(r'$I_\\mathrm{D}^\\mathrm{mod}$')\n",
        "    \n",
        "    ax[2].plot(qc_ID, ID_mod(qc_ID)-ID,ls='',marker='o')\n",
        "    ax[2].axhline(0,ls='--',color='black')\n",
        "\n",
        "    ax[2].set_xlabel(r'$q_\\mathrm{c}$ / MPa')\n",
        "    ax[2].set_ylabel(r'$I_\\mathrm{D}^\\mathrm{mod} - I_\\mathrm{D}$')\n",
        "\n",
        "    fig.tight_layout()"
      ]
    },
    {
      "cell_type": "code",
      "execution_count": 3,
      "metadata": {},
      "outputs": [],
      "source": [
        "def plot_basic_stats(qc_ID, ID):\n",
        "    fig, ax = plt.subplots()\n",
        "    ax.plot(qc_ID, (ID-ID.mean())**2,ls='',marker='o',\n",
        "            label=r'$(I_{\\mathrm{D},i} - \\bar{I}_\\mathrm{D})^2$')\n",
        "\n",
        "    ax.plot(qc_ID, (ID_mod(qc_ID)-ID)**2,ls='',marker='o', \n",
        "            label=r'$(I_{\\mathrm{D},i} - I_{\\mathrm{D},i}^\\mathrm{mod})^2$')\n",
        "    \n",
        "    ax.plot(qc_ID, (ID_mod(qc_ID)-ID.mean())**2,ls='',marker='o', \n",
        "            label=r'$(I_{\\mathrm{D},i}^\\mathrm{mod} - \\bar{I}_\\mathrm{D})^2$')\n",
        "\n",
        "    ax.set_xlabel(r'$q_\\mathrm{c}$ / MPa')\n",
        "    ax.set_ylabel(r'variance measures')\n",
        "    ax.legend()\n",
        "    fig.tight_layout()"
      ]
    },
    {
      "cell_type": "code",
      "execution_count": null,
      "metadata": {},
      "outputs": [],
      "source": [
        "def plot_prediction(z,qc,fs,admissible_data_points):\n",
        "    fig, ax = plt.subplots(figsize=(18,6))\n",
        "    ax.plot(z, qc, label=r'$q_\\mathrm{c}$ / MPa')\n",
        "    ax.plot(z, fs, label=r'$f_\\mathrm{s}$ / MPa')\n",
        "\n",
        "    ax2 = ax.twinx()\n",
        "    ax2.spines[\"right\"].set_visible(True)\n",
        "    ax2.plot(z[admissible_data_points],ID_mod(qc[admissible_data_points]), color='red', label = '$I_\\mathrm{D}^\\mathrm{mod} \\pm 25\\%$')\n",
        "    ax2.fill_between(z[admissible_data_points],ID_mod(qc[admissible_data_points])*1.25,ID_mod(qc[admissible_data_points])*0.75,color='red',alpha=0.1)\n",
        "\n",
        "    ax.set_xlabel(r'$z$ / m')\n",
        "    ax.set_ylabel(r'$q_\\mathrm{c}$, $f_\\mathrm{s}$ / MPa')\n",
        "    ax2.set_ylabel(r'$I_\\mathrm{D}$')\n",
        "\n",
        "    fig.legend(loc='upper center',ncol=3)\n",
        "    fig.tight_layout()"
      ]
    }
  ],
  "metadata": {
    "kernelspec": {
      "display_name": "Python 3 (ipykernel)",
      "language": "python",
      "name": "python3"
    },
    "language_info": {
      "codemirror_mode": {
        "name": "ipython",
        "version": 3
      },
      "file_extension": ".py",
      "mimetype": "text/x-python",
      "name": "python",
      "nbconvert_exporter": "python",
      "pygments_lexer": "ipython3",
      "version": "3.10.6"
    }
  },
  "nbformat": 4,
  "nbformat_minor": 4
}