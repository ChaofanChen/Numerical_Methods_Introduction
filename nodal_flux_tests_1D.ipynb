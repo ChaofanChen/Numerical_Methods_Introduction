{
 "cells": [
  {
   "cell_type": "markdown",
   "metadata": {
    "deletable": false,
    "editable": false
   },
   "source": [
    "<div style=\"display: flex; align-items: center;\">\n",
    "    <img src=\"https://github.com/nagelt/Teaching_Scripts/raw/9d9e29ecca4b04eaf7397938eacbf116d37ddc93/Images/TUBAF_Logo_blau.png\" width=\"500\" height=\"auto\" height=\"auto\" style=\"margin-right: 100px;\" />\n",
    "    <div>\n",
    "        <p><strong>Prof. Dr. Thomas Nagel</strong></p>\n",
    "        <p>Chair of Soil Mechanics and Foundation Engineering<br>Geotechnical Institute<br>Technische Universität Bergakademie Freiberg.</p>\n",
    "        <p><a href=\"https://tu-freiberg.de/en/soilmechanics\">https://tu-freiberg.de/en/soilmechanics</a></p>\n",
    "    </div>\n",
    "</div>"
   ]
  },
  {
   "cell_type": "code",
   "execution_count": 2,
   "metadata": {},
   "outputs": [],
   "source": [
    "import numpy as np\n",
    "import matplotlib.pyplot as plt\n",
    "import scipy as sp\n",
    "#from pypardiso import spsolve\n",
    "\n",
    "#Some plot settings\n",
    "%run plot_functions/plot_settings.py"
   ]
  },
  {
   "cell_type": "markdown",
   "metadata": {},
   "source": [
    "# Quick tests on nodal fluxes\n",
    "\n",
    "## Divergence-free flow\n",
    "\n",
    "Consider a linear concentration gradient of $\\nabla c = 1$ on $x \\in [0,1]$ for $v = 1$ and $D = 1$. We calculate nodal contributions based on the following terms (no units for the moment):\n",
    "\n",
    "\\begin{align}\n",
    "    f_1 &= \\int \\limits_0^1 \\nabla N^\\text{T} v c \\text{d}x\n",
    "    \\\\\n",
    "    f_2 &= \\int \\limits_0^1 N^\\text{T} v \\nabla c \\text{d}x\n",
    "    \\\\\n",
    "    f_3 &= -\\int \\limits_0^1 \\nabla N^\\text{T} v \\nabla c \\text{d}x\n",
    "\\end{align}\n",
    "\n",
    "$f_1$ is a treatment used for advection in models with total flux boundary conditions, $f_2$ is motivated by the implementation of advection with substituted mass balance (resulting in models with diffusive flux boundary conditions), $f_3$ for diffusion."
   ]
  },
  {
   "cell_type": "markdown",
   "metadata": {},
   "source": [
    "## Finite elements in 1D\n",
    "\n",
    "We first create an element class. An element knows the number of nodes it has, their IDs in the global node vector, and the coordinates of its nodes. Linear elements have 2 nodes and 2 quadrature points, quadratic elements 3 nodes and 3 quadrature points. The natural coordinates of the element run from -1 to 1, and the quadrature points and weights are directly taken from Numpy."
   ]
  },
  {
   "cell_type": "code",
   "execution_count": 3,
   "metadata": {},
   "outputs": [],
   "source": [
    "#element class\n",
    "class line_element():#local coordinates go from -1 to 1\n",
    "    #takes number of nodes, global nodal coordinates, global node ids\n",
    "    def __init__(self, nnodes=2, ncoords=[0.,1.], nids=[0,1]):\n",
    "        self.__nnodes = nnodes\n",
    "        if (len(ncoords) != self.__nnodes):\n",
    "            raise Exception(\"Number of coordinates does not match number \\\n",
    "                            of nodes of element (%i vs of %i)\" %(self.__nnodes,len(ncoords)))\n",
    "        else:\n",
    "            self.__coords = np.array(ncoords)\n",
    "        \n",
    "        self.__natural_coords = (self.__coords-self.__coords[0])/(self.__coords[-1]-self.__coords[0])*2. - 1.\n",
    "        \n",
    "        if (len(nids) != self.__nnodes):\n",
    "            raise Exception(\"Number of node IDs does not match number \\\n",
    "                            of nodes of element (%i vs of %i)\" %(self.__nnodes,len(nids)))\n",
    "        else:\n",
    "            self.__global_ids = np.array(nids)\n",
    "        self.__quad_degree = self.__nnodes\n",
    "        self.__quad_points, self.__quad_weights = np.polynomial.legendre.leggauss(self.__quad_degree)\n",
    "                "
   ]
  },
  {
   "cell_type": "code",
   "execution_count": 4,
   "metadata": {},
   "outputs": [],
   "source": [
    "#N\n",
    "def shape_function(element_order,xi):\n",
    "    if (element_order == 1):\n",
    "            return np.array([1])\n",
    "    elif (element_order == 2): #-1,1\n",
    "            return np.array([(1.-xi)/2., (1.+xi)/2.])\n",
    "    elif (element_order == 3): #-1, 0, 1\n",
    "            return np.array([(xi - 1.)*xi/2., (1-xi)*(1+xi), (1+xi)*xi/2.])\n",
    "    elif (element_order == 4): #-1, -1/3, 1/3, 1\n",
    "            return np.array([9/16*(1-xi)*(xi**2 - 1/9),\n",
    "                            27/16*(xi**2-1)*(xi-1/3),\n",
    "                            27/16*(1-xi**2)*(xi+1/3),\n",
    "                            9/16*(xi+1)*(xi**2-1/9)])\n",
    "        \n",
    "#dN_dxi\n",
    "def dshape_function_dxi(element_order,xi):\n",
    "    if (element_order == 1):\n",
    "            return np.array([0])\n",
    "    elif (element_order == 2): #-1,1\n",
    "        return np.array([-0.5, 0.5])  #xi only later for plotting dimensions\n",
    "    elif (element_order == 3):#-1,0,1\n",
    "        return np.array([xi - 0.5,-2.*xi,xi + 0.5])\n",
    "    elif (element_order == 4): #-1, -1/3, 1/3, 1\n",
    "            return np.array([-27*xi**2/16 + 9*xi/8 + 1/16,\n",
    "                            81/16*xi**2 - 9/8 * xi - 27/16, \n",
    "                            -81/16*xi**2 - 9/8 * xi +27/16,\n",
    "                            27*xi**2/16 + 9*xi/8 - 1/16])\n",
    "\n",
    "#dz_dxi\n",
    "def element_jacobian(element,xi):\n",
    "    element_order = element._line_element__nnodes\n",
    "    Jacobian = 0.\n",
    "    Jacobian += dshape_function_dxi(element_order,xi).dot(element._line_element__coords)\n",
    "    return Jacobian\n",
    "\n",
    "#dN_dz\n",
    "def grad_shape_function(element,xi):\n",
    "    element_order = element._line_element__nnodes\n",
    "    Jac = element_jacobian(element,xi)\n",
    "    return dshape_function_dxi(element_order,xi)/Jac"
   ]
  },
  {
   "cell_type": "markdown",
   "metadata": {},
   "source": [
    "## Local assember"
   ]
  },
  {
   "cell_type": "code",
   "execution_count": 43,
   "metadata": {},
   "outputs": [],
   "source": [
    "def test_assembler(elem, c_nodes, v_nodes):\n",
    "    element_order = elem._line_element__nnodes\n",
    "    b_1 = np.zeros(element_order)\n",
    "    b_2 = np.zeros(element_order)\n",
    "    b_3 = np.zeros(element_order)\n",
    "    b_4 = np.zeros(element_order)\n",
    "    #z_nodes = elem._line_element__coords\n",
    "    for i in range(elem._line_element__quad_degree):\n",
    "        #local integration point coordinate\n",
    "        xi = elem._line_element__quad_points[i]\n",
    "        #shape function\n",
    "        N = shape_function(element_order,xi)\n",
    "        #gradient of shape function\n",
    "        dN_dX = grad_shape_function(elem,xi)\n",
    "        #determinant of Jacobian\n",
    "        detJ = np.abs(element_jacobian(elem,xi))\n",
    "        #integration weight\n",
    "        w = elem._line_element__quad_weights[i]\n",
    "        \n",
    "        #global integration point coordinate (for spatially varying properties)\n",
    "        c_glob = np.dot(N,c_nodes)\n",
    "        v_glob = np.dot(N,v_nodes)\n",
    "        grad_c = np.dot(dN_dX,c_nodes)\n",
    "        grad_v = np.dot(dN_dX,v_nodes)\n",
    "        #evaluation of local material/structural properties\n",
    "        #assembly of local RHS\n",
    "        b_1 += dN_dX * c_glob * v_glob * w * detJ\n",
    "        b_2 += N * grad_c * v_glob * w * detJ\n",
    "        b_3 -= dN_dX * grad_c * w * detJ\n",
    "        b_4 += N * c_glob * grad_v * w * detJ\n",
    "    return b_1, b_2, b_3, b_4"
   ]
  },
  {
   "cell_type": "code",
   "execution_count": 50,
   "metadata": {
    "tags": []
   },
   "outputs": [
    {
     "name": "stdout",
     "output_type": "stream",
     "text": [
      "element order:  1\n",
      "Adv. total flow f_1:  [-0.5  0.5]\n",
      "Adv. compl. flow f_2:  [-0.5 -0.5]\n",
      "f_1 + f_2:  [-1.  0.]\n",
      "Diff. flow f_3:  [-1.  1.]\n",
      "---\n",
      "\n",
      "element order:  2\n",
      "Adv. total flow f_1:  [-0.83333333  0.66666667  0.16666667]\n",
      "Adv. compl. flow f_2:  [-0.16666667 -0.66666667 -0.16666667]\n",
      "f_1 + f_2:  [-1.00000000e+00  2.22044605e-16 -1.11022302e-16]\n",
      "Diff. flow f_3:  [-1.  0.  1.]\n",
      "---\n",
      "\n",
      "element order:  3\n",
      "Adv. total flow f_1:  [-0.875  0.375  0.375  0.125]\n",
      "Adv. compl. flow f_2:  [-0.125 -0.375 -0.375 -0.125]\n",
      "f_1 + f_2:  [-1.00000000e+00 -4.99600361e-16  4.99600361e-16 -4.16333634e-17]\n",
      "Diff. flow f_3:  [-1.0000000e+00 -8.8817842e-16  8.8817842e-16  1.0000000e+00]\n",
      "---\n",
      "\n"
     ]
    }
   ],
   "source": [
    "#generate elements of order 1 to 5 and calculate fluxes\n",
    "for i in range(1,4):\n",
    "    nodes = np.linspace(0,i,i+1)\n",
    "    ncoords = np.linspace(0,1,i+1)\n",
    "    elem = line_element(i+1,ncoords,nodes)\n",
    "    nconc = np.flip(ncoords)\n",
    "    f1, f2, f3, f4 = test_assembler(elem,nconc,np.ones(len(nodes)))\n",
    "    print(\"element order: \", i)\n",
    "    print(\"Adv. total flow f_1: \", f1)\n",
    "    print(\"Adv. compl. flow f_2: \", f2)\n",
    "    print(\"f_1 + f_2: \", f1+f2)\n",
    "    print(\"Diff. flow f_3: \", f3)\n",
    "    print(\"---\\n\")"
   ]
  },
  {
   "cell_type": "markdown",
   "metadata": {},
   "source": [
    "Diffusion is always correctly quantified by $f_3$: 1 outflux, 1 influx, no internal fluxes in the domain.\n",
    "\n",
    "Advection is approached (0 influx and 1 outflux) by $f_1$ as the element order increases, but some averaging remains also at higher order. Internal fluxes not balanced.\n",
    "\n",
    "The sum $f_1 + f_2$ recovers the advective flux with expected values on the boundaries with balanced internal nodes."
   ]
  },
  {
   "cell_type": "markdown",
   "metadata": {},
   "source": [
    "## Divergent flux\n",
    "\n",
    "Now we add a linear velocity profile with mean value of 1 and repeat the test (resulting from a hydraulic sink, deformation or multidimensional flow)."
   ]
  },
  {
   "cell_type": "code",
   "execution_count": 82,
   "metadata": {
    "tags": []
   },
   "outputs": [
    {
     "data": {
      "text/plain": [
       "array([1.25, 0.75])"
      ]
     },
     "execution_count": 82,
     "metadata": {},
     "output_type": "execute_result"
    }
   ],
   "source": [
    "ncoords = np.linspace(0,1,2)\n",
    "v = np.ones(len(ncoords))-(ncoords-0.5)*0.5\n",
    "v"
   ]
  },
  {
   "cell_type": "code",
   "execution_count": 83,
   "metadata": {
    "tags": []
   },
   "outputs": [
    {
     "name": "stdout",
     "output_type": "stream",
     "text": [
      "element order:  1\n",
      "Adv. total flow f_1:  [-0.45833333  0.45833333]\n",
      "Adv. compl. flow f_2:  [0.54166667 0.45833333]\n",
      "f_1 + f_2:  [0.08333333 0.91666667]\n",
      "f_1 + f_2 + f_4:  [1.38777878e-16 7.50000000e-01]\n",
      "Diff. flow f_3:  [ 1. -1.]\n",
      "---\n",
      "\n",
      "element order:  2\n",
      "Adv. total flow f_1:  [-0.20833333 -0.5         0.70833333]\n",
      "Adv. compl. flow f_2:  [0.20833333 0.66666667 0.125     ]\n",
      "f_1 + f_2:  [8.32667268e-17 1.66666667e-01 8.33333333e-01]\n",
      "f_1 + f_2 + f_4:  [ 8.32667268e-17 -2.77555756e-16  7.50000000e-01]\n",
      "Diff. flow f_3:  [ 1.  0. -1.]\n",
      "---\n",
      "\n",
      "element order:  3\n",
      "Adv. total flow f_1:  [-0.13958333 -0.39375    -0.16875     0.70208333]\n",
      "Adv. compl. flow f_2:  [0.14791667 0.43125    0.31875    0.10208333]\n",
      "f_1 + f_2:  [0.00833333 0.0375     0.15       0.80416667]\n",
      "f_1 + f_2 + f_4:  [-2.77555756e-17 -3.33066907e-16  2.22044605e-16  7.50000000e-01]\n",
      "Diff. flow f_3:  [ 1.0000000e+00  8.8817842e-16 -8.8817842e-16 -1.0000000e+00]\n",
      "---\n",
      "\n"
     ]
    }
   ],
   "source": [
    "#generate elements of order 1 to 5 and calculate fluxes\n",
    "for i in range(1,4):\n",
    "    nodes = np.linspace(0,i,i+1)\n",
    "    ncoords = np.linspace(0,1,i+1)\n",
    "    elem = line_element(i+1,ncoords,nodes)\n",
    "    nconc = np.copy(ncoords)\n",
    "    f1, f2, f3, f4 = test_assembler(elem,nconc,np.ones(len(nodes))-(ncoords-0.5)*0.5)\n",
    "    print(\"element order: \", i)\n",
    "    print(\"Adv. total flow f_1: \", f1)\n",
    "    print(\"Adv. compl. flow f_2: \", f2)\n",
    "    print(\"f_1 + f_2: \", f1+f2)\n",
    "    print(\"f_1 + f_2 + f_4: \", f1+f2+f4)\n",
    "    print(\"Diff. flow f_3: \", f3)\n",
    "    print(\"---\\n\")"
   ]
  },
  {
   "cell_type": "markdown",
   "metadata": {},
   "source": [
    "Der influx von 0 wird in Ordnung 2 erreicht, in 3 aber wieder verfehlt (dennoch eine Ordnung besser als im linearen Element. Im linearen Element hätten wir allerdings konstante Geschwindigkeit, wenn wir mit einem hydraulischen Potenzial an den Knoten arbeiten.). Der Outflux von 0.75 wird zunehmend besser approximiert, aber Unterschiede bleiben. Wenn man den Term verfollständigt um\n",
    "\n",
    "$$\n",
    "    f_4 = \\int \\limits_{0}^1 N c \\nabla v \\text{d}x\n",
    "$$\n",
    "\n",
    "geht die Bilanz wieder auf. Im Standard FE allerdings nicht so easy."
   ]
  },
  {
   "cell_type": "markdown",
   "metadata": {},
   "source": [
    "### Konstante Konzentration"
   ]
  },
  {
   "cell_type": "code",
   "execution_count": 49,
   "metadata": {},
   "outputs": [
    {
     "name": "stdout",
     "output_type": "stream",
     "text": [
      "element order:  1\n",
      "f_1:  [-1.  1.]\n",
      "f_2:  [0. 0.]\n",
      "f_1 + f_2:  [-1.  1.]\n",
      "f_1 + f_2 + f_4:  [-1.25  0.75]\n",
      "f_3:  [0. 0.]\n",
      "---\n",
      "\n",
      "element order:  2\n",
      "f_1:  [-1.16666667  0.33333333  0.83333333]\n",
      "f_2:  [0. 0. 0.]\n",
      "f_1 + f_2:  [-1.16666667  0.33333333  0.83333333]\n",
      "f_1 + f_2 + f_4:  [-1.25000000e+00  1.11022302e-16  7.50000000e-01]\n",
      "f_3:  [0. 0. 0.]\n",
      "---\n",
      "\n",
      "element order:  3\n",
      "f_1:  [-1.1875  0.1875  0.1875  0.8125]\n",
      "f_2:  [ 1.18158086e-16  2.25034940e-16 -1.73910106e-16 -7.08224618e-17]\n",
      "f_1 + f_2:  [-1.1875  0.1875  0.1875  0.8125]\n",
      "f_1 + f_2 + f_4:  [-1.25000000e+00 -7.21644966e-16  4.99600361e-16  7.50000000e-01]\n",
      "f_3:  [ 7.28036757e-16 -6.83331972e-16 -7.63144335e-16  7.18439549e-16]\n",
      "---\n",
      "\n"
     ]
    }
   ],
   "source": [
    "ncoords = np.linspace(0,1,2)\n",
    "v = np.ones(len(ncoords))-(ncoords-0.5)*0.5\n",
    "v\n",
    "#generate elements of order 1 to 5 and calculate fluxes\n",
    "for i in range(1,4):\n",
    "    nodes = np.linspace(0,i,i+1)\n",
    "    ncoords = np.linspace(0,1,i+1)\n",
    "    elem = line_element(i+1,ncoords,nodes)\n",
    "    nconc = np.ones(i+1)\n",
    "    f1, f2, f3, f4 = test_assembler(elem,nconc,np.ones(len(nodes))-(ncoords-0.5)*0.5)\n",
    "    print(\"element order: \", i)\n",
    "    print(\"f_1: \", f1)\n",
    "    print(\"f_2: \", f2)\n",
    "    print(\"f_1 + f_2: \", f1+f2)\n",
    "    print(\"f_1 + f_2 + f_4: \", f1+f2+f4)\n",
    "    print(\"f_3: \", f3)\n",
    "    print(\"---\\n\")"
   ]
  },
  {
   "cell_type": "markdown",
   "metadata": {},
   "source": [
    "Erwartungsgemäß verschwinden die diffusiven Flüsse. Nur die (diffizile) Gesamtsumme passt zu den erwarteten advektiven Flüssen."
   ]
  },
  {
   "cell_type": "markdown",
   "metadata": {},
   "source": [
    "## Wiederverwendung der Masseflüsse aus H"
   ]
  },
  {
   "cell_type": "markdown",
   "metadata": {},
   "source": [
    "In $H$ assemblieren wir bereits $\\nabla \\cdot \\vec{v} = 0$. Leaving gravity out of the picture and setting $k/\\mu = 1$ the standard implementation is (keep in mind that we have both volume flux and mass lux based implementations):\n",
    "\n",
    "$$\n",
    "    f_\\text{M} = -\\int \\limits_0^1 \\nabla N^\\text{T} \\nabla p \\,\\text{d}x + \\int \\limits_0^1 N^\\text{T} r \\,\\text{d}x\n",
    "$$\n",
    "\n",
    "mit dem Quellterm $r$."
   ]
  },
  {
   "cell_type": "code",
   "execution_count": 71,
   "metadata": {},
   "outputs": [],
   "source": [
    "def test_assembler_HC(elem, c_nodes, p_nodes, r=0):\n",
    "    element_order = elem._line_element__nnodes\n",
    "    b_1 = np.zeros(element_order)\n",
    "    b_2 = np.zeros(element_order)\n",
    "    b_3 = np.zeros(element_order)\n",
    "    b_4 = np.zeros(element_order)\n",
    "    #z_nodes = elem._line_element__coords\n",
    "    for i in range(elem._line_element__quad_degree):\n",
    "        #local integration point coordinate\n",
    "        xi = elem._line_element__quad_points[i]\n",
    "        #shape function\n",
    "        N = shape_function(element_order,xi)\n",
    "        #gradient of shape function\n",
    "        dN_dX = grad_shape_function(elem,xi)\n",
    "        #determinant of Jacobian\n",
    "        detJ = np.abs(element_jacobian(elem,xi))\n",
    "        #integration weight\n",
    "        w = elem._line_element__quad_weights[i]\n",
    "\n",
    "        #global integration point coordinate (for spatially varying properties)\n",
    "        grad_p = np.dot(dN_dX,p_nodes)\n",
    "        grad_c = np.dot(dN_dX,c_nodes)\n",
    "        #evaluation of local material/structural properties\n",
    "        #assembly of local RHS\n",
    "        b_3 -= dN_dX * grad_c * w * detJ\n",
    "        b_4 -= dN_dX * grad_p * w * detJ + N * r * w * detJ\n",
    "    return b_3, b_4"
   ]
  },
  {
   "cell_type": "markdown",
   "metadata": {},
   "source": [
    "### Linear pressure profile"
   ]
  },
  {
   "cell_type": "code",
   "execution_count": 72,
   "metadata": {},
   "outputs": [
    {
     "name": "stdout",
     "output_type": "stream",
     "text": [
      "element order:  1\n",
      "f_diff:  [ 1. -1.]\n",
      "f_hyd:  [-1.  1.]\n",
      "f_adv = c * f_hyd:  [-0.  1.]\n",
      "---\n",
      "\n",
      "element order:  2\n",
      "f_diff:  [ 1.  0. -1.]\n",
      "f_hyd:  [-1.  0.  1.]\n",
      "f_adv = c * f_hyd:  [-0.  0.  1.]\n",
      "---\n",
      "\n",
      "element order:  3\n",
      "f_diff:  [ 1.0000000e+00  8.8817842e-16 -8.8817842e-16 -1.0000000e+00]\n",
      "f_hyd:  [-1.0000000e+00 -8.8817842e-16  8.8817842e-16  1.0000000e+00]\n",
      "f_adv = c * f_hyd:  [-0.00000000e+00 -2.96059473e-16  5.92118946e-16  1.00000000e+00]\n",
      "---\n",
      "\n"
     ]
    }
   ],
   "source": [
    "#generate elements of order 1 to 5 and calculate fluxes\n",
    "for i in range(1,4):\n",
    "    nodes = np.linspace(0,i,i+1)\n",
    "    ncoords = np.linspace(0,1,i+1)\n",
    "    elem = line_element(i+1,ncoords,nodes)\n",
    "    nconc = np.copy(ncoords)\n",
    "    npress = np.flip(ncoords)\n",
    "    f3, f4 = test_assembler_HC(elem,nconc,npress)\n",
    "    print(\"element order: \", i)\n",
    "    print(\"f_diff: \", f3)\n",
    "    print(\"f_hyd: \", f4)\n",
    "    print(\"f_adv = c * f_hyd: \", f4*nconc)\n",
    "    print(\"---\\n\")"
   ]
  },
  {
   "cell_type": "markdown",
   "metadata": {},
   "source": [
    "### Nonlinear pressure profile"
   ]
  },
  {
   "cell_type": "markdown",
   "metadata": {},
   "source": [
    "\\begin{align*}\n",
    "    p_{,xx} &= r\n",
    "    \\\\\n",
    "    p_{,x} &= rx + c_1\n",
    "    \\\\\n",
    "    p &= \\frac{r}{2} x^2 + c_1 x + c_2\n",
    "    \\\\\n",
    "    \\text{RB } &:\n",
    "    \\\\\n",
    "    p(x = 0) &= 1 \\quad \\rightarrow \\quad c_2 = 1\n",
    "    \\\\\n",
    "    p(x = 1) &= 0 \\quad \\rightarrow \\quad c_1 = - \\left( 1 + \\frac{r}{2} \\right)\n",
    "    \\\\\n",
    "    p(x) &= \\frac{r}{2} x^2 - \\left( 1 + \\frac{r}{2} \\right) x + 1\n",
    "\\end{align*}"
   ]
  },
  {
   "cell_type": "code",
   "execution_count": 73,
   "metadata": {},
   "outputs": [
    {
     "data": {
      "image/png": "[encoded data removed]",
      "text/plain": [
       "<Figure size 800x600 with 1 Axes>"
      ]
     },
     "metadata": {},
     "output_type": "display_data"
    }
   ],
   "source": [
    "p_sol = lambda x,r: r/2 * x**2 - (1+r/2)*x + 1\n",
    "coords = np.linspace(0,1,100)\n",
    "fig, ax = plt.subplots()\n",
    "for r in [0,1,2]:\n",
    "    ax.plot(coords,p_sol(coords,r),label=\"r = %.1f\" %r)\n",
    "ax.set_xlabel('$x$')\n",
    "ax.set_ylabel('$p$')\n",
    "ax.legend()\n",
    "fig.tight_layout();"
   ]
  },
  {
   "cell_type": "code",
   "execution_count": 84,
   "metadata": {},
   "outputs": [
    {
     "name": "stdout",
     "output_type": "stream",
     "text": [
      "r = 0.0. v left: 1.000000, v right: 1.000000\n",
      "r = 1.0. v left: 1.500000, v right: 0.500000\n",
      "r = 2.0. v left: 2.000000, v right: 0.000000\n",
      "c left: 0, c right: 1\n"
     ]
    }
   ],
   "source": [
    "v_sol = lambda x,r: -r*x + (1+r/2)\n",
    "for r in [0,1,2]:\n",
    "    print(\"r = %.1f. v left: %3f, v right: %3f\" %(r,v_sol(0,r),v_sol(1,r)))\n",
    "\n",
    "print(\"c left: 0, c right: 1\")"
   ]
  },
  {
   "cell_type": "markdown",
   "metadata": {},
   "source": [
    "### Quellfrei"
   ]
  },
  {
   "cell_type": "code",
   "execution_count": 87,
   "metadata": {},
   "outputs": [
    {
     "name": "stdout",
     "output_type": "stream",
     "text": [
      "element order:  1\n",
      "f_diff:  [ 1. -1.]\n",
      "f_hyd:  [-1.  1.]\n",
      "f_adv = c * f_hyd:  [-0.  1.]\n",
      "---\n",
      "\n",
      "element order:  2\n",
      "f_diff:  [ 1.  0. -1.]\n",
      "f_hyd:  [-1.  0.  1.]\n",
      "f_adv = c * f_hyd:  [-0.  0.  1.]\n",
      "---\n",
      "\n",
      "element order:  3\n",
      "f_diff:  [ 1.0000000e+00  8.8817842e-16 -8.8817842e-16 -1.0000000e+00]\n",
      "f_hyd:  [-1.00000000e+00 -1.77635684e-15  8.88178420e-16  1.00000000e+00]\n",
      "f_adv = c * f_hyd:  [-0.00000000e+00 -5.92118946e-16  5.92118946e-16  1.00000000e+00]\n",
      "---\n",
      "\n"
     ]
    }
   ],
   "source": [
    "#generate elements of order 1 to 5 and calculate fluxes\n",
    "r = 0\n",
    "for i in range(1,4):\n",
    "    nodes = np.linspace(0,i,i+1)\n",
    "    ncoords = np.linspace(0,1,i+1)\n",
    "    elem = line_element(i+1,ncoords,nodes)\n",
    "    nconc = np.copy(ncoords)\n",
    "    npress = p_sol(ncoords,r)\n",
    "    f3, f4 = test_assembler_HC(elem,nconc,npress,r)\n",
    "    print(\"element order: \", i)\n",
    "    print(\"f_diff: \", f3)\n",
    "    print(\"f_hyd: \", f4)\n",
    "    print(\"f_adv = c * f_hyd: \", f4*nconc)\n",
    "    print(\"---\\n\")"
   ]
  },
  {
   "cell_type": "markdown",
   "metadata": {},
   "source": [
    "### Quelle $r=1$"
   ]
  },
  {
   "cell_type": "code",
   "execution_count": 88,
   "metadata": {},
   "outputs": [
    {
     "name": "stdout",
     "output_type": "stream",
     "text": [
      "element order:  1\n",
      "f_diff:  [ 1. -1.]\n",
      "f_hyd:  [-1.5  0.5]\n",
      "f_adv = c * f_hyd:  [-0.   0.5]\n",
      "---\n",
      "\n",
      "element order:  2\n",
      "f_diff:  [ 1.  0. -1.]\n",
      "f_hyd:  [-1.50000000e+00  2.22044605e-16  5.00000000e-01]\n",
      "f_adv = c * f_hyd:  [-0.00000000e+00  1.11022302e-16  5.00000000e-01]\n",
      "---\n",
      "\n",
      "element order:  3\n",
      "f_diff:  [ 1.0000000e+00  8.8817842e-16 -8.8817842e-16 -1.0000000e+00]\n",
      "f_hyd:  [-1.50000000e+00 -1.55431223e-15  1.44328993e-15  5.00000000e-01]\n",
      "f_adv = c * f_hyd:  [-0.00000000e+00 -5.18104078e-16  9.62193288e-16  5.00000000e-01]\n",
      "---\n",
      "\n"
     ]
    }
   ],
   "source": [
    "#generate elements of order 1 to 5 and calculate fluxes\n",
    "r = 1\n",
    "for i in range(1,4):\n",
    "    nodes = np.linspace(0,i,i+1)\n",
    "    ncoords = np.linspace(0,1,i+1)\n",
    "    elem = line_element(i+1,ncoords,nodes)\n",
    "    nconc = np.copy(ncoords)\n",
    "    npress = p_sol(ncoords,r)\n",
    "    f3, f4 = test_assembler_HC(elem,nconc,npress,r)\n",
    "    print(\"element order: \", i)\n",
    "    print(\"f_diff: \", f3)\n",
    "    print(\"f_hyd: \", f4)\n",
    "    print(\"f_adv = c * f_hyd: \", f4*nconc)\n",
    "    print(\"---\\n\")"
   ]
  },
  {
   "cell_type": "markdown",
   "metadata": {},
   "source": [
    "### Quelle r = 2"
   ]
  },
  {
   "cell_type": "code",
   "execution_count": 89,
   "metadata": {},
   "outputs": [
    {
     "name": "stdout",
     "output_type": "stream",
     "text": [
      "element order:  1\n",
      "f_diff:  [ 1. -1.]\n",
      "f_hyd:  [-2.  0.]\n",
      "f_adv = c * f_hyd:  [-0.  0.]\n",
      "---\n",
      "\n",
      "element order:  2\n",
      "f_diff:  [ 1.  0. -1.]\n",
      "f_hyd:  [-2.00000000e+00  4.44089210e-16 -2.49800181e-16]\n",
      "f_adv = c * f_hyd:  [-0.00000000e+00  2.22044605e-16 -2.49800181e-16]\n",
      "---\n",
      "\n",
      "element order:  3\n",
      "f_diff:  [ 1.0000000e+00  8.8817842e-16 -8.8817842e-16 -1.0000000e+00]\n",
      "f_hyd:  [-2.00000000e+00 -6.66133815e-16  5.55111512e-17  3.05311332e-16]\n",
      "f_adv = c * f_hyd:  [-0.00000000e+00 -2.22044605e-16  3.70074342e-17  3.05311332e-16]\n",
      "---\n",
      "\n"
     ]
    }
   ],
   "source": [
    "#generate elements of order 1 to 5 and calculate fluxes\n",
    "r = 2\n",
    "for i in range(1,4):\n",
    "    nodes = np.linspace(0,i,i+1)\n",
    "    ncoords = np.linspace(0,1,i+1)\n",
    "    elem = line_element(i+1,ncoords,nodes)\n",
    "    nconc = np.copy(ncoords)\n",
    "    npress = p_sol(ncoords,r)\n",
    "    f3, f4 = test_assembler_HC(elem,nconc,npress,r)\n",
    "    print(\"element order: \", i)\n",
    "    print(\"f_diff: \", f3)\n",
    "    print(\"f_hyd: \", f4)\n",
    "    print(\"f_adv = c * f_hyd: \", f4*nconc)\n",
    "    print(\"---\\n\")"
   ]
  },
  {
   "cell_type": "markdown",
   "metadata": {},
   "source": [
    "Die hydraulischen Knotenflüsse $\\mathbf{R}_\\text{H}$ entsprechen der analystischen Lösung. Die diffusiven Flüsse $\\mathbf{R}_\\text{Diff}$ ergeben sich korrekt aus $f_1$ (entsprechen Residuen von T in Implementierungen wie THM, TH, nicht aber HC). Die advektiven Flüsse ergeben sich jedoch entsprechend der erwarteten Lösung aus $\\mathbf{R}_\\text{Adv} = \\mathbf{c} \\odot \\mathbf{R}_\\text{H}$."
   ]
  }
 ],
 "metadata": {
  "kernelspec": {
   "display_name": "Python 3 (ipykernel)",
   "language": "python",
   "name": "python3"
  },
  "language_info": {
   "codemirror_mode": {
    "name": "ipython",
    "version": 3
   },
   "file_extension": ".py",
   "mimetype": "text/x-python",
   "name": "python",
   "nbconvert_exporter": "python",
   "pygments_lexer": "ipython3",
   "version": "3.12.7"
  },
  "widgets": {
   "application/vnd.jupyter.widget-state+json": {
    "state": {},
    "version_major": 2,
    "version_minor": 0
   }
  }
 },
 "nbformat": 4,
 "nbformat_minor": 4
}
