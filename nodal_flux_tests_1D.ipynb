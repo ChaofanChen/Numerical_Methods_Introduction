{
 "cells": [
  {
   "cell_type": "markdown",
   "metadata": {
    "deletable": false,
    "editable": false
   },
   "source": [
    "<div style=\"display: flex; align-items: center;\">\n",
    "    <img src=\"https://github.com/nagelt/Teaching_Scripts/raw/9d9e29ecca4b04eaf7397938eacbf116d37ddc93/Images/TUBAF_Logo_blau.png\" width=\"500\" height=\"auto\" height=\"auto\" style=\"margin-right: 100px;\" />\n",
    "    <div>\n",
    "        <p><strong>Prof. Dr. Thomas Nagel</strong></p>\n",
    "        <p>Chair of Soil Mechanics and Foundation Engineering<br>Geotechnical Institute<br>Technische Universität Bergakademie Freiberg.</p>\n",
    "        <p><a href=\"https://tu-freiberg.de/en/soilmechanics\">https://tu-freiberg.de/en/soilmechanics</a></p>\n",
    "    </div>\n",
    "</div>"
   ]
  },
  {
   "cell_type": "code",
   "execution_count": 3,
   "metadata": {},
   "outputs": [],
   "source": [
    "import numpy as np\n",
    "import matplotlib.pyplot as plt\n",
    "import scipy as sp\n",
    "from pypardiso import spsolve\n",
    "\n",
    "#Some plot settings\n",
    "%run plot_functions/plot_settings.py"
   ]
  },
  {
   "cell_type": "markdown",
   "metadata": {},
   "source": [
    "# Quick tests on nodal fluxes\n",
    "\n",
    "Consider a linear concentration gradient of $\\nabla c = -1$ on $x \\in [0,1]$ for $v = 1$ and $D = 1$. We calculate nodal contributions based on the following terms (no units for the moment):\n",
    "\n",
    "\\begin{align}\n",
    "    f_1 &= \\int \\limits_0^1 \\nabla N v c \\text{d}x\n",
    "    \\\\\n",
    "    f_2 &= \\int \\limits_0^1 N v \\nabla c \\text{d}x\n",
    "    \\\\\n",
    "    f_3 &= -\\int \\limits_0^1 \\nabla N v \\nabla c \\text{d}x\n",
    "\\end{align}\n",
    "\n",
    "$f_1$ is for advection, $f_3$ for diffusion. $f_2$ is motivated by the implementation of advection with substituted mass balance."
   ]
  },
  {
   "cell_type": "markdown",
   "metadata": {},
   "source": [
    "## Finite elements in 1D\n",
    "\n",
    "We first create an element class. An element knows the number of nodes it has, their IDs in the global node vector, and the coordinates of its nodes. Linear elements have 2 nodes and 2 quadrature points, quadratic elements 3 nodes and 3 quadrature points. The natural coordinates of the element run from -1 to 1, and the quadrature points and weights are directly taken from Numpy."
   ]
  },
  {
   "cell_type": "code",
   "execution_count": 6,
   "metadata": {},
   "outputs": [],
   "source": [
    "#element class\n",
    "class line_element():#local coordinates go from -1 to 1\n",
    "    #takes number of nodes, global nodal coordinates, global node ids\n",
    "    def __init__(self, nnodes=2, ncoords=[0.,1.], nids=[0,1]):\n",
    "        self.__nnodes = nnodes\n",
    "        if (len(ncoords) != self.__nnodes):\n",
    "            raise Exception(\"Number of coordinates does not match number \\\n",
    "                            of nodes of element (%i vs of %i)\" %(self.__nnodes,len(ncoords)))\n",
    "        else:\n",
    "            self.__coords = np.array(ncoords)\n",
    "        \n",
    "        self.__natural_coords = (self.__coords-self.__coords[0])/(self.__coords[-1]-self.__coords[0])*2. - 1.\n",
    "        \n",
    "        if (len(nids) != self.__nnodes):\n",
    "            raise Exception(\"Number of node IDs does not match number \\\n",
    "                            of nodes of element (%i vs of %i)\" %(self.__nnodes,len(nids)))\n",
    "        else:\n",
    "            self.__global_ids = np.array(nids)\n",
    "        self.__quad_degree = self.__nnodes\n",
    "        self.__quad_points, self.__quad_weights = np.polynomial.legendre.leggauss(self.__quad_degree)\n",
    "                "
   ]
  },
  {
   "cell_type": "code",
   "execution_count": 7,
   "metadata": {},
   "outputs": [],
   "source": [
    "#N\n",
    "def shape_function(element_order,xi):\n",
    "    if (element_order == 1):\n",
    "            return np.array([1])\n",
    "    elif (element_order == 2): #-1,1\n",
    "            return np.array([(1.-xi)/2., (1.+xi)/2.])\n",
    "    elif (element_order == 3): #-1, 0, 1\n",
    "            return np.array([(xi - 1.)*xi/2., (1-xi)*(1+xi), (1+xi)*xi/2.])\n",
    "    elif (element_order == 4): #-1, -1/3, 1/3, 1\n",
    "            return np.array([9/16*(1-xi)*(xi**2 - 1/9),\n",
    "                            27/16*(xi**2-1)*(xi-1/3),\n",
    "                            27/16*(1-xi**2)*(xi+1/3),\n",
    "                            9/16*(xi+1)*(xi**2-1/9)])\n",
    "        \n",
    "#dN_dxi\n",
    "def dshape_function_dxi(element_order,xi):\n",
    "    if (element_order == 1):\n",
    "            return np.array([0])\n",
    "    elif (element_order == 2): #-1,1\n",
    "        return np.array([-0.5, 0.5])  #xi only later for plotting dimensions\n",
    "    elif (element_order == 3):#-1,0,1\n",
    "        return np.array([xi - 0.5,-2.*xi,xi + 0.5])\n",
    "    elif (element_order == 4): #-1, -1/3, 1/3, 1\n",
    "            return np.array([-27*xi**2/16 + 9*xi/8 + 1/16,\n",
    "                            81/16*xi**2 - 9/8 * xi - 27/16, \n",
    "                            -81/16*xi**2 - 9/8 * xi +27/16,\n",
    "                            27*xi**2/16 + 9*xi/8 - 1/16])\n",
    "\n",
    "#dz_dxi\n",
    "def element_jacobian(element,xi):\n",
    "    element_order = element._line_element__nnodes\n",
    "    Jacobian = 0.\n",
    "    Jacobian += dshape_function_dxi(element_order,xi).dot(element._line_element__coords)\n",
    "    return Jacobian\n",
    "\n",
    "#dN_dz\n",
    "def grad_shape_function(element,xi):\n",
    "    element_order = element._line_element__nnodes\n",
    "    Jac = element_jacobian(element,xi)\n",
    "    return dshape_function_dxi(element_order,xi)/Jac"
   ]
  },
  {
   "cell_type": "markdown",
   "metadata": {},
   "source": [
    "The latter equation was modified to yield a symmetric stiffness matrix:\n",
    "\n",
    "\\begin{align}\n",
    "    {\\sigma}_{zz}(z=H)\\delta_{in_\\text{n}} - {\\sigma}_{zz}(z=0) \\delta_{i0} + \\bigcup \\limits_{e=1}^{n_\\text{el}} \\int \\limits_{z_e} \\gamma_\\text{r} N^u_i \\det J \\, \\text{d}\\xi &= \\bigcup \\limits_{e=1}^{n_\\text{el}} \\int \\limits_{z_e} \\nabla N_i^u (\\sigma_{zz}' - p)\\det J  \\, \\text{d}\\xi\n",
    "    \\\n",
    "    {q}_{z}(z=H)\\delta_{in_\\text{n}} \\Delta t - {q}_{z}(z=0) \\delta_{i0} \\Delta t &= \\bigcup \\limits_{e=1}^{n_\\text{el}} \\int \\limits_{z_e} \\nabla N_i^p q_z \\Delta t\\det J  \\, \\text{d}\\xi - \\bigcup \\limits_{e=1}^{n_\\text{el}} \\int \\limits_{z_e} N_i^p \\left[ \\Delta \\partial_z u_z + n\\beta_p\\Delta p  \\right]\\det J  \\, \\text{d}\\xi \n",
    "\\end{align}"
   ]
  },
  {
   "cell_type": "markdown",
   "metadata": {},
   "source": [
    "What we require now is the local assembler to calculate the stiffness matrix and the local right-hand side. Local integration is performed by Gauss quadrature:\n",
    "\n",
    "$$\n",
    "    \\int \\limits_{-1}^1 f(\\xi)\\,\\text{d}\\xi \\approx \\sum \\limits_{i=1}^{n_\\text{gp}} f(\\xi_i) w_i \n",
    "$$"
   ]
  },
  {
   "cell_type": "markdown",
   "metadata": {},
   "source": [
    "## Local assember"
   ]
  },
  {
   "cell_type": "code",
   "execution_count": 11,
   "metadata": {},
   "outputs": [],
   "source": [
    "def test_assembler(elem, c_nodes):\n",
    "    element_order = elem._line_element__nnodes\n",
    "    b_1 = np.zeros(element_order)\n",
    "    b_2 = np.zeros(element_order)\n",
    "    b_3 = np.zeros(element_order)\n",
    "    #z_nodes = elem._line_element__coords\n",
    "    for i in range(elem._line_element__quad_degree):\n",
    "        #local integration point coordinate\n",
    "        xi = elem._line_element__quad_points[i]\n",
    "        #shape function\n",
    "        N = shape_function(element_order,xi)\n",
    "        #gradient of shape function\n",
    "        dN_dX = grad_shape_function(elem,xi)\n",
    "        #determinant of Jacobian\n",
    "        detJ = np.abs(element_jacobian(elem,xi))\n",
    "        #integration weight\n",
    "        w = elem._line_element__quad_weights[i]\n",
    "        \n",
    "        #global integration point coordinate (for spatially varying properties)\n",
    "        c_glob = np.dot(N,c_nodes)\n",
    "        grad_c = np.dot(dN_dX,c_nodes)\n",
    "        #evaluation of local material/structural properties\n",
    "        #assembly of local RHS\n",
    "        b_1 += dN_dX * c_glob * w * detJ\n",
    "        b_2 += N * grad_c * w * detJ\n",
    "        b_3 -= dN_dX * grad_c * w * detJ\n",
    "    return b_1, b_2, b_3"
   ]
  },
  {
   "cell_type": "code",
   "execution_count": 19,
   "metadata": {
    "tags": []
   },
   "outputs": [
    {
     "name": "stdout",
     "output_type": "stream",
     "text": [
      "element order:  1\n",
      "advective flux:  [-0.5  0.5]\n",
      "modified advection treatment:  [-0.5 -0.5]\n",
      "f1 + f2:  [-1.  0.]\n",
      "diffusive flux:  [-1.  1.]\n",
      "---\n",
      "\n",
      "element order:  2\n",
      "advective flux:  [-0.83333333  0.66666667  0.16666667]\n",
      "modified advection treatment:  [-0.16666667 -0.66666667 -0.16666667]\n",
      "f1 + f2:  [-1.00000000e+00  2.22044605e-16 -1.11022302e-16]\n",
      "diffusive flux:  [-1.  0.  1.]\n",
      "---\n",
      "\n",
      "element order:  3\n",
      "advective flux:  [-0.875  0.375  0.375  0.125]\n",
      "modified advection treatment:  [-0.125 -0.375 -0.375 -0.125]\n",
      "f1 + f2:  [-1.00000000e+00 -4.44089210e-16  4.99600361e-16 -1.38777878e-17]\n",
      "diffusive flux:  [-1.00000000e+00 -7.77156117e-16  8.88178420e-16  1.00000000e+00]\n",
      "---\n",
      "\n"
     ]
    }
   ],
   "source": [
    "#generate elements of order 1 to 5 and calculate fluxes\n",
    "for i in range(1,4):\n",
    "    nodes = np.linspace(0,i,i+1)\n",
    "    ncoords = np.linspace(0,1,i+1)\n",
    "    elem = line_element(i+1,ncoords,nodes)\n",
    "    nconc = np.flip(ncoords)\n",
    "    f1, f2, f3 = test_assembler(elem,nconc)\n",
    "    print(\"element order: \", i)\n",
    "    print(\"advective flux: \", f1)\n",
    "    print(\"modified advection treatment: \", f2)\n",
    "    print(\"f1 + f2: \", f1+f2)\n",
    "    print(\"diffusive flux: \", f3)\n",
    "    print(\"---\\n\")"
   ]
  },
  {
   "cell_type": "markdown",
   "metadata": {},
   "source": [
    "Diffusion is always correctly quantified: 1 influx, 1 outflux, no internal fluxes in the domain.\n",
    "\n",
    "Advection is approached (1 influx and 0 outflux) as the element order increases, but some averaging remains also at higher order. Internal fluxes show the redistribution of mass from left to right.\n",
    "\n",
    "The sum $F_1 + f_2$ recovers the advective flux."
   ]
  },
  {
   "cell_type": "code",
   "execution_count": null,
   "metadata": {},
   "outputs": [],
   "source": []
  }
 ],
 "metadata": {
  "kernelspec": {
   "display_name": "Python 3 (ipykernel)",
   "language": "python",
   "name": "python3"
  },
  "language_info": {
   "codemirror_mode": {
    "name": "ipython",
    "version": 3
   },
   "file_extension": ".py",
   "mimetype": "text/x-python",
   "name": "python",
   "nbconvert_exporter": "python",
   "pygments_lexer": "ipython3",
   "version": "3.9.7"
  },
  "widgets": {
   "application/vnd.jupyter.widget-state+json": {
    "state": {},
    "version_major": 2,
    "version_minor": 0
   }
  }
 },
 "nbformat": 4,
 "nbformat_minor": 4
}
