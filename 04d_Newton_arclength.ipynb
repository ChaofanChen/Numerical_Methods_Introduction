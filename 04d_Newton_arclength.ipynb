{
 "cells": [
  {
   "cell_type": "markdown",
   "metadata": {
    "deletable": false,
    "editable": false
   },
   "source": [
    "<div style=\"display: flex; align-items: center;\">\n",
    "    <img src=\"https://github.com/nagelt/Teaching_Scripts/raw/9d9e29ecca4b04eaf7397938eacbf116d37ddc93/Images/TUBAF_Logo_blau.png\" width=\"500\" height=\"auto\" height=\"auto\" style=\"margin-right: 100px;\" />\n",
    "    <div>\n",
    "        <p><strong>Prof. Dr. Thomas Nagel</strong></p>\n",
    "        <p>Chair of Soil Mechanics and Foundation Engineering<br>Geotechnical Institute<br>Technische Universität Bergakademie Freiberg.</p>\n",
    "        <p><a href=\"https://tu-freiberg.de/en/soilmechanics\">https://tu-freiberg.de/en/soilmechanics</a></p>\n",
    "    </div>\n",
    "</div>"
   ]
  },
  {
   "cell_type": "markdown",
   "metadata": {},
   "source": [
    "# Softening behavior and its consequences"
   ]
  },
  {
   "cell_type": "markdown",
   "metadata": {},
   "source": [
    "## Example problem\n",
    "\n",
    "We consider a minimal system to describe buckling."
   ]
  },
  {
   "cell_type": "markdown",
   "metadata": {},
   "source": [
    "![minimal_buckling_model.png](https://raw.githubusercontent.com/nagelt/Numerical_Methods_Introduction/master/Images/minimal_buckling_model.png)"
   ]
  },
  {
   "cell_type": "markdown",
   "metadata": {},
   "source": [
    "Let's use our intuition for two limit cases. For a tiny mass and a stiff spring we expect the bar to stand upright, whereas for a huge mass and a soft spring, we expect it hanging down (either to the left or right). \n",
    "From these limits we can conclude that a stability loss of the upright position occurs. This stability loss, in terms of mechanics, corresponds to passing a state of zero stiffness. Thinking scalarly of F=ku we anticipate that solving for u=F/k fails when $k=0$. Indeed applying Newton's method the iterations do not converge (compare to exercise 04a starting Newton iterations on a point with a horizonal tangent).\n",
    "However non-converging iterations are neither a reliable nor an efficient indicator. So we go for an advanced method. In addition we obtain a glance into the exciting world of nonlinear systems.\n",
    "It goes without saying that you won't find nonlinear effects in a _linear world_, so make sure to enable nonlinear geometry in your FEM-code, if you want to analyse a structure for buckling."
   ]
  },
  {
   "cell_type": "code",
   "execution_count": 77,
   "metadata": {},
   "outputs": [],
   "source": [
    "import numpy as np #numerical methods\n",
    "from scipy.optimize import root # Newton's method outsourced\n",
    "import matplotlib.pyplot as plt # plotting\n",
    "from mpl_toolkits.mplot3d import Axes3D\n",
    "\n",
    "from ipywidgets import widgets\n",
    "from ipywidgets import interact\n",
    "\n",
    "#Some plot settings\n",
    "import plot_functions.plot_settings\n",
    "%run plot_functions/Newton_arclength_plots.ipynb"
   ]
  },
  {
   "cell_type": "markdown",
   "metadata": {},
   "source": [
    "## Principle of Minimum Potential Energy\n",
    "\n",
    "Since nature is lazy, all stable equilibria minimize potential energy (statics, conservative system). Note that maxima describe instable equilibria.\n",
    "For our system we have the potential energy of the rotational spring and of a mass in a gravitational field\n",
    "\\begin{align}\n",
    "\\Pi_\\mathrm{spring} &= \\frac{1}{2}c(\\varphi-\\varphi_0)^2, \\\\\n",
    "\\Pi_\\mathrm{grav} &= mgl\\sin \\varphi.\n",
    "\\end{align}\n",
    "The necessary condition for an equilibrium\n",
    "\\begin{equation}\n",
    "\\frac{\\partial \\Pi}{\\partial \\varphi}=0,\n",
    "\\end{equation}\n",
    "corresponds to an equilibrium of forces.\n",
    "From the second derivative we may identify the equilibrium as minimum $\\left(\\frac{\\partial^2 \\Pi}{\\partial \\varphi^2}>0\\right)$ or maximum of potential energy $\\left(\\frac{\\partial^2 \\Pi}{\\partial \\varphi^2}<0\\right)$, or we have to check higher derivatives $\\left(\\frac{\\partial^2 \\Pi}{\\partial \\varphi^2}=0\\right)$.\n"
   ]
  },
  {
   "cell_type": "markdown",
   "metadata": {},
   "source": [
    "With the spring relaxed at standing upright ($\\varphi_0=\\pi/2$) we define functions for potential energy and its derivatives. Note that we make potential energy nondimensional, thus leaving only one parameter\n",
    "\\begin{equation}\n",
    "\\frac{\\Pi}{\\Pi_\\mathrm{ref}} = \\frac{1}{2}(\\varphi-\\varphi_0)^2 + \\mu \\sin \\varphi,\n",
    "\\end{equation}\n",
    "with $\\mu=\\frac{mgl}{c}$."
   ]
  },
  {
   "cell_type": "code",
   "execution_count": 78,
   "metadata": {},
   "outputs": [],
   "source": [
    "phi0 = 0.5*np.pi   "
   ]
  },
  {
   "cell_type": "code",
   "execution_count": 79,
   "metadata": {},
   "outputs": [],
   "source": [
    "Epot = lambda phi, mu: 0.5*(phi-phi0)**2 + mu*np.sin(phi) # energy\n",
    "dEpot_dphi = lambda phi, mu: phi - phi0 + mu*np.cos(phi)  # force\n",
    "d2Epot_dphi2 = lambda phi, mu: 1 - mu*np.sin(phi)         # stability\n",
    "d2Epot_dphi_dmu = lambda phi, mu: np.cos(phi)             # for tangent"
   ]
  },
  {
   "cell_type": "code",
   "execution_count": 80,
   "metadata": {},
   "outputs": [
    {
     "data": {
      "application/vnd.jupyter.widget-view+json": {
       "model_id": "f7c789c3bd104f42afb62201d4b0f49a",
       "version_major": 2,
       "version_minor": 0
      },
      "text/plain": [
       "interactive(children=(FloatSlider(value=0.5, description='$\\\\mu$', max=2.0), Output()), _dom_classes=('widget-…"
      ]
     },
     "metadata": {},
     "output_type": "display_data"
    }
   ],
   "source": [
    "plot_interactive_energy_landscape()"
   ]
  },
  {
   "cell_type": "markdown",
   "metadata": {},
   "source": [
    "Observe how the energy landscape changes from single-well ($\\mu<1$) to a double well ($\\mu>1$). Basically this figure already explains everything, for a small load there is one equilibrium (upright) and for a huge load the upright position gets instable (maximum) and there occur two stable equilibria (minima), one to the left and the other to the right.\n",
    "\n",
    "The following graph shows the same, but plotting the potential energy and its derivative in $(\\phi,\\, \\mu)$ space. The gray plane indicates $\\text{d}E_\\text{pot}/\\text{d}\\varphi=0$. The trace of this intersection is the blue pitchfork, indicating the potential equilibrium positions."
   ]
  },
  {
   "cell_type": "code",
   "execution_count": 81,
   "metadata": {},
   "outputs": [
    {
     "data": {
      "application/vnd.jupyter.widget-view+json": {
       "model_id": "4d2c4ebdab4a4580a4492c7c705708d1",
       "version_major": 2,
       "version_minor": 0
      },
      "text/plain": [
       "interactive(children=(FloatSlider(value=0.5, description='$\\\\mu$', max=2.0), Output()), _dom_classes=('widget-…"
      ]
     },
     "metadata": {},
     "output_type": "display_data"
    }
   ],
   "source": [
    "#%run plot_functions/Newton_arclength_plots.ipynb\n",
    "plot_energy_and_pitchfork()"
   ]
  },
  {
   "cell_type": "markdown",
   "metadata": {},
   "source": [
    "## Solution with the pseudo arc-length method\n",
    "\n",
    "The equation (equilibrium) to solve is transcendental\n",
    "\\begin{equation}\n",
    "f(\\varphi) = \\varphi-\\varphi_0 + \\mu \\cos \\varphi = 0,\n",
    "\\end{equation}\n",
    "so we resort to numerical methods.\n",
    "Newtons method, however, runs into trouble for $\\mu \\to 1$, because then the tangent \n",
    "\\begin{equation}\n",
    "\\frac{\\mathrm{d}f}{\\mathrm{d}\\varphi} = 1 - \\mu \\sin \\varphi\n",
    "\\end{equation}\n",
    "at the equilibrium ($\\varphi=\\varphi_0=\\frac{\\pi}{2}$) approaches zero.\n"
   ]
  },
  {
   "cell_type": "markdown",
   "metadata": {},
   "source": [
    "Now it is time for the clever move, instead of solving for $\\varphi$ with the fixed parameter $\\mu$, we think of a solution curve in $\\varphi$-$\\mu$ space. Starting from a known point of this curve, e.g. the trivial unloaded case $\\mu=0$, we progress pointwise by imposing a fixed distance (called pseudo arc-length because coordinate $\\varphi$ and parameter $\\mu$ do not measure a spatial distance) from one point to another (index _p_ denotes previous point)."
   ]
  },
  {
   "cell_type": "code",
   "execution_count": 82,
   "metadata": {},
   "outputs": [],
   "source": [
    "distance_squared = lambda phi,mu, phi_p,mu_p: 0.1*(phi-phi_p)**2 + (mu-mu_p)**2   # pseudo arc-length squared\n",
    "d_distance_squared_dphi = lambda phi,mu, phi_p,mu_p: 2*0.1*(phi-phi_p)  # for tangent\n",
    "d_distance_squared_dmu = lambda phi,mu, phi_p,mu_p: 2*(mu-mu_p)   # for tangent"
   ]
  },
  {
   "cell_type": "markdown",
   "metadata": {},
   "source": [
    "Note that the weigthing for the arc-length required some divine inspiration, we are not teaching here."
   ]
  },
  {
   "cell_type": "markdown",
   "metadata": {},
   "source": [
    "The extended system (two equations for two unknowns), we have to solve, reads"
   ]
  },
  {
   "cell_type": "code",
   "execution_count": 83,
   "metadata": {},
   "outputs": [],
   "source": [
    "def sys(z, zp, ds):\n",
    "    phi = z[0]\n",
    "    mu = z[1]\n",
    "    phi_p = zp[0]\n",
    "    mu_p = zp[1]\n",
    "    \n",
    "    r0 = dEpot_dphi(phi, mu)   # equilibrium\n",
    "    r1 = distance_squared(phi, mu, phi_p, mu_p) - ds**2 # distance constraint\n",
    "    \n",
    "    res = np.array([r0, r1])\n",
    "    return res"
   ]
  },
  {
   "cell_type": "markdown",
   "metadata": {},
   "source": [
    "And its tangent reads "
   ]
  },
  {
   "cell_type": "code",
   "execution_count": 84,
   "metadata": {},
   "outputs": [],
   "source": [
    "def dsys(z, zp, ds):\n",
    "    phi = z[0]\n",
    "    mu = z[1]\n",
    "    phi_p = zp[0]\n",
    "    mu_p = zp[1]\n",
    "    \n",
    "    J00 = d2Epot_dphi2(phi, mu)\n",
    "    J01 = d2Epot_dphi_dmu(phi, mu)\n",
    "    J10 = d_distance_squared_dphi(phi, mu, phi_p, mu_p)\n",
    "    J11 = d_distance_squared_dmu(phi, mu, phi_p, mu_p)\n",
    "    \n",
    "    J = np.matrix([[J00, J01], [J10, J11]])\n",
    "    return J"
   ]
  },
  {
   "cell_type": "markdown",
   "metadata": {},
   "source": [
    "Starting from the unloaded initial state we increase the load (direction guided by start value of the iterations). In addition we observe the stability of the calculated states (from nonlinear systems theory it is known that a change of stability typically indicates branching of solutions)."
   ]
  },
  {
   "cell_type": "code",
   "execution_count": 85,
   "metadata": {},
   "outputs": [
    {
     "data": {
      "image/png": "[encoded data removed]",
      "text/plain": [
       "<Figure size 800x600 with 1 Axes>"
      ]
     },
     "metadata": {},
     "output_type": "display_data"
    }
   ],
   "source": [
    "ds = 0.11   # arc-length between two successive points (resolution of solution points)\n",
    "\n",
    "z0 = np.array([0.5*np.pi, 0]) # unloaded state\n",
    "zp = z0\n",
    "dz= np.array([0, ds])  # assumed step to the next point (determines direction)\n",
    "\n",
    "stable_phi = []\n",
    "stable_mu =[]\n",
    "nonstable_phi = []\n",
    "nonstable_mu = []\n",
    "stable_prev = True   # we known by intution that the initial state is stable\n",
    "\n",
    "for k in range(17):\n",
    "    ZS = root(sys, zp+dz, args=(zp,ds), jac=dsys, method='hybr') \n",
    "    zs =ZS.x   # extract value from solution structure\n",
    "    stable = d2Epot_dphi2(zs[0], zs[1]) > 0\n",
    "    if stable:\n",
    "        stable_phi.append( zs[0] )\n",
    "        stable_mu.append( zs[1] )\n",
    "    else:        \n",
    "        nonstable_phi.append( zs[0] )\n",
    "        nonstable_mu.append( zs[1] )\n",
    "        \n",
    "    if not stable==stable_prev:\n",
    "        branchpoint = 0.5*(zp+zs) # stability change appeared somewhere in between\n",
    "    \n",
    "    # move on\n",
    "    dz = zs - zp \n",
    "    zp = zs\n",
    "    stable_prev = stable\n",
    "  \n",
    "# plot points of mu-phi curve\n",
    "plt.plot(stable_phi, stable_mu, 'bo')\n",
    "plt.plot(nonstable_phi, nonstable_mu, 'bo', fillstyle='none')\n",
    "plt.xlabel('$\\\\varphi$')\n",
    "plt.ylabel('$\\mu$')\n",
    "tick_pos= [ -np.pi/2, 0, np.pi/2, np.pi, 3*np.pi/2]\n",
    "labels = ['$-\\\\frac{1}{2}\\pi$', '$0$', '$\\\\frac{1}{2}\\pi$', '$\\pi$', '$\\\\frac{3}{2}\\pi$']\n",
    "plt.xticks(tick_pos, labels)\n",
    "\n",
    "# plot distance constraint for initial point\n",
    "plt.plot(z0[0], z0[1], 'bo')   # initial point\n",
    "phi_range = np.linspace(-np.pi, np.pi)\n",
    "mu_range =  np.linspace(-1.1*ds, 1.1*ds)\n",
    "PHI, MU = np.meshgrid(phi_range, mu_range)\n",
    "ZERO = np.zeros(PHI.shape)\n",
    "DS = np.sqrt(distance_squared(PHI, MU, ZERO, ZERO)) # refer to initial point (delta_phi=delta_mu=0)\n",
    "plt.contour(PHI+phi0, MU, DS, [ds])  # distance constraint\n",
    "\n",
    "plt.show()"
   ]
  },
  {
   "cell_type": "markdown",
   "metadata": {},
   "source": [
    "A filled circle denotes a stable equilibrium and an empty circle an instable equilibrium."
   ]
  },
  {
   "cell_type": "markdown",
   "metadata": {},
   "source": [
    "The ellipse around the initial point shows where the next point, in this case the first point, has to be located, as dictated by the distance constraint. We will find intersections of the constraint-ellipse with the $\\phi$-$\\mu$-curve for all directions, even when the $\\phi$-$\\mu$-curve goes horizontal and the formulation for fixed $\\mu$ fails. For a quantitative analysis and to receive some inspiration for setting the pseudo arc-length metric it is advisable to calculate the determinant of the Jacobian (in function ``dsys``)."
   ]
  },
  {
   "cell_type": "markdown",
   "metadata": {},
   "source": [
    "We note that the upright position is an equilibrium and at $\\mu=1$ it becomes unstable.\n",
    "Now we take a closer look at this point (stability loss) and try to follow the stable equilibrium branching off into the buckled state. Therefore we start the iterations from a state without load increase but rotated out of the vertical position ($\\varphi\\ne\\pi/2$)."
   ]
  },
  {
   "cell_type": "code",
   "execution_count": 87,
   "metadata": {},
   "outputs": [
    {
     "data": {
      "image/png": "[encoded data removed]",
      "text/plain": [
       "<Figure size 800x600 with 1 Axes>"
      ]
     },
     "metadata": {},
     "output_type": "display_data"
    }
   ],
   "source": [
    "zp = branchpoint\n",
    "dz = np.array([0.5, 0.0])   # guide direction to find other branch\n",
    "for k in range(10):\n",
    "    ZS = root(sys, zp+dz, args=(zp,ds), jac=dsys, method='hybr') \n",
    "    zs =ZS.x\n",
    "    if d2Epot_dphi2(zs[0], zs[1]) > 0:\n",
    "        stable_phi.append( zs[0] )\n",
    "        stable_mu.append( zs[1] )\n",
    "    else:\n",
    "        nonstable_phi.append( zs[0] )\n",
    "        nonstable_mu.append( zs[1] )\n",
    "    dz = zs -zp\n",
    "    zp = zs\n",
    "\n",
    "plt.plot(stable_phi, stable_mu, 'bo')\n",
    "plt.plot(nonstable_phi, nonstable_mu, 'bo', fillstyle='none')\n",
    "plt.xlabel('$\\\\varphi$')\n",
    "plt.ylabel('$\\mu$')\n",
    "tick_pos= [ -np.pi/2, 0, np.pi/2, np.pi, 3*np.pi/2]\n",
    "labels = ['$-\\\\frac{1}{2}\\pi$', '$0$', '$\\\\frac{1}{2}\\pi$', '$\\pi$', '$\\\\frac{3}{2}\\pi$']\n",
    "plt.xticks(tick_pos, labels)\n",
    "plt.show()"
   ]
  },
  {
   "cell_type": "markdown",
   "metadata": {},
   "source": [
    "In accordance with our initial intuitive expectation we recognize the buckled state branching off when the critical load is exceeded.\n",
    "By symmetry there is also a mirrored branch (buckling to the other side). It can be found by slightly modifying the starting guess."
   ]
  },
  {
   "cell_type": "code",
   "execution_count": 88,
   "metadata": {},
   "outputs": [
    {
     "data": {
      "image/png": "[encoded data removed]",
      "text/plain": [
       "<Figure size 800x600 with 1 Axes>"
      ]
     },
     "metadata": {},
     "output_type": "display_data"
    }
   ],
   "source": [
    "zp = branchpoint\n",
    "dz = np.array([-0.5, 0.0])   # guide direction to find other branch\n",
    "for k in range(10):\n",
    "    ZS = root(sys, zp+dz, args=(zp,ds), jac=dsys, method='hybr') \n",
    "    zs =ZS.x\n",
    "    if d2Epot_dphi2(zs[0], zs[1]) > 0:\n",
    "        stable_phi.append( zs[0] )\n",
    "        stable_mu.append( zs[1] )\n",
    "    else:\n",
    "        nonstable_phi.append( zs[0] )\n",
    "        nonstable_mu.append( zs[1] )\n",
    "    dz = zs -zp\n",
    "    zp = zs\n",
    "\n",
    "plt.plot(stable_phi, stable_mu, 'bo')\n",
    "plt.plot(nonstable_phi, nonstable_mu, 'bo', fillstyle='none')\n",
    "plt.xlabel('$\\\\varphi$')\n",
    "plt.ylabel('$\\mu$')\n",
    "tick_pos= [ -np.pi/2, 0, np.pi/2, np.pi, 3*np.pi/2]\n",
    "labels = ['$-\\\\frac{1}{2}\\pi$', '$0$', '$\\\\frac{1}{2}\\pi$', '$\\pi$', '$\\\\frac{3}{2}\\pi$']\n",
    "plt.xticks(tick_pos, labels)\n",
    "plt.show()"
   ]
  },
  {
   "cell_type": "markdown",
   "metadata": {},
   "source": [
    "There is much more to discover. In terms of physics it may be interesting to study the influence of an imperfection ($\\varphi_0\\ne \\pi/2$), whereas in terms of numerics it is desireable to automate the pseudo arc-length metric, to predict branched curves and to make sure all branches have been found. For further reading we recommend the textbooks _Nonlinear Oscillations, Dynamical Systems, and Bifurcations of Vector Fields_ by J. Guckenheimer and P. Holmes and _Elements of Applied Bifurcation Theory_ by Y. Kuznetsov."
   ]
  }
 ],
 "metadata": {
  "kernelspec": {
   "display_name": "Python 3 (ipykernel)",
   "language": "python",
   "name": "python3"
  },
  "language_info": {
   "codemirror_mode": {
    "name": "ipython",
    "version": 3
   },
   "file_extension": ".py",
   "mimetype": "text/x-python",
   "name": "python",
   "nbconvert_exporter": "python",
   "pygments_lexer": "ipython3",
   "version": "3.9.18"
  },
  "widgets": {
   "application/vnd.jupyter.widget-state+json": {
    "state": {},
    "version_major": 2,
    "version_minor": 0
   }
  }
 },
 "nbformat": 4,
 "nbformat_minor": 4
}
