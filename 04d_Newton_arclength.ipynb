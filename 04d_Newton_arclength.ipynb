{
 "cells": [
  {
   "cell_type": "markdown",
   "metadata": {
    "deletable": false,
    "editable": false
   },
   "source": [
    "![Logo TUBAF](https://tu-freiberg.de/sites/default/files/media/freiberger-alumni-netzwerk-6127/wbm_orig_rgb_0.jpg)\n",
    "\n",
    "Exercise material of the MSc-level course **Numerical Methods in Geotechnical Engineering**.\n",
    "Held at Technische Universität Bergakademie Freiberg.\n",
    "\n",
    "Comments to:\n",
    "\n",
    "*Prof. Dr. Thomas Nagel  \n",
    "Chair of Soil Mechanics and Foundation Engineering  \n",
    "Geotechnical Institute  \n",
    "Technische Universität Bergakademie Freiberg.*\n",
    "\n",
    "https://tu-freiberg.de/en/soilmechanics\n"
   ]
  },
  {
   "cell_type": "markdown",
   "metadata": {},
   "source": [
    "# Softening behavior and numerical issues"
   ]
  },
  {
   "cell_type": "markdown",
   "metadata": {},
   "source": [
    "## Example problem\n",
    "\n",
    "We consider a minimal system to describe buckling"
   ]
  },
  {
   "cell_type": "markdown",
   "metadata": {},
   "source": [
    "FIGURE TODO massless rigid bar hinged by rotational spring and loaded by a point mass"
   ]
  },
  {
   "cell_type": "markdown",
   "metadata": {},
   "source": [
    "Let's use our intuition for two limit cases. For a tiny mass and a stiff spring we expect the bar to stand upright, whereas for a huge mass and a soft spring, we expect it hanging down (either to the left or right). \n",
    "From these limits we can conclude that a stability loss of the upright position occurs. This stability loss, in terms of mechanics, corresponds to passing a state of zero stiffness. Thinking scalarly of F=ku we anticipate that solving for u=F/k fails. Indeed applying Newton's method the iterations do not converge (compare to exercise 04a starting Newton iterations on a point with a horizonal tangent).\n",
    "However non-converging iterations are neither a reliable nor an efficient indicator. So we go for an advanced method. In addition we obtain a glance into the exciting world of nonlinear systems."
   ]
  },
  {
   "cell_type": "code",
   "execution_count": 1,
   "metadata": {},
   "outputs": [],
   "source": [
    "import numpy as np #numerical methods\n",
    "from scipy.optimize import root # Newton's method outsourced\n",
    "import matplotlib.pyplot as plt # plotting\n",
    "\n",
    "from ipywidgets import widgets\n",
    "from ipywidgets import interact\n",
    "\n",
    "#Some plot settings\n",
    "import plot_functions.plot_settings\n",
    "#%run plot_functions/iteration_schemes_plots.ipynb"
   ]
  },
  {
   "cell_type": "markdown",
   "metadata": {},
   "source": [
    "## Principle of Minimum Potential Energy\n",
    "\n",
    "Since nature is lazy, all stable equilibria minimize potential energy (statics, conservative system). Note that maxima describe instable equilibria.\n",
    "For our system we have the potential energy of the rotational spring and of a mass in a gravitational field\n",
    "\\begin{align}\n",
    "\\Pi_\\mathrm{spring} &= \\frac{1}{2}c(x-x_0)^2, \\\\\n",
    "\\Pi_\\mathrm{grav} &= mgl\\sin x.\n",
    "\\end{align}\n",
    "The necessary condition for an equilibrium\n",
    "\\begin{equation}\n",
    "\\frac{\\partial \\Pi}{\\partial x}=0,\n",
    "\\end{equation}\n",
    "corresponds to an equilibrium of forces.\n",
    "From the second derivative $\\frac{\\partial^2 \\Pi}{\\partial x^2}$ we may identify it as minimum/maximum or have to go further.\n"
   ]
  },
  {
   "cell_type": "markdown",
   "metadata": {},
   "source": [
    "With the spring relaxed at standing upright ($x_0=\\frac{\\pi}{2}$) we define functions for potential energy and its derivatives. Note that we make potential energy nondimensional, thus leaving only one parameter\n",
    "\\begin{equation}\n",
    "\\frac{\\Pi}{\\Pi_\\mathrm{ref}} = \\frac{1}{2}(x-x_0)^2 + \\mu \\sin x,\n",
    "\\end{equation}\n",
    "with $\\mu=\\frac{mgl}{c}$."
   ]
  },
  {
   "cell_type": "code",
   "execution_count": 2,
   "metadata": {},
   "outputs": [],
   "source": [
    "x0 = 0.5*np.pi"
   ]
  },
  {
   "cell_type": "code",
   "execution_count": 3,
   "metadata": {},
   "outputs": [],
   "source": [
    "Epot = lambda x, mu: 0.5*(x-x0)**2 + mu*np.sin(x) # energy\n",
    "dEpot = lambda x, mu: x - x0 + mu*np.cos(x)        # force\n",
    "ddEpot = lambda x, mu: 1 - mu*np.sin(x)             # stability"
   ]
  },
  {
   "cell_type": "markdown",
   "metadata": {},
   "source": [
    "FIGURE INTERACTIVE TODO   E(x) for variable parameter mu     "
   ]
  },
  {
   "cell_type": "markdown",
   "metadata": {},
   "source": [
    "Observe how the energy landscape changes from single-well ($\\mu<1$) to a double well ($\\mu>1$). Basically this figure already explains everything, for a small load there is one equilibrium (upright) and for a huge load the upright position gets instable (maximum) and there occur two stable equilibria (minima), one to the left and the other to the right."
   ]
  },
  {
   "cell_type": "markdown",
   "metadata": {},
   "source": [
    "## Solution with the pseudo arc-length method\n",
    "\n",
    "The equation (equilibrium) to solve is transcendental\n",
    "\\begin{equation}\n",
    "f(x) = x-x_0 + \\mu \\cos x = 0,\n",
    "\\end{equation}\n",
    "so we resort to numerical methods.\n",
    "Newtons method, however, runs into trouble for $\\mu \\to 1$, because then the tangent \n",
    "\\begin{equation}\n",
    "\\frac{\\mathrm{d}f}{\\mathrm{d}x} = 1 - \\mu \\sin x\n",
    "\\end{equation}\n",
    "at the equilibrium ($x=x_0=\\frac{\\pi}{2}$) approaches zero.\n"
   ]
  },
  {
   "cell_type": "markdown",
   "metadata": {},
   "source": [
    "Now it is time for the clever move, instead of solving for $x$ with the fixed parameter $\\mu$, we think of a solution curve in $x$-$\\mu$ space. Starting from a known point of this curve, e.g. the trivial unloaded case $\\mu=0$, we progress pointwise by imposing a fixed distance (called pseudo arc-length because coordinate $x$ and parameter $\\mu$ do not measure a spatial distance) from one point to another."
   ]
  },
  {
   "cell_type": "markdown",
   "metadata": {},
   "source": [
    "The extended system (two equations for two unknowns), we have to solve, reads"
   ]
  },
  {
   "cell_type": "code",
   "execution_count": 4,
   "metadata": {},
   "outputs": [],
   "source": [
    "def sys(z, zp):\n",
    "    x = z[0]\n",
    "    mu = z[1]\n",
    "    r0 = dEpot(x, mu)   # equilibrium\n",
    "    r1 = 0.1*(x-zp[0])**2 + (mu-zp[1])**2  - ds**2     # arc-length squared\n",
    "    res = np.array([r0, r1])\n",
    "    return res"
   ]
  },
  {
   "cell_type": "markdown",
   "metadata": {},
   "source": [
    "Note that the weigthing for the arc-length required some divine inspiration, we are not teaching here.\n",
    "\n",
    "And its Tangent reads "
   ]
  },
  {
   "cell_type": "code",
   "execution_count": 5,
   "metadata": {},
   "outputs": [],
   "source": [
    "def dsys(z, zp):\n",
    "    x = z[0]\n",
    "    mu = z[1]\n",
    "    \n",
    "    J00 = ddEpot(x, mu)\n",
    "    J01 = np.cos(x) \n",
    "    J10 = 0.1*(x-zp[0])*2\n",
    "    J11 = (mu-zp[1])*2\n",
    "    \n",
    "    J = np.matrix([[J00, J01], [J10, J11]])\n",
    "    return J"
   ]
  },
  {
   "cell_type": "markdown",
   "metadata": {},
   "source": [
    "Starting from the unloaded initial state we increase the load (direction guided by start value of the iterations). In addition we observe the stability of the calculated states (from nonlinear systems theory it is known that a change of stability typically indicates branching of solutions)."
   ]
  },
  {
   "cell_type": "code",
   "execution_count": 6,
   "metadata": {},
   "outputs": [
    {
     "data": {
      "image/png": "[encoded data removed]",
      "text/plain": [
       "<Figure size 864x576 with 1 Axes>"
      ]
     },
     "metadata": {
      "needs_background": "light"
     },
     "output_type": "display_data"
    }
   ],
   "source": [
    "ds = 0.11   # arc-length between points (resolution of solution points)\n",
    "\n",
    "z0 = np.array([0.5*np.pi, 0]) # unloaded state\n",
    "zp = z0\n",
    "dz= np.array([0, ds])  # assumed step to the next point (determines direction)\n",
    "\n",
    "stable_x = []\n",
    "stable_mu =[]\n",
    "nonstable_x = []\n",
    "nonstable_mu = []\n",
    "stable_prev = True   # we known by intution that the initial state is stable\n",
    "\n",
    "for k in range(17):\n",
    "    ZS = root(sys, zp+dz, args=(zp,), jac=dsys, method='hybr') \n",
    "    zs =ZS.x\n",
    "    stable = ddEpot(zs[0], zs[1]) > 0\n",
    "    if stable:\n",
    "        stable_x.append( zs[0] )\n",
    "        stable_mu.append( zs[1] )\n",
    "    else:        \n",
    "        nonstable_x.append( zs[0] )\n",
    "        nonstable_mu.append( zs[1] )\n",
    "        \n",
    "    if not stable==stable_prev:\n",
    "        branchpoint = 0.5*(zp+zs) # stability change appeared somewhere in between\n",
    "    \n",
    "    # move on\n",
    "    dz = zs - zp \n",
    "    zp = zs\n",
    "    stable_prev = stable\n",
    "    \n",
    "plt.plot(stable_x, stable_mu, 'bo')\n",
    "plt.plot(nonstable_x, nonstable_mu, 'bo', fillstyle='none')\n",
    "plt.xlabel('$x$')\n",
    "plt.ylabel('$\\mu$')\n",
    "plt.show()"
   ]
  },
  {
   "cell_type": "markdown",
   "metadata": {},
   "source": [
    "We note that the upright position is an equilibrium and at $\\mu=1$ it becomes unstable.\n",
    "Now we take a closer look at this point (stability loss) and try to follow the stable equilibrium branching off into the buckled state. Therefore we start the iterations from a state without load increase but rotated out of the vertical position."
   ]
  },
  {
   "cell_type": "code",
   "execution_count": 7,
   "metadata": {},
   "outputs": [
    {
     "data": {
      "image/png": "[encoded data removed]",
      "text/plain": [
       "<Figure size 864x576 with 1 Axes>"
      ]
     },
     "metadata": {
      "needs_background": "light"
     },
     "output_type": "display_data"
    }
   ],
   "source": [
    "zp = branchpoint\n",
    "dz = np.array([0.5, 0.0])   # guide direction to find other branch\n",
    "for k in range(10):\n",
    "    ZS = root(sys, zp+dz, args=(zp,), jac=dsys, method='hybr') \n",
    "    zs =ZS.x\n",
    "    if ddEpot(zs[0], zs[1]) > 0:\n",
    "        stable_x.append( zs[0] )\n",
    "        stable_mu.append( zs[1] )\n",
    "    else:\n",
    "        nonstable_x.append( zs[0] )\n",
    "        nonstable_mu.append( zs[1] )\n",
    "    dz = zs -zp\n",
    "    zp = zs\n",
    "\n",
    "plt.plot(stable_x, stable_mu, 'bo')\n",
    "plt.plot(nonstable_x, nonstable_mu, 'bo', fillstyle='none')\n",
    "plt.xlabel('$x$')\n",
    "plt.ylabel('$\\mu$')\n",
    "plt.show()"
   ]
  },
  {
   "cell_type": "markdown",
   "metadata": {},
   "source": [
    "In accordance with our initial intuitive expectation we recognize the buckled state branching off when the critical load is exceeded.\n",
    "By symmetry there is also a mirrored branch (buckling to the other side). It is not shown here, but if you imagine it, then you may understand why this kind of bifurcation is called _pitchfork_."
   ]
  },
  {
   "cell_type": "markdown",
   "metadata": {},
   "source": [
    "There is much more to discover. In terms of physics it may be interesting to study the influence of an imperfection ($x_0\\ne \\pi/2$), whereas in terms of numerics it is desireable to automate the arc-length metric, to predict branched curves and to make sure all branches have been found. For further reading we recomment the textbooks _Nonlinear Oscillations, Dynamical Systems, and Bifurcations of Vector Fields_ by J. Guckenheimer and P. Holmes and _Elements of Applied Bifurcation Theory_ by Y. Kuznetsov."
   ]
  },
  {
   "cell_type": "code",
   "execution_count": null,
   "metadata": {},
   "outputs": [],
   "source": []
  }
 ],
 "metadata": {
  "kernelspec": {
   "display_name": "Python 3 (ipykernel)",
   "language": "python",
   "name": "python3"
  },
  "language_info": {
   "codemirror_mode": {
    "name": "ipython",
    "version": 3
   },
   "file_extension": ".py",
   "mimetype": "text/x-python",
   "name": "python",
   "nbconvert_exporter": "python",
   "pygments_lexer": "ipython3",
   "version": "3.8.10"
  }
 },
 "nbformat": 4,
 "nbformat_minor": 4
}
