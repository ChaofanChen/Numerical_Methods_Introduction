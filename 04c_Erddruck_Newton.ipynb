{
 "cells": [
  {
   "cell_type": "markdown",
   "metadata": {
    "deletable": false,
    "editable": false
   },
   "source": [
    "![Logo TUBAF](https://tu-freiberg.de/sites/default/files/media/freiberger-alumni-netzwerk-6127/wbm_orig_rgb_0.jpg)\n",
    "\n",
    "Exercise material of the MSc-level course **Numerical Methods in Geotechnical Engineering**.\n",
    "Held at Technische Universität Bergakademie Freiberg.\n",
    "\n",
    "Comments to:\n",
    "\n",
    "*Prof. Dr. Thomas Nagel  \n",
    "Chair of Soil Mechanics and Foundation Engineering  \n",
    "Geotechnical Institute  \n",
    "Technische Universität Bergakademie Freiberg.*\n",
    "\n",
    "https://tu-freiberg.de/en/fakultaet3/gt/soilmechanics\n"
   ]
  },
  {
   "cell_type": "markdown",
   "metadata": {},
   "source": [
    "# Exercise on Earth pressure and the Newton-Raphson scheme\n",
    "\n",
    "![Erddruck.png](https://raw.githubusercontent.com/nagelt/Teaching_Scripts/master/Images/Erddruck.png)"
   ]
  },
  {
   "cell_type": "markdown",
   "metadata": {},
   "source": [
    "## Geometry \n",
    "Let the retaining wall have a vertical height $H$ and the origin be placed at the bottom of the slip surface which has length $L$. Then, the problem is characterized by the following points in the $x-z$ plane:\n",
    "\n",
    "* Origin: $O = [0,0]$\n",
    "* Top left: $A = [-H \\tan \\alpha, H]$\n",
    "* Top right: $B = [L\\cos \\vartheta, L \\sin \\vartheta]$\n",
    "\n",
    "The length of the slip surface can be found via the following trigonometric relation:\n",
    "\n",
    "\\begin{align}\n",
    "    L \\sin \\vartheta &= (L \\cos \\vartheta + H \\tan\\alpha) \\tan \\beta\n",
    "\\end{align}\n",
    "\n",
    "Thus we arrive at\n",
    "\n",
    "\\begin{align}\n",
    "    L &= \\frac{H(1 + \\tan \\alpha \\tan \\beta)}{\\sin \\vartheta - \\cos \\vartheta \\tan \\beta}\n",
    "\\end{align}\n",
    "\n",
    "The area of the triangle (i.e. the volume of the slip body per meter) can also be calculated. We use Gauß' equation for that:\n",
    "\n",
    "$$\n",
    "    A = \\frac{1}{2} \\left| (x_2 y_3 - x_3 y_2) - (x_1 y_3 - x_3 y_1) + (x_1 y_2 - x_2 y_1) \\right|\n",
    "$$\n",
    "\n",
    "Let Python do the math for us ..."
   ]
  },
  {
   "cell_type": "code",
   "execution_count": 36,
   "metadata": {},
   "outputs": [],
   "source": [
    "import numpy as np #numerical methods\n",
    "#import sympy as sp #symbolic operations\n",
    "import matplotlib.pyplot as plt #plotting\n",
    "import sympy as sp\n",
    "sp.init_printing(use_latex='mathjax') #makes sympy output look nice\n",
    "\n",
    "from ipywidgets import widgets\n",
    "from ipywidgets import interact\n",
    "\n",
    "#Some plot settings\n",
    "import plot_functions.plot_settings\n",
    "%run plot_functions/earth_pressure_plots.ipynb"
   ]
  },
  {
   "cell_type": "markdown",
   "metadata": {},
   "source": [
    "We first define our geometrical properties:"
   ]
  },
  {
   "cell_type": "code",
   "execution_count": 37,
   "metadata": {},
   "outputs": [],
   "source": [
    "H,alpha,beta,theta = sp.symbols('H alpha beta vartheta')"
   ]
  },
  {
   "cell_type": "code",
   "execution_count": 38,
   "metadata": {},
   "outputs": [
    {
     "data": {
      "text/latex": [
       "$\\displaystyle \\frac{H \\left(\\tan{\\left(\\alpha \\right)} \\tan{\\left(\\beta \\right)} + 1\\right)}{\\sin{\\left(\\vartheta \\right)} - \\cos{\\left(\\vartheta \\right)} \\tan{\\left(\\beta \\right)}}$"
      ],
      "text/plain": [
       "       H⋅(tan(α)⋅tan(β) + 1)        \n",
       "────────────────────────────────────\n",
       "sin(vartheta) - cos(vartheta)⋅tan(β)"
      ]
     },
     "execution_count": 38,
     "metadata": {},
     "output_type": "execute_result"
    }
   ],
   "source": [
    "L = H*(1+sp.tan(alpha)*sp.tan(beta))/(sp.sin(theta) - sp.cos(theta) * sp.tan(beta))\n",
    "L"
   ]
  },
  {
   "cell_type": "markdown",
   "metadata": {},
   "source": [
    "We now define the function that calculates the area of the triangle:"
   ]
  },
  {
   "cell_type": "code",
   "execution_count": 39,
   "metadata": {},
   "outputs": [],
   "source": [
    "def triangle_area_Gauss(A,B,C):\n",
    "    term1 = (B[0]*C[1] - C[0] * B[1])\n",
    "    term2 = (A[0]*C[1] - C[0] * A[1])\n",
    "    term3 = (A[0]*B[1] - B[0] * A[1])\n",
    "    return -(term1 - term2 + term3)"
   ]
  },
  {
   "cell_type": "markdown",
   "metadata": {},
   "source": [
    "The points we defined above can now be inserted into this equation:"
   ]
  },
  {
   "cell_type": "code",
   "execution_count": 40,
   "metadata": {},
   "outputs": [
    {
     "data": {
      "text/latex": [
       "$\\displaystyle \\frac{H^{2} \\left(\\sin{\\left(\\vartheta \\right)} \\tan{\\left(\\alpha \\right)} + \\cos{\\left(\\vartheta \\right)}\\right) \\left(\\tan{\\left(\\alpha \\right)} \\tan{\\left(\\beta \\right)} + 1\\right)}{\\sin{\\left(\\vartheta \\right)} - \\cos{\\left(\\vartheta \\right)} \\tan{\\left(\\beta \\right)}}$"
      ],
      "text/plain": [
       " 2                                                           \n",
       "H ⋅(sin(vartheta)⋅tan(α) + cos(vartheta))⋅(tan(α)⋅tan(β) + 1)\n",
       "─────────────────────────────────────────────────────────────\n",
       "             sin(vartheta) - cos(vartheta)⋅tan(β)            "
      ]
     },
     "execution_count": 40,
     "metadata": {},
     "output_type": "execute_result"
    }
   ],
   "source": [
    "PO = [0,0]\n",
    "PA = [- H * sp.tan(alpha), H]\n",
    "PB = [L * sp.cos(theta), L*sp.sin(theta)]\n",
    "A = triangle_area_Gauss(PO,PA,PB).simplify()\n",
    "A"
   ]
  },
  {
   "cell_type": "markdown",
   "metadata": {},
   "source": [
    "Thus, the area of our triangle is given as:\n",
    "\n",
    "$$\n",
    "    A = \\frac{H^2 (\\sin \\vartheta \\tan \\alpha + \\cos \\vartheta) (\\tan \\alpha \\tan \\beta + 1)}{\\sin \\vartheta - \\cos \\vartheta \\tan \\beta}\n",
    "$$\n",
    "\n",
    "Now we can write the force balance. For that purpose, we introduce the material's specific weight $\\gamma$, friction angle $\\varphi$ and the wall friction angle $\\delta_\\text{a}$ as well as the cohesion $c$."
   ]
  },
  {
   "cell_type": "code",
   "execution_count": 41,
   "metadata": {},
   "outputs": [],
   "source": [
    "c, delta, phi, gamma = sp.symbols('c delta_a varphi gamma')"
   ]
  },
  {
   "cell_type": "markdown",
   "metadata": {},
   "source": [
    "We can now calculate the downward force due to gravity as well as the cohesive force along the slip surface. The active earth pressure force $E_\\text{a}$ and the reaction force $Q$ in the slip line are introduced as unknowns:"
   ]
  },
  {
   "cell_type": "code",
   "execution_count": 42,
   "metadata": {},
   "outputs": [],
   "source": [
    "Ea, Q, G, C = sp.symbols('E_a Q G C')"
   ]
  },
  {
   "cell_type": "markdown",
   "metadata": {},
   "source": [
    "We now write the vertical and horizontal equilibrium conditions:\n",
    "\n",
    "\\begin{align}\n",
    "    \\text{horizontal:}\\quad  0 &= C \\cos\\vartheta - Q \\sin (\\vartheta - \\varphi) + E_\\text{a} \\cos (\\alpha + \\delta_\\text{a})\n",
    "    \\\\\n",
    "    \\text{vertikal:}\\quad  0 &= C \\sin\\vartheta + Q \\cos (\\vartheta - \\varphi) + E_\\text{a} \\sin (\\alpha + \\delta_\\text{a}) - G\n",
    "\\end{align}"
   ]
  },
  {
   "cell_type": "code",
   "execution_count": 43,
   "metadata": {},
   "outputs": [],
   "source": [
    "Fh = sp.Eq(C * sp.cos(theta) - Q * sp.sin(theta - phi) + Ea * sp.cos(alpha + delta),0)\n",
    "Fv = sp.Eq(C * sp.sin(theta) + Q * sp.cos(theta - phi) + Ea * sp.sin(alpha + delta) - G,0)"
   ]
  },
  {
   "cell_type": "code",
   "execution_count": 44,
   "metadata": {},
   "outputs": [
    {
     "data": {
      "text/latex": [
       "$\\displaystyle C \\cos{\\left(\\vartheta \\right)} + E_{a} \\cos{\\left(\\alpha + \\delta_{a} \\right)} + Q \\sin{\\left(\\varphi - \\vartheta \\right)} = 0$"
      ],
      "text/plain": [
       "C⋅cos(vartheta) + Eₐ⋅cos(α + δₐ) + Q⋅sin(varphi - vartheta) = 0"
      ]
     },
     "execution_count": 44,
     "metadata": {},
     "output_type": "execute_result"
    }
   ],
   "source": [
    "Fh"
   ]
  },
  {
   "cell_type": "code",
   "execution_count": 45,
   "metadata": {},
   "outputs": [
    {
     "data": {
      "text/latex": [
       "$\\displaystyle C \\sin{\\left(\\vartheta \\right)} + E_{a} \\sin{\\left(\\alpha + \\delta_{a} \\right)} - G + Q \\cos{\\left(\\varphi - \\vartheta \\right)} = 0$"
      ],
      "text/plain": [
       "C⋅sin(vartheta) + Eₐ⋅sin(α + δₐ) - G + Q⋅cos(varphi - vartheta) = 0"
      ]
     },
     "execution_count": 45,
     "metadata": {},
     "output_type": "execute_result"
    }
   ],
   "source": [
    "Fv"
   ]
  },
  {
   "cell_type": "code",
   "execution_count": 46,
   "metadata": {},
   "outputs": [],
   "source": [
    "result = sp.solve([Fh,Fv],(Ea,Q))"
   ]
  },
  {
   "cell_type": "code",
   "execution_count": 47,
   "metadata": {},
   "outputs": [
    {
     "data": {
      "text/latex": [
       "$\\displaystyle \\left\\{ E_{a} : - \\frac{C \\cos{\\left(\\varphi \\right)} + G \\sin{\\left(\\varphi - \\vartheta \\right)}}{\\cos{\\left(\\alpha + \\delta_{a} + \\varphi - \\vartheta \\right)}}, \\  Q : \\frac{C \\sin{\\left(\\alpha + \\delta_{a} - \\vartheta \\right)} + G \\cos{\\left(\\alpha + \\delta_{a} \\right)}}{\\cos{\\left(\\alpha + \\delta_{a} + \\varphi - \\vartheta \\right)}}\\right\\}$"
      ],
      "text/plain": [
       "⎧    -(C⋅cos(varphi) + G⋅sin(varphi - vartheta))      C⋅sin(α + δₐ - vartheta)\n",
       "⎨Eₐ: ────────────────────────────────────────────, Q: ────────────────────────\n",
       "⎩          cos(α + δₐ + varphi - vartheta)                cos(α + δₐ + varphi \n",
       "\n",
       " + G⋅cos(α + δₐ)⎫\n",
       "────────────────⎬\n",
       "- vartheta)     ⎭"
      ]
     },
     "execution_count": 47,
     "metadata": {},
     "output_type": "execute_result"
    }
   ],
   "source": [
    "result"
   ]
  },
  {
   "cell_type": "markdown",
   "metadata": {},
   "source": [
    "Gravitational and cohesive forces can be determined based on material properties and geometry:"
   ]
  },
  {
   "cell_type": "code",
   "execution_count": 48,
   "metadata": {},
   "outputs": [
    {
     "data": {
      "text/latex": [
       "$\\displaystyle - \\frac{C \\left(\\sin{\\left(\\vartheta \\right)} - \\cos{\\left(\\vartheta \\right)} \\tan{\\left(\\beta \\right)}\\right) \\cos{\\left(\\varphi \\right)} + H^{2} \\gamma \\left(\\sin{\\left(\\vartheta \\right)} \\tan{\\left(\\alpha \\right)} + \\cos{\\left(\\vartheta \\right)}\\right) \\left(\\tan{\\left(\\alpha \\right)} \\tan{\\left(\\beta \\right)} + 1\\right) \\sin{\\left(\\varphi - \\vartheta \\right)}}{\\left(\\sin{\\left(\\vartheta \\right)} - \\cos{\\left(\\vartheta \\right)} \\tan{\\left(\\beta \\right)}\\right) \\cos{\\left(\\alpha + \\delta_{a} + \\varphi - \\vartheta \\right)}}$"
      ],
      "text/plain": [
       " ⎛                                                        2                   \n",
       "-⎝C⋅(sin(vartheta) - cos(vartheta)⋅tan(β))⋅cos(varphi) + H ⋅γ⋅(sin(vartheta)⋅t\n",
       "──────────────────────────────────────────────────────────────────────────────\n",
       "                                      (sin(vartheta) - cos(vartheta)⋅tan(β))⋅c\n",
       "\n",
       "                                                                 ⎞ \n",
       "an(α) + cos(vartheta))⋅(tan(α)⋅tan(β) + 1)⋅sin(varphi - vartheta)⎠ \n",
       "───────────────────────────────────────────────────────────────────\n",
       "os(α + δₐ + varphi - vartheta)                                     "
      ]
     },
     "execution_count": 48,
     "metadata": {},
     "output_type": "execute_result"
    }
   ],
   "source": [
    "result.get(Ea).subs(G,A*gamma).simplify()"
   ]
  },
  {
   "cell_type": "markdown",
   "metadata": {},
   "source": [
    "Now we would have to find the maximum with respect to $\\vartheta$ in order to identify the active earth pressure and the critical slip angle $\\vartheta_\\text{a}$. The equations get very complex and we decide to go for a numerical solution.\n",
    "\n",
    "First, we define the basic geometry of our problem:"
   ]
  },
  {
   "cell_type": "code",
   "execution_count": 49,
   "metadata": {},
   "outputs": [],
   "source": [
    "alpha = 10. * np.pi/180.\n",
    "beta = 20. * np.pi/180.\n",
    "H = 4. #m"
   ]
  },
  {
   "cell_type": "code",
   "execution_count": 50,
   "metadata": {},
   "outputs": [],
   "source": [
    "def slip_length(theta):\n",
    "    L = H * (1 + np.tan(alpha) * np.tan(beta))/(np.sin(theta) - np.cos(theta)*np.tan(beta))\n",
    "    return L"
   ]
  },
  {
   "cell_type": "code",
   "execution_count": 51,
   "metadata": {},
   "outputs": [],
   "source": [
    "def area(theta):\n",
    "    term1 = (np.tan(alpha)*np.tan(beta) + 1) * (np.sin(theta)*np.tan(alpha) + np.cos(theta))\n",
    "    term2 = np.sin(theta) - np.cos(theta) * np.tan(beta)\n",
    "    return H*H * term1 / term2"
   ]
  },
  {
   "cell_type": "markdown",
   "metadata": {},
   "source": [
    "Now we define the material properties and the interaction with the wall:"
   ]
  },
  {
   "cell_type": "code",
   "execution_count": 52,
   "metadata": {},
   "outputs": [],
   "source": [
    "gamma = 16.e3 #N/m³\n",
    "phi = np.deg2rad(30.)\n",
    "c = 30.e3 #N/m²\n",
    "delta = np.deg2rad(10.)"
   ]
  },
  {
   "cell_type": "code",
   "execution_count": 53,
   "metadata": {},
   "outputs": [],
   "source": [
    "def cohesive_force(theta):\n",
    "    return c * slip_length(theta)"
   ]
  },
  {
   "cell_type": "code",
   "execution_count": 54,
   "metadata": {},
   "outputs": [],
   "source": [
    "def weight(theta):\n",
    "    return gamma*area(theta)"
   ]
  },
  {
   "cell_type": "markdown",
   "metadata": {},
   "source": [
    "Now we have all the ingredients to calculate the active earth pressure given by the equation above:"
   ]
  },
  {
   "cell_type": "code",
   "execution_count": 55,
   "metadata": {},
   "outputs": [],
   "source": [
    "def Ea(theta):\n",
    "    term1 = weight(theta) * np.sin(theta-phi) - cohesive_force(theta) * np.cos(phi)\n",
    "    term2 = np.cos(alpha+delta+phi-theta)\n",
    "    return term1/term2"
   ]
  },
  {
   "cell_type": "markdown",
   "metadata": {},
   "source": [
    "Let's take a look at the result:"
   ]
  },
  {
   "cell_type": "code",
   "execution_count": 56,
   "metadata": {},
   "outputs": [
    {
     "data": {
      "image/png": "[encoded data removed]",
      "text/plain": [
       "<Figure size 864x576 with 1 Axes>"
      ]
     },
     "metadata": {
      "needs_background": "light"
     },
     "output_type": "display_data"
    }
   ],
   "source": [
    "thetas = np.linspace(np.pi/6,np.pi/2*0.9,100)\n",
    "plt.plot(thetas*180/np.pi,Ea(thetas)/1e6)\n",
    "plt.xlabel('$\\\\vartheta$ / °')\n",
    "plt.ylabel('$E_\\\\mathrm{a}$ / MN m$^{-1}$');"
   ]
  },
  {
   "cell_type": "markdown",
   "metadata": {},
   "source": [
    "The active earth pressure is found at the peak of this curve. In other words we need to identify\n",
    "\n",
    "$$\n",
    "    \\frac{\\partial E_\\text{a}}{\\partial \\vartheta} = 0\n",
    "$$\n",
    "\n",
    "and \n",
    "\n",
    "$$\n",
    "    \\vartheta_\\text{a} = \\underset{\\vartheta \\in [0,\\pi/2]}{\\text{arg max }}E_\\text{a}\n",
    "$$\n",
    "\n",
    "As we saw above, this is cumbersome analytically. However, we can find the solution numerically in an iterative manner.\n",
    "\n",
    "As we have\n",
    "\n",
    "$$\n",
    "    \\left. \\frac{\\partial E_\\text{a}}{\\partial \\vartheta} \\right|_{\\vartheta_\\text{a}} = 0\n",
    "$$\n",
    "\n",
    "we find for other angles the following residual:\n",
    "\n",
    "$$\n",
    "    r(\\vartheta) = \\frac{\\partial E_\\text{a}}{\\partial \\vartheta} \\neq 0\n",
    "$$\n",
    "\n",
    "to which we seek the solution\n",
    "\n",
    "$$\n",
    "    r(\\vartheta_\\text{a}) = 0\n",
    "$$\n",
    "\n",
    "Since we don't want to go through the trouble to determine the first derivative of $E_\\text{a}$ with respect to $\\vartheta$ analytically, we do so numerically by numerical differentiation using a central finite difference scheme:\n",
    "\n",
    "$$\n",
    "    \\frac{\\partial E_\\text{a}}{\\partial \\vartheta} \\approx \\frac{E_\\text{a}(\\vartheta + \\epsilon) - E_\\text{a}(\\vartheta - \\epsilon)}{2\\epsilon}\n",
    "    \\quad\n",
    "    \\text{with}\n",
    "    \\quad \\epsilon \\ll 1,\\ \\epsilon > 0\n",
    "$$"
   ]
  },
  {
   "cell_type": "code",
   "execution_count": 57,
   "metadata": {},
   "outputs": [],
   "source": [
    "def dEa_dtheta(theta,eps=1.e-4):\n",
    "    return (Ea(theta+eps) - Ea(theta-eps))/(2.*eps)"
   ]
  },
  {
   "cell_type": "markdown",
   "metadata": {},
   "source": [
    "The former function defines the slope and equals our residual:"
   ]
  },
  {
   "cell_type": "code",
   "execution_count": 58,
   "metadata": {},
   "outputs": [],
   "source": [
    "def residual(theta):\n",
    "    return dEa_dtheta(theta)"
   ]
  },
  {
   "cell_type": "markdown",
   "metadata": {},
   "source": [
    "Now, we use Newton's method to find the solution to the non-linear equation $r(\\vartheta) = 0$. We depart from a Taylor series expansion to first order around an initial guess $\\vartheta_0$:\n",
    "\n",
    "$$\n",
    "    r(\\vartheta) \\approx r(\\vartheta_0) + \\left. \\frac{\\partial r}{\\partial \\vartheta} \\right|_{\\vartheta_0} \\Delta \\vartheta \\overset{!}{=} 0\n",
    "    \\quad\n",
    "    \\text{with}\n",
    "    \\quad\n",
    "    \\Delta \\vartheta = \\vartheta - \\vartheta_0\n",
    "$$\n",
    "\n",
    "We obtain the next guess for $\\vartheta$ by rearranging:\n",
    "\n",
    "$$\n",
    "    \\vartheta = \\vartheta_0 - \\left( \\left. \\frac{\\partial r}{\\partial \\vartheta} \\right|_{\\vartheta_0} \\right)^{-1} r(\\vartheta_0)\n",
    "$$\n",
    "\n",
    "As we linearized the non-linear function, the new guess is likely still not the solution we seek. Hence, we iterate:\n",
    "\n",
    "$$\n",
    "    \\vartheta_{i+1} = \\vartheta_i - \\left( \\left. \\frac{\\partial r}{\\partial \\vartheta} \\right|_{\\vartheta_i} \\right)^{-1} r(\\vartheta_i)\n",
    "$$\n",
    "\n",
    "We terminate the solution once $\\vartheta$ no longer changes, e.g. once\n",
    "\n",
    "$$\n",
    "    | \\vartheta_{i+1} - \\vartheta_i | < \\epsilon_\\text{tol}\n",
    "$$\n",
    "\n",
    "Another criterion, which is more direct, is to determine when the residual is close enough to zero:\n",
    "\n",
    "$$\n",
    "    | r(\\vartheta_{i+1}) | < \\epsilon_\\text{tol}\n",
    "$$\n",
    "\n",
    "In order to code this algorithm, we need the first derivative of the residual with respect to $\\vartheta$ (this is actually the second derivative of $E_a$):"
   ]
  },
  {
   "cell_type": "code",
   "execution_count": 59,
   "metadata": {},
   "outputs": [],
   "source": [
    "def dr_dtheta(theta,eps=1.e-4):\n",
    "    return (residual(theta+eps) - residual(theta-eps))/(2.*eps)"
   ]
  },
  {
   "cell_type": "markdown",
   "metadata": {},
   "source": [
    "We now code the algorithm and give it a starting guess $\\vartheta_0$ and a termination tolerance $\\epsilon_\\text{tol}$:"
   ]
  },
  {
   "cell_type": "code",
   "execution_count": 60,
   "metadata": {},
   "outputs": [],
   "source": [
    "def find_theta(theta_0=np.pi/6, tol=1.e-6):\n",
    "    theta = theta_0\n",
    "    iteration_counter = 0\n",
    "    res_vec = np.array([])\n",
    "    theta_vec = np.array([theta])\n",
    "    while (np.abs(residual(theta)) > tol and iteration_counter < 100):\n",
    "        res_vec = np.append(res_vec,residual(theta))\n",
    "        theta -= residual(theta) / dr_dtheta(theta)\n",
    "        theta_vec = np.append(theta_vec,theta)\n",
    "        iteration_counter += 1\n",
    "    return theta, iteration_counter, res_vec, theta_vec"
   ]
  },
  {
   "cell_type": "markdown",
   "metadata": {},
   "source": [
    "Running this algorithm will give us the solution we seek."
   ]
  },
  {
   "cell_type": "code",
   "execution_count": 61,
   "metadata": {},
   "outputs": [],
   "source": [
    "theta_a, it, res, sols = find_theta()"
   ]
  },
  {
   "cell_type": "code",
   "execution_count": 62,
   "metadata": {},
   "outputs": [
    {
     "name": "stdout",
     "output_type": "stream",
     "text": [
      "The slip angle of 66.35 ° was found after 8 iterations. The corresponding earth pressure is -0.03 MN/m.\n"
     ]
    }
   ],
   "source": [
    "print(\"The slip angle of %.2f ° was found after %i iterations. The corresponding earth pressure is %.2f MN/m.\" \n",
    "      %(np.rad2deg(theta_a),it,Ea(theta_a)/1.e6))"
   ]
  },
  {
   "cell_type": "markdown",
   "metadata": {},
   "source": [
    "The result was found after several iterations. We may lower this number by improving our starting guess. For example, we could use the classical solution\n",
    "\n",
    "$$\n",
    "    \\vartheta_0 = \\frac{\\pi}{4} + \\frac{\\varphi}{2}\n",
    "$$"
   ]
  },
  {
   "cell_type": "code",
   "execution_count": 63,
   "metadata": {},
   "outputs": [
    {
     "name": "stdout",
     "output_type": "stream",
     "text": [
      "The slip angle of 66.35 ° was found after 4 iterations. The corresponding earth pressure is -0.03 MN/m.\n"
     ]
    }
   ],
   "source": [
    "theta_a, it, res, sols = find_theta(np.pi/4 + phi/2)\n",
    "print(\"The slip angle of %.2f ° was found after %i iterations. The corresponding earth pressure is %.2f MN/m.\" \n",
    "      %(np.rad2deg(theta_a),it,Ea(theta_a)/1.e6))"
   ]
  },
  {
   "cell_type": "markdown",
   "metadata": {},
   "source": [
    "We arrive at the same result, albeit in fewer iterations. We can check this result graphically:"
   ]
  },
  {
   "cell_type": "code",
   "execution_count": 64,
   "metadata": {},
   "outputs": [
    {
     "data": {
      "application/vnd.jupyter.widget-view+json": {
       "model_id": "4fa75ed607ea457693319d72ecfc1712",
       "version_major": 2,
       "version_minor": 0
      },
      "text/plain": [
       "interactive(children=(BoundedFloatText(value=45.0, description='$\\\\vartheta_0 / °$', max=90.0, min=10.0), Outp…"
      ]
     },
     "metadata": {},
     "output_type": "display_data"
    }
   ],
   "source": [
    "plot_iterative_interactive()"
   ]
  },
  {
   "cell_type": "markdown",
   "metadata": {},
   "source": [
    "We see that the Newton algorithm reaches quadratic convergence once we are in the proximity of the solution.\n",
    "\n",
    "If we choose an initial guess that's outside of the convergence region for the Newton scheme, we may not converge at all or to the wrong solution."
   ]
  },
  {
   "cell_type": "markdown",
   "metadata": {},
   "source": [
    "We can also compare this result to the one from DIN4085, for example:\n",
    "\n",
    "$$\n",
    "    \\vartheta_\\text{ag} = \\varphi + \\text{arctan} \\left[ \\frac{\\cos(\\varphi - \\alpha)}{\\sin(\\varphi - \\alpha) + \\sqrt{ \\displaystyle \\frac{\\sin(\\varphi + \\delta_\\text{a}) \\cos (\\alpha - \\beta)}{\\sin(\\varphi - \\beta) \\cos (\\alpha + \\delta_\\text{a})} } }  \\right]\n",
    "$$"
   ]
  },
  {
   "cell_type": "code",
   "execution_count": 65,
   "metadata": {},
   "outputs": [],
   "source": [
    "def theta_ag_norm(phi,alpha,delta,beta):\n",
    "    t1 = np.cos(phi - alpha)\n",
    "    t2 = np.sin(phi - alpha) + np.sqrt((np.sin(phi + delta)*np.cos(alpha-beta))/(np.sin(phi-beta)*np.cos(alpha+delta)))\n",
    "    return (phi + np.arctan(t1/t2))*180/np.pi"
   ]
  },
  {
   "cell_type": "code",
   "execution_count": 66,
   "metadata": {},
   "outputs": [
    {
     "name": "stdout",
     "output_type": "stream",
     "text": [
      "For the non-cohesive case the norm gives us 52.12 °.\n"
     ]
    }
   ],
   "source": [
    "print(\"For the non-cohesive case the norm gives us %.2f °.\" %theta_ag_norm(phi,alpha,delta,beta))"
   ]
  },
  {
   "cell_type": "markdown",
   "metadata": {},
   "source": [
    "## Tasks:\n",
    "\n",
    "* Check whether you get the same result by setting $c=0$.\n",
    "* Determine why some starting guesses don't work.\n",
    "* Play with the parameters and learn something."
   ]
  },
  {
   "cell_type": "code",
   "execution_count": 67,
   "metadata": {},
   "outputs": [
    {
     "data": {
      "application/vnd.jupyter.widget-view+json": {
       "model_id": "98e0bb7cba4e4a269e752dc533f603bc",
       "version_major": 2,
       "version_minor": 0
      },
      "text/plain": [
       "interactive(children=(IntSlider(value=10, description='$c$ / kN m$^{-2}$:', max=50, step=5), IntSlider(value=3…"
      ]
     },
     "metadata": {},
     "output_type": "display_data"
    }
   ],
   "source": [
    "plot_interactive_earth_pressure()"
   ]
  },
  {
   "cell_type": "markdown",
   "metadata": {},
   "source": [
    "![Erddruck.png](https://raw.githubusercontent.com/nagelt/Teaching_Scripts/master/Images/Erddruck.png)"
   ]
  }
 ],
 "metadata": {
  "kernelspec": {
   "display_name": "Python 3",
   "language": "python",
   "name": "python3"
  },
  "language_info": {
   "codemirror_mode": {
    "name": "ipython",
    "version": 3
   },
   "file_extension": ".py",
   "mimetype": "text/x-python",
   "name": "python",
   "nbconvert_exporter": "python",
   "pygments_lexer": "ipython3",
   "version": "3.8.6"
  }
 },
 "nbformat": 4,
 "nbformat_minor": 4
}
