{
 "cells": [
  {
   "cell_type": "markdown",
   "metadata": {
    "deletable": false,
    "editable": false
   },
   "source": [
    "![Logo TUBAF](https://tu-freiberg.de/sites/default/files/media/freiberger-alumni-netzwerk-6127/wbm_orig_rgb_0.jpg)\n",
    "\n",
    "Exercise material of the MSc-level course **Numerical Methods in Geotechnical Engineering**.\n",
    "Held at Technische Universität Bergakademie Freiberg.\n",
    "\n",
    "Comments to:\n",
    "\n",
    "*Prof. Dr. Thomas Nagel  \n",
    "Chair of Soil Mechanics and Foundation Engineering  \n",
    "Geotechnical Institute  \n",
    "Technische Universität Bergakademie Freiberg.*\n",
    "\n",
    "https://tu-freiberg.de/en/fakultaet3/gt/soilmechanics\n"
   ]
  },
  {
   "cell_type": "markdown",
   "metadata": {},
   "source": [
    "# Exercise 4 - Generalized midpoint rule, Newton iterations\n",
    "\n",
    "The ODE $\\dot{y} = k (y_\\text{eq} - y)^2$ is to be integrated numerically.\n",
    "\n",
    "First, we import some libraries for numerical basics and for plotting."
   ]
  },
  {
   "cell_type": "code",
   "execution_count": 1,
   "metadata": {},
   "outputs": [],
   "source": [
    "import numpy as np\n",
    "import matplotlib.pyplot as plt\n",
    "\n",
    "#Some plot settings\n",
    "plt.style.use('seaborn-deep')\n",
    "plt.rcParams['lines.linewidth']= 2.0\n",
    "plt.rcParams['lines.color']= 'black'\n",
    "plt.rcParams['legend.frameon']=True\n",
    "plt.rcParams['font.family'] = 'serif'\n",
    "plt.rcParams['legend.fontsize']=14\n",
    "plt.rcParams['font.size'] = 14\n",
    "plt.rcParams['axes.spines.right'] = False\n",
    "plt.rcParams['axes.spines.top'] = False\n",
    "plt.rcParams['axes.spines.left'] = True\n",
    "plt.rcParams['axes.spines.bottom'] = True\n",
    "plt.rcParams['axes.axisbelow'] = True\n",
    "plt.rcParams['figure.figsize'] = (8, 6)"
   ]
  },
  {
   "cell_type": "code",
   "execution_count": 2,
   "metadata": {},
   "outputs": [],
   "source": [
    "y_eq = 1.\n",
    "k = 2."
   ]
  },
  {
   "cell_type": "code",
   "execution_count": 3,
   "metadata": {},
   "outputs": [],
   "source": [
    "def y_analytical(t):#assuming y0=0\n",
    "    return k*t*y_eq**2./(1.+k*t*y_eq)"
   ]
  },
  {
   "cell_type": "markdown",
   "metadata": {},
   "source": [
    "According to the ODE definition $\\dot{y}=f[y(t),t]$ we define the rate function itself:"
   ]
  },
  {
   "cell_type": "code",
   "execution_count": 4,
   "metadata": {},
   "outputs": [],
   "source": [
    "def dy_dt(y):\n",
    "    return k*(y_eq - y)**2"
   ]
  },
  {
   "cell_type": "markdown",
   "metadata": {},
   "source": [
    "Let's plot the function and its rate for some exemplary values ($y_0 = 0$) in a time interval $t \\in [0,5]$:"
   ]
  },
  {
   "cell_type": "code",
   "execution_count": 5,
   "metadata": {},
   "outputs": [],
   "source": [
    "time = np.linspace(0,5,100)"
   ]
  },
  {
   "cell_type": "code",
   "execution_count": 6,
   "metadata": {},
   "outputs": [
    {
     "data": {
      "image/png": "[encoded data removed]",
      "text/plain": [
       "<matplotlib.figure.Figure at 0x7f50832df5f8>"
      ]
     },
     "metadata": {},
     "output_type": "display_data"
    }
   ],
   "source": [
    "plt.plot(time,y_analytical(time),label='$y$')\n",
    "plt.plot(time,dy_dt(y_analytical(time)),label='$\\\\dot{y}$')\n",
    "plt.legend()\n",
    "plt.xlabel('$t$ / s')\n",
    "plt.ylabel('$y$, $\\\\dot{y}$ / s$^{-1}$');"
   ]
  },
  {
   "cell_type": "markdown",
   "metadata": {},
   "source": [
    "Now we want to get the same result with a generalized midpoint rule. It can be considered as a weighted average between an explicit forward Euler and an implicit backward Euler scheme. For the generalized $\\alpha$-scheme we find the approximation of the time-discrete rate as\n",
    "\n",
    "$$\\displaystyle \\frac{y_{n+1}- y_n}{t_{n+1} - t_n} = [(1-\\alpha) f(y_n) + \\alpha f(y_{n+1})]$$\n",
    "\n",
    "This can be re-cast in a residual form, i.e based on an approximation error:\n",
    "\n",
    "$$r(y_{n+1}) = \\displaystyle \\frac{y_{n+1}- y_n}{t_{n+1} - t_n} - [(1-\\alpha) f(y_n) + \\alpha f(y_{n+1})]$$\n",
    "\n",
    "where we would like to find the solution $y_{n+1}$ such that $r(y_{n+1}) = 0$.\n",
    "\n",
    "Due to the non-linear dependence of $r$ on the sought solution $y_{n+1}$, the equation cannot be solved directly. We thus use the concepts of a Taylor series expansion truncated after the first member to arrive at a recursive expression:\n",
    "\n",
    "$$r(y_{n+1}) \\approx r(y_n) + \\left. \\frac{\\partial r}{\\partial y} \\right|_n \\underbrace{(y_{n+1} - y_n)}_{\\displaystyle \\Delta y_{n+1}} \\overset{!}{=} 0$$\n",
    "\n",
    "Thus, with the help of the linearization we proceed from the known solution to the new one in a linear step\n",
    "\n",
    "$$\n",
    "    y_{n+1} = y_n - \\left( \\left. \\frac{\\partial r}{\\partial y} \\right|_n \\right)^{-1} r(y_n)\n",
    "$$\n",
    "\n",
    "Because this is only a linear step, we make an error (truncation error of the Taylor series expansion). Thus, we take the new guess for $y_{n+1}$ to repeat the above step recursively until we arrive at a satisfactory solution (linearization always around the newly found state):\n",
    "\n",
    "$$\n",
    "    y_{n+1}^{i+1} = y_{n+1}^{i} - \\left( \\left. \\frac{\\partial r}{\\partial y} \\right|_{i} \\right)^{-1} r(y_{n+1}^i)\n",
    "$$\n",
    "\n",
    "To perform this update, we need two incredients: a residual evaluation and a Jacobian evaluation (aka \"linear slope\")."
   ]
  },
  {
   "cell_type": "code",
   "execution_count": 7,
   "metadata": {},
   "outputs": [],
   "source": [
    "def residual(y_i,y_n,alpha,dt):\n",
    "    return (y_i - y_n)/dt - ((1.-alpha) * dy_dt(y_n) + alpha * dy_dt(y_i))"
   ]
  },
  {
   "cell_type": "code",
   "execution_count": 8,
   "metadata": {},
   "outputs": [],
   "source": [
    "def df_dy(y):\n",
    "    return -2.*k*(y_eq - y)"
   ]
  },
  {
   "cell_type": "code",
   "execution_count": 9,
   "metadata": {},
   "outputs": [],
   "source": [
    "def jacobian(y,alpha,dt):\n",
    "    return 1./dt - alpha * df_dy(y)"
   ]
  },
  {
   "cell_type": "markdown",
   "metadata": {},
   "source": [
    "Note, that the Jacobian is constant for a given time step size (usually it is not!!). Thus, in the present case a distinction between Newton-Raphson, modified Newton, or initial stiffness methods is immaterial. In other words, an initial stiffness approach can be chosen here without any loss of convergence quality. We will demonstrate the full Newton-Raphson scheme below.\n",
    "\n",
    "The Newton update function is then as follows (returns $\\Delta y_{n+1}^{i+1} = y_{n+1}^{i+1} - y_{n+1}^i$):"
   ]
  },
  {
   "cell_type": "code",
   "execution_count": 10,
   "metadata": {},
   "outputs": [],
   "source": [
    "def Newton_Update(res,Jac):\n",
    "    return -res/Jac"
   ]
  },
  {
   "cell_type": "markdown",
   "metadata": {},
   "source": [
    "Now, for every time step we advance the system by applying the generalized midpoint Newton-Raphson update rule. Each new time step value then serves as the initial condition for the following linearization step.\n",
    "\n",
    "We will *recursively* apply the Newton update until the residual is below a specified tolerance:\n",
    "\n",
    "$\\left| r_{n+1}^{i+1}\\right| < \\epsilon_\\text{abs}$\n",
    "\n",
    "with a suitably chosen absolute tolerance set here to $10^{-6}$.\n"
   ]
  },
  {
   "cell_type": "code",
   "execution_count": 11,
   "metadata": {},
   "outputs": [],
   "source": [
    "def integrate(dt,alpha):\n",
    "    #Startwerte\n",
    "    t_end = 5.\n",
    "    absolute_tolerance = 1.e-6\n",
    "    max_iter = 1000\n",
    "    iteration_counter = np.array([0])\n",
    "    y = np.array([0.])\n",
    "    times = np.array([0.])\n",
    "    #\n",
    "    while times[-1]+dt < t_end: #repeat the loop as long as the final time step is below the end point\n",
    "        times = np.append(times,times[-1]+dt) #here define the next time point as the previous time point plus the time increment dt\n",
    "        y_old = y[-1] #Starting value for recursive update\n",
    "        i = 0\n",
    "        #\n",
    "        while True:\n",
    "            #evaluate residual\n",
    "            res = residual(y_old,y[-1],alpha,dt)\n",
    "            #if residual is below tolerance, above maximum iterations, stop iterations\n",
    "            if (np.abs(res) < absolute_tolerance or i > max_iter): \n",
    "                break\n",
    "            #evaluate Jacobian\n",
    "            Jac = jacobian(y_old,alpha,dt)\n",
    "            #perform linear step\n",
    "            y_new = y_old + Newton_Update(res,Jac)\n",
    "            #update counter\n",
    "            i += 1\n",
    "            y_old = y_new #preparation of next recursion\n",
    "\n",
    "        y = np.append(y,y_new) #append the new found solution to the solution vector\n",
    "        iteration_counter = np.append(iteration_counter,i) #store how much iterations this time step took to converge\n",
    "    return times, y, iteration_counter\n"
   ]
  },
  {
   "cell_type": "code",
   "execution_count": 12,
   "metadata": {},
   "outputs": [
    {
     "data": {
      "application/vnd.jupyter.widget-view+json": {
       "model_id": "027ecce3304149058783ba79d7b3ad46"
      }
     },
     "metadata": {},
     "output_type": "display_data"
    }
   ],
   "source": [
    "from ipywidgets import widgets\n",
    "from ipywidgets import interact\n",
    "\n",
    "@interact(dt=widgets.BoundedFloatText(value=0.2,min=1e-3,max=1,step=0.1,description='$\\Delta t$ / s'),\n",
    "          alpha=widgets.RadioButtons(options=[0,0.5,1], value=1, description='$\\\\alpha$'))\n",
    "\n",
    "def plot_CN(dt=0.1,alpha=1):\n",
    "    time_n, y_n, iter = integrate(dt,alpha)\n",
    "    fig, ax = plt.subplots(ncols=2,nrows=2,figsize=(18,12))\n",
    "    #solution\n",
    "    ax[0][0].plot(time,y_analytical(time),label='analytical')\n",
    "    ax[0][0].plot(time_n,y_n,label='numerical',marker='d',ls=':')\n",
    "    ax[0][0].legend()\n",
    "    ax[0][0].set_xlabel('$t$ / s')\n",
    "    ax[0][0].set_ylabel('$y$')\n",
    "    #error\n",
    "    ax[0][1].plot(time_n,y_n-y_analytical(time_n),ls=':',marker='d',label='absolute')\n",
    "    ax[0][1].plot(time_n[1:],(y_n[1:]-y_analytical(time_n[1:]))/y_analytical(time_n[1:]),\n",
    "               ls=':',marker='d',label='relative')\n",
    "    ax[0][1].legend()\n",
    "    ax[0][1].set_xlabel('$t$ / s')\n",
    "    ax[0][1].set_ylabel('error')\n",
    "    #iterations\n",
    "    ax[1][0].plot(iter)\n",
    "    ax[1][0].set_xlabel('time step')\n",
    "    ax[1][0].set_ylabel('number of iterations')\n",
    "    \n",
    "    plt.show()"
   ]
  },
  {
   "cell_type": "markdown",
   "metadata": {},
   "source": [
    "We can also plot the error:"
   ]
  },
  {
   "cell_type": "markdown",
   "metadata": {},
   "source": [
    "Tasks:\n",
    "\n",
    "- Compare the number of iterations with the Picard implementation (Exercise 3)\n",
    "- Investigate the influence of the time-step size\n",
    "- Repeat the analysis for $\\alpha = 1$ (Backward Euler)\n",
    "- How does the solution change for the modified NR method and the initial stiffness method? Discuss the result in terms of accuracy and iterations required to reach the result.\n",
    "- Repeat the analysis for a function with a non-constant Jacobian (one example is in lecture notes, but you may choose any other)\n"
   ]
  }
 ],
 "metadata": {
  "kernelspec": {
   "display_name": "Python 3",
   "language": "python",
   "name": "python3"
  },
  "language_info": {
   "codemirror_mode": {
    "name": "ipython",
    "version": 3
   },
   "file_extension": ".py",
   "mimetype": "text/x-python",
   "name": "python",
   "nbconvert_exporter": "python",
   "pygments_lexer": "ipython3",
   "version": "3.8.5"
  }
 },
 "nbformat": 4,
 "nbformat_minor": 4
}
